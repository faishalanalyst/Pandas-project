{
 "cells": [
  {
   "cell_type": "markdown",
   "id": "e876c78f",
   "metadata": {},
   "source": [
    "### Web Scraping of Flipkart Website using bs4:-"
   ]
  },
  {
   "cell_type": "code",
   "execution_count": 1,
   "id": "f3509517",
   "metadata": {},
   "outputs": [],
   "source": [
    "import bs4 \n",
    "import requests"
   ]
  },
  {
   "cell_type": "code",
   "execution_count": 2,
   "id": "834abd31",
   "metadata": {},
   "outputs": [
    {
     "data": {
      "text/plain": [
       "<Response [500]>"
      ]
     },
     "execution_count": 2,
     "metadata": {},
     "output_type": "execute_result"
    }
   ],
   "source": [
    "url=\"https://www.flipkart.com/search?q=laptops&otracker=search&otracker1=search&marketplace=FLIPKART&as-show=on&as=off\"\n",
    "data=requests.get(url)\n",
    "data\n"
   ]
  },
  {
   "cell_type": "code",
   "execution_count": 5,
   "id": "5aee95eb",
   "metadata": {},
   "outputs": [],
   "source": [
    "soup=bs4.BeautifulSoup(data.text,\"html.parser\") # html.parser to convert html to text\n",
    "#print(soup.prettify)  # prettify used for to show data in structure form"
   ]
  },
  {
   "cell_type": "markdown",
   "id": "4a6f9c9e",
   "metadata": {},
   "source": [
    "## Assignment :-\n",
    "1st pages of laptops in flipkart create an excel file which contain first page detail list (Name,Mrp,Price,Rating)"
   ]
  },
  {
   "cell_type": "markdown",
   "id": "43fa3f57",
   "metadata": {},
   "source": [
    "###### Laptop names:-"
   ]
  },
  {
   "cell_type": "code",
   "execution_count": 6,
   "id": "7da2b23e",
   "metadata": {},
   "outputs": [
    {
     "ename": "IndexError",
     "evalue": "list index out of range",
     "output_type": "error",
     "traceback": [
      "\u001b[1;31m---------------------------------------------------------------------------\u001b[0m",
      "\u001b[1;31mIndexError\u001b[0m                                Traceback (most recent call last)",
      "Cell \u001b[1;32mIn[6], line 4\u001b[0m\n\u001b[0;32m      1\u001b[0m \u001b[38;5;66;03m# Laptop Name\u001b[39;00m\n\u001b[0;32m      3\u001b[0m name\u001b[38;5;241m=\u001b[39msoup\u001b[38;5;241m.\u001b[39mfind_all(\u001b[38;5;124m\"\u001b[39m\u001b[38;5;124mdiv\u001b[39m\u001b[38;5;124m\"\u001b[39m,{\u001b[38;5;124m\"\u001b[39m\u001b[38;5;124mclass\u001b[39m\u001b[38;5;124m\"\u001b[39m:\u001b[38;5;124m\"\u001b[39m\u001b[38;5;124m_4rR01T\u001b[39m\u001b[38;5;124m\"\u001b[39m})\n\u001b[1;32m----> 4\u001b[0m \u001b[38;5;28mprint\u001b[39m(name[\u001b[38;5;241m0\u001b[39m]\u001b[38;5;241m.\u001b[39mtext)\n",
      "\u001b[1;31mIndexError\u001b[0m: list index out of range"
     ]
    }
   ],
   "source": [
    "# Laptop Name\n",
    "\n",
    "name=soup.find_all(\"div\",{\"class\":\"_4rR01T\"})\n",
    "print(name[0].text)"
   ]
  },
  {
   "cell_type": "markdown",
   "id": "98a79ff7",
   "metadata": {},
   "source": [
    "###### Laptop Price:-"
   ]
  },
  {
   "cell_type": "code",
   "execution_count": 7,
   "id": "35f629e4",
   "metadata": {},
   "outputs": [
    {
     "ename": "IndexError",
     "evalue": "list index out of range",
     "output_type": "error",
     "traceback": [
      "\u001b[1;31m---------------------------------------------------------------------------\u001b[0m",
      "\u001b[1;31mIndexError\u001b[0m                                Traceback (most recent call last)",
      "Cell \u001b[1;32mIn[7], line 2\u001b[0m\n\u001b[0;32m      1\u001b[0m price\u001b[38;5;241m=\u001b[39msoup\u001b[38;5;241m.\u001b[39mfind_all(\u001b[38;5;124m\"\u001b[39m\u001b[38;5;124mdiv\u001b[39m\u001b[38;5;124m\"\u001b[39m,{\u001b[38;5;124m\"\u001b[39m\u001b[38;5;124mclass\u001b[39m\u001b[38;5;124m\"\u001b[39m:\u001b[38;5;124m\"\u001b[39m\u001b[38;5;124m_30jeq3 _1_WHN1\u001b[39m\u001b[38;5;124m\"\u001b[39m})\n\u001b[1;32m----> 2\u001b[0m \u001b[38;5;28mprint\u001b[39m(price[\u001b[38;5;241m0\u001b[39m]\u001b[38;5;241m.\u001b[39mtext)\n\u001b[0;32m      3\u001b[0m \u001b[38;5;28mlen\u001b[39m(price)\n",
      "\u001b[1;31mIndexError\u001b[0m: list index out of range"
     ]
    }
   ],
   "source": [
    "price=soup.find_all(\"div\",{\"class\":\"_30jeq3 _1_WHN1\"})\n",
    "print(price[0].text)\n",
    "len(price) # No of laptop"
   ]
  },
  {
   "cell_type": "markdown",
   "id": "f6e5cd73",
   "metadata": {},
   "source": [
    "###### Laptop Mrp:-"
   ]
  },
  {
   "cell_type": "code",
   "execution_count": 8,
   "id": "31f6edc4",
   "metadata": {},
   "outputs": [
    {
     "ename": "IndexError",
     "evalue": "list index out of range",
     "output_type": "error",
     "traceback": [
      "\u001b[1;31m---------------------------------------------------------------------------\u001b[0m",
      "\u001b[1;31mIndexError\u001b[0m                                Traceback (most recent call last)",
      "Cell \u001b[1;32mIn[8], line 2\u001b[0m\n\u001b[0;32m      1\u001b[0m Mrp\u001b[38;5;241m=\u001b[39msoup\u001b[38;5;241m.\u001b[39mfind_all(\u001b[38;5;124m\"\u001b[39m\u001b[38;5;124mdiv\u001b[39m\u001b[38;5;124m\"\u001b[39m,{\u001b[38;5;124m\"\u001b[39m\u001b[38;5;124mclass\u001b[39m\u001b[38;5;124m\"\u001b[39m:\u001b[38;5;124m\"\u001b[39m\u001b[38;5;124m_3I9_wc _27UcVY\u001b[39m\u001b[38;5;124m\"\u001b[39m})\n\u001b[1;32m----> 2\u001b[0m \u001b[38;5;28mprint\u001b[39m(Mrp[\u001b[38;5;241m0\u001b[39m]\u001b[38;5;241m.\u001b[39mtext)\n\u001b[0;32m      3\u001b[0m \u001b[38;5;28mlen\u001b[39m(Mrp)\n",
      "\u001b[1;31mIndexError\u001b[0m: list index out of range"
     ]
    }
   ],
   "source": [
    "Mrp=soup.find_all(\"div\",{\"class\":\"_3I9_wc _27UcVY\"})\n",
    "print(Mrp[0].text)\n",
    "len(Mrp) "
   ]
  },
  {
   "cell_type": "markdown",
   "id": "0854db0c",
   "metadata": {},
   "source": [
    "###### Laptop Rating:-\n"
   ]
  },
  {
   "cell_type": "code",
   "execution_count": 9,
   "id": "7a22e3d8",
   "metadata": {},
   "outputs": [
    {
     "ename": "IndexError",
     "evalue": "list index out of range",
     "output_type": "error",
     "traceback": [
      "\u001b[1;31m---------------------------------------------------------------------------\u001b[0m",
      "\u001b[1;31mIndexError\u001b[0m                                Traceback (most recent call last)",
      "Cell \u001b[1;32mIn[9], line 2\u001b[0m\n\u001b[0;32m      1\u001b[0m rating\u001b[38;5;241m=\u001b[39msoup\u001b[38;5;241m.\u001b[39mfind_all(\u001b[38;5;124m\"\u001b[39m\u001b[38;5;124mdiv\u001b[39m\u001b[38;5;124m\"\u001b[39m,{\u001b[38;5;124m\"\u001b[39m\u001b[38;5;124mclass\u001b[39m\u001b[38;5;124m\"\u001b[39m:\u001b[38;5;124m\"\u001b[39m\u001b[38;5;124m_3LWZlK\u001b[39m\u001b[38;5;124m\"\u001b[39m})\n\u001b[1;32m----> 2\u001b[0m \u001b[38;5;28mprint\u001b[39m(rating[\u001b[38;5;241m0\u001b[39m]\u001b[38;5;241m.\u001b[39mtext)\n\u001b[0;32m      3\u001b[0m \u001b[38;5;28mlen\u001b[39m(rating)\n",
      "\u001b[1;31mIndexError\u001b[0m: list index out of range"
     ]
    }
   ],
   "source": [
    "rating=soup.find_all(\"div\",{\"class\":\"_3LWZlK\"})\n",
    "print(rating[0].text)\n",
    "len(rating) # No of rating is greater then 24 due to class no of 1st page and review box class no same :"
   ]
  },
  {
   "cell_type": "code",
   "execution_count": 10,
   "id": "01dd2995",
   "metadata": {},
   "outputs": [],
   "source": [
    "# Create 4 empty list:-\n",
    "nm=[]\n",
    "pr=[]\n",
    "rt=[]\n",
    "mrp=[]\n",
    "\n",
    "# Create 4 loop\n",
    "for i in name:\n",
    "    nm.append(i.text)\n",
    "\n",
    "for i in Mrp:\n",
    "    mrp.append(i.text)    \n",
    "\n",
    "for i in price:\n",
    "    pr.append(i.text)\n",
    "    \n",
    "for i in range(len(nm)):\n",
    "    rt.append(rating[i].text)"
   ]
  },
  {
   "cell_type": "code",
   "execution_count": 11,
   "id": "1fe97199",
   "metadata": {},
   "outputs": [
    {
     "data": {
      "text/html": [
       "<div>\n",
       "<style scoped>\n",
       "    .dataframe tbody tr th:only-of-type {\n",
       "        vertical-align: middle;\n",
       "    }\n",
       "\n",
       "    .dataframe tbody tr th {\n",
       "        vertical-align: top;\n",
       "    }\n",
       "\n",
       "    .dataframe thead th {\n",
       "        text-align: right;\n",
       "    }\n",
       "</style>\n",
       "<table border=\"1\" class=\"dataframe\">\n",
       "  <thead>\n",
       "    <tr style=\"text-align: right;\">\n",
       "      <th></th>\n",
       "      <th>Name</th>\n",
       "      <th>Mrp</th>\n",
       "      <th>Price</th>\n",
       "      <th>Rating</th>\n",
       "    </tr>\n",
       "  </thead>\n",
       "  <tbody>\n",
       "  </tbody>\n",
       "</table>\n",
       "</div>"
      ],
      "text/plain": [
       "Empty DataFrame\n",
       "Columns: [Name, Mrp, Price, Rating]\n",
       "Index: []"
      ]
     },
     "execution_count": 11,
     "metadata": {},
     "output_type": "execute_result"
    }
   ],
   "source": [
    "data={\"Name\":nm,\"Mrp\":mrp,\"Price\":pr,\"Rating\":rt}\n",
    "import pandas as pd\n",
    "df=pd.DataFrame(data)\n",
    "df"
   ]
  },
  {
   "cell_type": "markdown",
   "id": "85ac14e3",
   "metadata": {},
   "source": [
    "df.to_csv(\"Laptops1.csv\",index=False)\n",
    "\n",
    "They have some problem formating not work on csv file .when we create csv file in Mrp & Price column rupees symbol not show.\n"
   ]
  },
  {
   "cell_type": "code",
   "execution_count": null,
   "id": "7029f791",
   "metadata": {},
   "outputs": [],
   "source": [
    "df.to_excel(\"dataset/Laptops1.xlsx\",index=False)"
   ]
  },
  {
   "cell_type": "code",
   "execution_count": null,
   "id": "f67bb597",
   "metadata": {},
   "outputs": [],
   "source": []
  }
 ],
 "metadata": {
  "kernelspec": {
   "display_name": "Python 3 (ipykernel)",
   "language": "python",
   "name": "python3"
  },
  "language_info": {
   "codemirror_mode": {
    "name": "ipython",
    "version": 3
   },
   "file_extension": ".py",
   "mimetype": "text/x-python",
   "name": "python",
   "nbconvert_exporter": "python",
   "pygments_lexer": "ipython3",
   "version": "3.11.3"
  }
 },
 "nbformat": 4,
 "nbformat_minor": 5
}
