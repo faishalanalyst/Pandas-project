{
 "cells": [
  {
   "cell_type": "markdown",
   "id": "b0c4241f",
   "metadata": {},
   "source": [
    "## About this dataset:-  \n",
    "#### This html dataset publised by ICC (International cricket council) on this dataset 5 tables on bassed of ICC ranking (Men's Tests, ODIs, T20 & Women's ODI and T20) source of this dataset given below \n",
    "\n",
    "#### source of Dataset :- https://www.espncricinfo.com/rankings/content/page/211271.html\n",
    "\n"
   ]
  },
  {
   "cell_type": "markdown",
   "id": "7c25a887",
   "metadata": {},
   "source": [
    "######  Import necessary libraries & load data :-\n"
   ]
  },
  {
   "cell_type": "code",
   "execution_count": null,
   "id": "be3e7fbe",
   "metadata": {},
   "outputs": [],
   "source": [
    "# Libraries\n",
    "import pandas as pd\n",
    "\n",
    "# Load html data\n",
    "data=pd.read_html('https://www.espncricinfo.com/rankings/content/page/211271.html')"
   ]
  },
  {
   "cell_type": "code",
   "execution_count": null,
   "id": "7b24f9fe",
   "metadata": {},
   "outputs": [],
   "source": [
    "# type of data\n",
    "type(data)"
   ]
  },
  {
   "cell_type": "code",
   "execution_count": null,
   "id": "be3dd667",
   "metadata": {},
   "outputs": [],
   "source": [
    "data"
   ]
  },
  {
   "cell_type": "code",
   "execution_count": null,
   "id": "d01e54bf",
   "metadata": {},
   "outputs": [],
   "source": [
    "# Number of tables on this html dataset\n",
    "print(\"Number of table=\",len(data))"
   ]
  },
  {
   "cell_type": "code",
   "execution_count": null,
   "id": "cd4d9e85",
   "metadata": {},
   "outputs": [],
   "source": [
    "# Display first table in dataframe\n",
    "data[0]"
   ]
  },
  {
   "cell_type": "markdown",
   "id": "7cf2f6ee",
   "metadata": {},
   "source": [
    "# Merge all tables:-"
   ]
  },
  {
   "cell_type": "markdown",
   "id": "f12d013c",
   "metadata": {},
   "source": [
    "###### i) Pre Definded"
   ]
  },
  {
   "cell_type": "code",
   "execution_count": null,
   "id": "3a43142a",
   "metadata": {},
   "outputs": [],
   "source": [
    "# Merge all table using concat()\n",
    "df = pd.concat(data)\n",
    "df.index=range(197)         # Index in sequential order:- "
   ]
  },
  {
   "cell_type": "code",
   "execution_count": null,
   "id": "c66c5ace",
   "metadata": {},
   "outputs": [],
   "source": [
    "df"
   ]
  },
  {
   "cell_type": "markdown",
   "id": "9d67f250",
   "metadata": {},
   "source": [
    "###### ii) User defined:-"
   ]
  },
  {
   "cell_type": "code",
   "execution_count": null,
   "id": "837d8a7c",
   "metadata": {},
   "outputs": [],
   "source": [
    "# Merge all table in a dataframe:-\n",
    "\n",
    "New_df=pd.DataFrame()   # Create empty dataframe\n",
    "for i in range(len(data)):\n",
    "    New_df=New_df._append(data[i],ignore_index=True)     "
   ]
  },
  {
   "cell_type": "code",
   "execution_count": null,
   "id": "c451120b",
   "metadata": {},
   "outputs": [],
   "source": [
    "New_df"
   ]
  },
  {
   "cell_type": "code",
   "execution_count": null,
   "id": "8b19452d",
   "metadata": {},
   "outputs": [],
   "source": [
    "# Merge all table in dataframe (without using range)\n",
    "new_df2 = pd.DataFrame()\n",
    "\n",
    "for i in data:\n",
    "    new_df2 = new_df2._append([i], ignore_index=True)"
   ]
  },
  {
   "cell_type": "code",
   "execution_count": null,
   "id": "92d5724c",
   "metadata": {},
   "outputs": [],
   "source": [
    "new_df2"
   ]
  },
  {
   "cell_type": "code",
   "execution_count": null,
   "id": "e4038c86",
   "metadata": {},
   "outputs": [],
   "source": [
    "# position column in sequential order:-\n",
    "df.Pos=range(1,198) "
   ]
  },
  {
   "cell_type": "code",
   "execution_count": null,
   "id": "03c2b3d1",
   "metadata": {},
   "outputs": [],
   "source": [
    "df"
   ]
  },
  {
   "cell_type": "code",
   "execution_count": null,
   "id": "e3c04a25",
   "metadata": {},
   "outputs": [],
   "source": [
    "# position column as a index\n",
    "df=df.set_index(\"Pos\")"
   ]
  },
  {
   "cell_type": "code",
   "execution_count": null,
   "id": "56aa7405",
   "metadata": {},
   "outputs": [],
   "source": [
    "df"
   ]
  },
  {
   "cell_type": "code",
   "execution_count": null,
   "id": "363e0bb8",
   "metadata": {},
   "outputs": [],
   "source": [
    "# Create new csv file\n",
    "df.to_csv(\"dataset/ESPN New.csv\")"
   ]
  },
  {
   "cell_type": "markdown",
   "id": "ef99335f",
   "metadata": {},
   "source": [
    "## Read Your new csv file"
   ]
  },
  {
   "cell_type": "code",
   "execution_count": null,
   "id": "73a8812d",
   "metadata": {},
   "outputs": [],
   "source": [
    "df=pd.read_csv(\"dataset/ESPN New.csv\")"
   ]
  },
  {
   "cell_type": "code",
   "execution_count": null,
   "id": "2da3da98",
   "metadata": {},
   "outputs": [],
   "source": [
    "df"
   ]
  },
  {
   "cell_type": "markdown",
   "id": "9419b4b6",
   "metadata": {},
   "source": [
    "###### All Women team record:-"
   ]
  },
  {
   "cell_type": "code",
   "execution_count": null,
   "id": "8398c771",
   "metadata": {},
   "outputs": [],
   "source": [
    "df[df.Team.str.contains('Women')]\n"
   ]
  },
  {
   "cell_type": "markdown",
   "id": "7752a27e",
   "metadata": {},
   "source": [
    "###### All men's team record:-"
   ]
  },
  {
   "cell_type": "code",
   "execution_count": null,
   "id": "bee22e29",
   "metadata": {},
   "outputs": [],
   "source": [
    " df[~df['Team'].str.contains('Women')]"
   ]
  },
  {
   "cell_type": "code",
   "execution_count": null,
   "id": "fd706a68",
   "metadata": {},
   "outputs": [],
   "source": []
  }
 ],
 "metadata": {
  "kernelspec": {
   "display_name": "Python 3 (ipykernel)",
   "language": "python",
   "name": "python3"
  },
  "language_info": {
   "codemirror_mode": {
    "name": "ipython",
    "version": 3
   },
   "file_extension": ".py",
   "mimetype": "text/x-python",
   "name": "python",
   "nbconvert_exporter": "python",
   "pygments_lexer": "ipython3",
   "version": "3.11.3"
  }
 },
 "nbformat": 4,
 "nbformat_minor": 5
}
