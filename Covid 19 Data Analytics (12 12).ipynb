{
 "cells": [
  {
   "cell_type": "markdown",
   "id": "80af6425",
   "metadata": {},
   "source": [
    "# Working on Real Project with Python \n"
   ]
  },
  {
   "cell_type": "markdown",
   "id": "a53bce11",
   "metadata": {},
   "source": [
    "### Source of dataset:- https://www.kaggle.com/anandhuh/latest-covid19-india-statewise-data"
   ]
  },
  {
   "cell_type": "markdown",
   "id": "5d277bb1",
   "metadata": {},
   "source": [
    "## India Covid 19 dataset:-"
   ]
  },
  {
   "cell_type": "markdown",
   "id": "13745815",
   "metadata": {},
   "source": [
    "##### About Dataset:-\n",
    "This dataset contains latest Covid-19 India state-wise data as on September 12, 2023. This dataset can be used to analyze covid in India.\n"
   ]
  },
  {
   "cell_type": "markdown",
   "id": "2b9357be",
   "metadata": {},
   "source": [
    "###### Dataset path:-\n",
    "\"C:\\Users\\faish\\OneDrive\\Desktop\\DUCAT LECTURE\\DS project\\dataset\\Latest Covid-19 India Status.csv\""
   ]
  },
  {
   "cell_type": "code",
   "execution_count": null,
   "id": "ac6d9dea",
   "metadata": {},
   "outputs": [],
   "source": [
    "import numpy as np\n",
    "import pandas as pd\n",
    "import matplotlib.pyplot as plt"
   ]
  },
  {
   "cell_type": "markdown",
   "id": "4b24b12a",
   "metadata": {},
   "source": [
    "###### Read csv file "
   ]
  },
  {
   "cell_type": "code",
   "execution_count": null,
   "id": "0f697b3d",
   "metadata": {},
   "outputs": [],
   "source": [
    "data=pd.read_csv(\"C:\\\\Users\\\\faish\\\\OneDrive\\\\Desktop\\\\DUCAT LECTURE\\\\DS project\\\\dataset\\\\Latest Covid-19 India Status.csv\")"
   ]
  },
  {
   "cell_type": "code",
   "execution_count": null,
   "id": "590919dc",
   "metadata": {},
   "outputs": [],
   "source": [
    "# replace tab gab between a column name with \"_\"\n",
    "data.columns = data.columns.str.replace(' ','_')"
   ]
  },
  {
   "cell_type": "code",
   "execution_count": null,
   "id": "b8481c20",
   "metadata": {},
   "outputs": [],
   "source": [
    "data"
   ]
  },
  {
   "cell_type": "markdown",
   "id": "2cda794f",
   "metadata": {},
   "source": [
    "## How to Analyze DataFrames ?\n"
   ]
  },
  {
   "cell_type": "markdown",
   "id": "091d4a31",
   "metadata": {},
   "source": [
    "### .head()\n",
    "It shows the first N rows in the data (by default, N=5)."
   ]
  },
  {
   "cell_type": "code",
   "execution_count": null,
   "id": "91d5c8cc",
   "metadata": {},
   "outputs": [],
   "source": [
    "data.head()"
   ]
  },
  {
   "cell_type": "markdown",
   "id": "65e6ae18",
   "metadata": {},
   "source": [
    "### .tail()\n",
    "It shows the last N rows in the data (by default, N=5)."
   ]
  },
  {
   "cell_type": "code",
   "execution_count": null,
   "id": "38d41daf",
   "metadata": {},
   "outputs": [],
   "source": [
    "data.tail()"
   ]
  },
  {
   "cell_type": "markdown",
   "id": "41034fe0",
   "metadata": {},
   "source": [
    "### .shape\n",
    "It shows the total no. of rows and no. of columns of the dataframe"
   ]
  },
  {
   "cell_type": "code",
   "execution_count": null,
   "id": "cd7a9bc8",
   "metadata": {},
   "outputs": [],
   "source": [
    "data.shape"
   ]
  },
  {
   "cell_type": "markdown",
   "id": "9a7aeb22",
   "metadata": {},
   "source": [
    "### .index\n",
    "This attribute provides the index of the dataframe"
   ]
  },
  {
   "cell_type": "code",
   "execution_count": null,
   "id": "59f0bd81",
   "metadata": {},
   "outputs": [],
   "source": [
    "data.index"
   ]
  },
  {
   "cell_type": "markdown",
   "id": "4a705a1f",
   "metadata": {},
   "source": [
    "### .columns\n",
    "It shows the name of each column\n",
    "\n"
   ]
  },
  {
   "cell_type": "code",
   "execution_count": null,
   "id": "d8c80daf",
   "metadata": {},
   "outputs": [],
   "source": [
    "data.columns"
   ]
  },
  {
   "cell_type": "markdown",
   "id": "900a642d",
   "metadata": {},
   "source": [
    "### .dtypes\n",
    "It shows the data-type of each column"
   ]
  },
  {
   "cell_type": "code",
   "execution_count": null,
   "id": "69a0542a",
   "metadata": {},
   "outputs": [],
   "source": [
    "data.dtypes"
   ]
  },
  {
   "cell_type": "markdown",
   "id": "b46b31b6",
   "metadata": {},
   "source": [
    "### .unique()\n",
    "In a column, it shows all the unique values. It can be applied on a single column only, not on the whole dataframe."
   ]
  },
  {
   "cell_type": "code",
   "execution_count": null,
   "id": "69a98ea7",
   "metadata": {},
   "outputs": [],
   "source": [
    "data[\"State/UTs\"].unique()"
   ]
  },
  {
   "cell_type": "markdown",
   "id": "76485339",
   "metadata": {},
   "source": [
    "### .nunique()\n",
    "It shows the total no. of unique values in each column. It can be applied on a single column as well as on whole dataframe."
   ]
  },
  {
   "cell_type": "code",
   "execution_count": null,
   "id": "9ee94309",
   "metadata": {},
   "outputs": [],
   "source": [
    "data[\"State/UTs\"].nunique()"
   ]
  },
  {
   "cell_type": "markdown",
   "id": "e0b6564e",
   "metadata": {},
   "source": [
    "### .count()\n",
    "It shows the total no. of non-null values in each column. It can be applied on a single column as well as on whole dataframe."
   ]
  },
  {
   "cell_type": "code",
   "execution_count": null,
   "id": "2745fd2b",
   "metadata": {},
   "outputs": [],
   "source": [
    "data.count()"
   ]
  },
  {
   "cell_type": "markdown",
   "id": "82c3788e",
   "metadata": {},
   "source": [
    "### .value_counts()\n",
    "In a column, it shows all the unique values with their count. It can be applied on single column only."
   ]
  },
  {
   "cell_type": "code",
   "execution_count": null,
   "id": "d1dabacf",
   "metadata": {},
   "outputs": [],
   "source": [
    "data[\"Total_Cases\"].value_counts()"
   ]
  },
  {
   "cell_type": "markdown",
   "id": "e4826e2d",
   "metadata": {},
   "source": [
    "### .info()\n",
    "Provides basic information about the dataframe."
   ]
  },
  {
   "cell_type": "code",
   "execution_count": null,
   "id": "30d8b83d",
   "metadata": {},
   "outputs": [],
   "source": [
    "data.info()"
   ]
  },
  {
   "cell_type": "markdown",
   "id": "da6e7395",
   "metadata": {},
   "source": [
    "1. Print First And Last 10 Values From The Dataframe?\n"
   ]
  },
  {
   "cell_type": "code",
   "execution_count": null,
   "id": "feb1441b",
   "metadata": {},
   "outputs": [],
   "source": [
    "data.head(10),\"/n\", data.tail(10)\n"
   ]
  },
  {
   "cell_type": "markdown",
   "id": "3b13ba59",
   "metadata": {},
   "source": [
    "2. How many Rows & Columns in Dataframe?\n"
   ]
  },
  {
   "cell_type": "code",
   "execution_count": null,
   "id": "0f6f8ff9",
   "metadata": {},
   "outputs": [],
   "source": [
    "print(\"Number of Records=\",len(data.index))\n",
    "print(\"Number of Columns=\",len(data.columns))"
   ]
  },
  {
   "cell_type": "code",
   "execution_count": null,
   "id": "054f1d47",
   "metadata": {},
   "outputs": [],
   "source": [
    "print(\"Number of Records=\",data.shape[0])\n",
    "print(\"Number of Columns=\",data.shape[1])"
   ]
  },
  {
   "cell_type": "markdown",
   "id": "95ca9ac6",
   "metadata": {},
   "source": [
    "3. Display Data Types Of Each Column?\n"
   ]
  },
  {
   "cell_type": "code",
   "execution_count": null,
   "id": "aaa3d9ef",
   "metadata": {},
   "outputs": [],
   "source": [
    "data.dtypes"
   ]
  },
  {
   "cell_type": "markdown",
   "id": "aec08eee",
   "metadata": {},
   "source": [
    "4. Find Out The State Which Has Minimum Total Cases?\n"
   ]
  },
  {
   "cell_type": "code",
   "execution_count": null,
   "id": "c5eff0a0",
   "metadata": {},
   "outputs": [],
   "source": [
    "data.sort_values('Total_Cases',ascending=True).head(1)"
   ]
  },
  {
   "cell_type": "code",
   "execution_count": null,
   "id": "893f7974",
   "metadata": {},
   "outputs": [],
   "source": [
    "data.loc[data.Total_Cases.idxmin()]   # return index of min value of your given column:"
   ]
  },
  {
   "cell_type": "code",
   "execution_count": null,
   "id": "3b72d322",
   "metadata": {},
   "outputs": [],
   "source": [
    "data[data['Total_Cases'] == data['Total_Cases'].min()]\n"
   ]
  },
  {
   "cell_type": "markdown",
   "id": "a0f29f90",
   "metadata": {},
   "source": [
    "5. Find Out The State Which Has Maximum Total Cases?\n"
   ]
  },
  {
   "cell_type": "code",
   "execution_count": null,
   "id": "d582a117",
   "metadata": {},
   "outputs": [],
   "source": [
    "data.sort_values('Total_Cases',ascending=False).head(1)"
   ]
  },
  {
   "cell_type": "code",
   "execution_count": null,
   "id": "735fbb3b",
   "metadata": {},
   "outputs": [],
   "source": [
    "data.loc[data.Total_Cases.idxmax()]   # return index of max value of your given column:"
   ]
  },
  {
   "cell_type": "code",
   "execution_count": null,
   "id": "ad446622",
   "metadata": {},
   "outputs": [],
   "source": [
    "data[data['Total_Cases'] == data['Total_Cases'].max()]\n"
   ]
  },
  {
   "cell_type": "markdown",
   "id": "2672c0f3",
   "metadata": {},
   "source": [
    "6. Display All States Of India From DataFrame?\n"
   ]
  },
  {
   "cell_type": "code",
   "execution_count": null,
   "id": "fe9c8753",
   "metadata": {},
   "outputs": [],
   "source": [
    "data[\"State/UTs\"].unique()"
   ]
  },
  {
   "cell_type": "markdown",
   "id": "7c45ae79",
   "metadata": {},
   "source": [
    "7. Display All The Data Of States Having Deaths Greater Than 10000?\n"
   ]
  },
  {
   "cell_type": "code",
   "execution_count": null,
   "id": "e2004d5a",
   "metadata": {},
   "outputs": [],
   "source": [
    "data[data[\"Deaths\"]>10000]"
   ]
  },
  {
   "cell_type": "markdown",
   "id": "4774834f",
   "metadata": {},
   "source": [
    "8. Count The Total Cases Of India?\n"
   ]
  },
  {
   "cell_type": "code",
   "execution_count": null,
   "id": "10b0f360",
   "metadata": {},
   "outputs": [],
   "source": [
    "data.Total_Cases.sum()"
   ]
  },
  {
   "cell_type": "markdown",
   "id": "63cfb59c",
   "metadata": {},
   "source": [
    "9. What is the Death Ratio Of Maharashtra?\n"
   ]
  },
  {
   "cell_type": "code",
   "execution_count": null,
   "id": "2fa23f7f",
   "metadata": {},
   "outputs": [],
   "source": [
    "data[data[\"State/UTs\"]==\"Maharashtra\"][\"Death_Ratio\"].values[0]     # If you want to obtain the actual value from a single-cell DataFrame or Series, using "
   ]
  },
  {
   "cell_type": "code",
   "execution_count": null,
   "id": "5bce9061",
   "metadata": {},
   "outputs": [],
   "source": [
    "data.Death_Ratio[20]"
   ]
  },
  {
   "cell_type": "markdown",
   "id": "f41d97c7",
   "metadata": {},
   "source": [
    "10. Which State Has Minimum Death Ratio?\n"
   ]
  },
  {
   "cell_type": "code",
   "execution_count": null,
   "id": "a15ee0f5",
   "metadata": {},
   "outputs": [],
   "source": [
    "data.sort_values('Death_Ratio',ascending=True).head(1) "
   ]
  },
  {
   "cell_type": "code",
   "execution_count": null,
   "id": "8edf8d4d",
   "metadata": {},
   "outputs": [],
   "source": [
    "data.loc[data[\"Death_Ratio\"].idxmin()]"
   ]
  },
  {
   "cell_type": "code",
   "execution_count": null,
   "id": "72589fe8",
   "metadata": {},
   "outputs": [],
   "source": [
    "data[data['Death_Ratio'] == data['Death_Ratio'].min()][['State/UTs','Death_Ratio']]\n"
   ]
  },
  {
   "cell_type": "markdown",
   "id": "694c564b",
   "metadata": {},
   "source": [
    "11. Find Out The Discharged Patients From The States Maharashtra,Karnataka,MP,Gujrat?\n"
   ]
  },
  {
   "cell_type": "code",
   "execution_count": null,
   "id": "9d05ff68",
   "metadata": {},
   "outputs": [],
   "source": [
    "data[data['State/UTs'].isin(['Maharashtra','Karnataka','Madhya Pradesh','Gujarat'])][['Discharged','State/UTs']].reset_index(drop=True)\n"
   ]
  },
  {
   "cell_type": "markdown",
   "id": "271e31db",
   "metadata": {},
   "source": [
    "12. Find Out The States Having Total Cases between 1 lac to 5 lac?\n"
   ]
  },
  {
   "cell_type": "code",
   "execution_count": null,
   "id": "ce06eda0",
   "metadata": {},
   "outputs": [],
   "source": [
    "data[data.Total_Cases.between(100000,500000)]"
   ]
  },
  {
   "cell_type": "code",
   "execution_count": null,
   "id": "fdc70816",
   "metadata": {},
   "outputs": [],
   "source": [
    "data[data.Total_Cases.isin(range(100000,500000))]"
   ]
  },
  {
   "cell_type": "code",
   "execution_count": null,
   "id": "bdc1ef69",
   "metadata": {},
   "outputs": [],
   "source": [
    "data[(data['Total_Cases']>100000)&(data['Total_Cases']<500000)]"
   ]
  },
  {
   "cell_type": "markdown",
   "id": "a0758235",
   "metadata": {},
   "source": [
    "13. Display All The Data Of The States Which Has Active Cases Less Than 1000?\n"
   ]
  },
  {
   "cell_type": "code",
   "execution_count": null,
   "id": "8d7843d8",
   "metadata": {},
   "outputs": [],
   "source": [
    "data[data[\"Active\"]<1000]\n"
   ]
  },
  {
   "cell_type": "markdown",
   "id": "6bb09ee9",
   "metadata": {},
   "source": [
    "Find The index number which have active case more then 100:-"
   ]
  },
  {
   "cell_type": "code",
   "execution_count": null,
   "id": "a7755074",
   "metadata": {},
   "outputs": [],
   "source": [
    "data[data['Active'] >100].index\n"
   ]
  },
  {
   "cell_type": "code",
   "execution_count": null,
   "id": "7979787c",
   "metadata": {},
   "outputs": [],
   "source": [
    "data[data[\"Active\"].between(1,1000)].shape[0]"
   ]
  },
  {
   "cell_type": "markdown",
   "id": "51fa7d42",
   "metadata": {},
   "source": [
    "14. Make A Separate CSV File Of Data Of The States Which Has Active Cases Less\n",
    "Than 1000?"
   ]
  },
  {
   "cell_type": "code",
   "execution_count": null,
   "id": "cd8cc93c",
   "metadata": {},
   "outputs": [],
   "source": [
    "data[data[\"Active\"]<1000].to_csv(\"C:\\\\Users\\\\faish\\\\OneDrive\\\\Desktop\\\\DUCAT LECTURE\\\\DS project\\\\dataset\\\\Active_case.csv\",index=False)"
   ]
  },
  {
   "cell_type": "markdown",
   "id": "f665e8a5",
   "metadata": {},
   "source": [
    "15. Total Number Of Deaths In India?\n"
   ]
  },
  {
   "cell_type": "code",
   "execution_count": null,
   "id": "28f0a05f",
   "metadata": {},
   "outputs": [],
   "source": [
    "print(\"Total number of death in India =\",data.Deaths.sum())"
   ]
  },
  {
   "cell_type": "markdown",
   "id": "cf725991",
   "metadata": {},
   "source": [
    "16. Top 10 highest Population States in India?"
   ]
  },
  {
   "cell_type": "code",
   "execution_count": null,
   "id": "f1839362",
   "metadata": {},
   "outputs": [],
   "source": [
    "data.sort_values(\"Population\",ascending=False)[:10]"
   ]
  },
  {
   "cell_type": "markdown",
   "id": "335d7f8a",
   "metadata": {},
   "source": [
    "17. Add a new column named \"Recovery Rate\" to the dataset, calculated as the ratio of discharged cases to total cases."
   ]
  },
  {
   "cell_type": "code",
   "execution_count": null,
   "id": "45a5a19a",
   "metadata": {},
   "outputs": [],
   "source": [
    "# add recovery rate column after discharge column\n",
    "data.insert(4, 'Recovery Rate',(data['Discharged'] / data['Total_Cases']) * 100 )\n",
    "\n",
    "# add new column in last\n",
    "#data['Recovery Rate'] = (data['Discharged'] / data['Total_Cases']) * 100  \n",
    "\n",
    "data"
   ]
  },
  {
   "cell_type": "code",
   "execution_count": null,
   "id": "289a6250",
   "metadata": {},
   "outputs": [],
   "source": []
  }
 ],
 "metadata": {
  "kernelspec": {
   "display_name": "Python 3 (ipykernel)",
   "language": "python",
   "name": "python3"
  },
  "language_info": {
   "codemirror_mode": {
    "name": "ipython",
    "version": 3
   },
   "file_extension": ".py",
   "mimetype": "text/x-python",
   "name": "python",
   "nbconvert_exporter": "python",
   "pygments_lexer": "ipython3",
   "version": "3.11.3"
  }
 },
 "nbformat": 4,
 "nbformat_minor": 5
}
