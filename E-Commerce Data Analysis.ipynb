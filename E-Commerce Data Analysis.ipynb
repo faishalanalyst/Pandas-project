{
 "cells": [
  {
   "cell_type": "markdown",
   "id": "d87aef07",
   "metadata": {},
   "source": [
    "# E-Commerce Data Analysis using pandas :-\n"
   ]
  },
  {
   "cell_type": "markdown",
   "id": "8557dc1e",
   "metadata": {},
   "source": [
    "#### Source of dataset :- https://www.kaggle.com/carrie1/ecommerce-data\n"
   ]
  },
  {
   "cell_type": "markdown",
   "id": "617ec829",
   "metadata": {},
   "source": [
    "## About Dataset :-\n",
    "\n",
    "This is a transnational data set which contains all the transactions occurring between 01/12/2010 and 09/12/2011 for a UK-based and registered non-store online retail.The company mainly sells unique all-occasion gifts. Many customers of the company are wholesalers.\"\n",
    "\n",
    "Analyses for this dataset could include time series, clustering, classification and more.\n"
   ]
  },
  {
   "cell_type": "markdown",
   "id": "b4d59ae9",
   "metadata": {},
   "source": [
    "<img src='dataset/E-com.jpg' height='400' width='800'>"
   ]
  },
  {
   "cell_type": "markdown",
   "id": "0598b614",
   "metadata": {},
   "source": [
    "### All Column Names and its Description:-\n",
    "\n",
    "InvoiceNo : A number assigned to each transaction\n",
    "\n",
    "StockCode : Product code\n",
    "\n",
    "Description:Product name\n",
    "\n",
    "Quantity  : Number of products purchased for each transaction\n",
    "\n",
    "InvoiceDate:Timestamp for each transaction\n",
    "\n",
    "UnitPrice : Product price per unit\n",
    "\n",
    "CustomerID :Unique identifier each customer\n",
    "\n",
    "Country :   Country name"
   ]
  },
  {
   "cell_type": "code",
   "execution_count": 1,
   "id": "e3608522",
   "metadata": {},
   "outputs": [],
   "source": [
    "import pandas as pd\n",
    "import matplotlib.pyplot as plt"
   ]
  },
  {
   "cell_type": "code",
   "execution_count": 2,
   "id": "34ddcd15",
   "metadata": {},
   "outputs": [],
   "source": [
    "df=pd.read_csv(\"dataset/E_data.csv\",encoding=\"cp1252\")   #(encoding=latin)"
   ]
  },
  {
   "cell_type": "code",
   "execution_count": 3,
   "id": "62911bf1",
   "metadata": {},
   "outputs": [
    {
     "data": {
      "text/html": [
       "<div>\n",
       "<style scoped>\n",
       "    .dataframe tbody tr th:only-of-type {\n",
       "        vertical-align: middle;\n",
       "    }\n",
       "\n",
       "    .dataframe tbody tr th {\n",
       "        vertical-align: top;\n",
       "    }\n",
       "\n",
       "    .dataframe thead th {\n",
       "        text-align: right;\n",
       "    }\n",
       "</style>\n",
       "<table border=\"1\" class=\"dataframe\">\n",
       "  <thead>\n",
       "    <tr style=\"text-align: right;\">\n",
       "      <th></th>\n",
       "      <th>InvoiceNo</th>\n",
       "      <th>StockCode</th>\n",
       "      <th>Description</th>\n",
       "      <th>Quantity</th>\n",
       "      <th>InvoiceDate</th>\n",
       "      <th>UnitPrice</th>\n",
       "      <th>CustomerID</th>\n",
       "      <th>Country</th>\n",
       "    </tr>\n",
       "  </thead>\n",
       "  <tbody>\n",
       "    <tr>\n",
       "      <th>0</th>\n",
       "      <td>536365</td>\n",
       "      <td>85123A</td>\n",
       "      <td>WHITE HANGING HEART T-LIGHT HOLDER</td>\n",
       "      <td>6</td>\n",
       "      <td>12-01-2010 08:26</td>\n",
       "      <td>2.55</td>\n",
       "      <td>17850.0</td>\n",
       "      <td>United Kingdom</td>\n",
       "    </tr>\n",
       "    <tr>\n",
       "      <th>1</th>\n",
       "      <td>536365</td>\n",
       "      <td>71053</td>\n",
       "      <td>WHITE METAL LANTERN</td>\n",
       "      <td>6</td>\n",
       "      <td>12-01-2010 08:26</td>\n",
       "      <td>3.39</td>\n",
       "      <td>17850.0</td>\n",
       "      <td>United Kingdom</td>\n",
       "    </tr>\n",
       "  </tbody>\n",
       "</table>\n",
       "</div>"
      ],
      "text/plain": [
       "  InvoiceNo StockCode                         Description  Quantity  \\\n",
       "0    536365    85123A  WHITE HANGING HEART T-LIGHT HOLDER         6   \n",
       "1    536365     71053                 WHITE METAL LANTERN         6   \n",
       "\n",
       "        InvoiceDate  UnitPrice  CustomerID         Country  \n",
       "0  12-01-2010 08:26       2.55     17850.0  United Kingdom  \n",
       "1  12-01-2010 08:26       3.39     17850.0  United Kingdom  "
      ]
     },
     "execution_count": 3,
     "metadata": {},
     "output_type": "execute_result"
    }
   ],
   "source": [
    "# display first 2 record\n",
    "df.head(2)"
   ]
  },
  {
   "cell_type": "markdown",
   "id": "b7b33a96",
   "metadata": {},
   "source": [
    "### Basic information about dataset:-"
   ]
  },
  {
   "cell_type": "code",
   "execution_count": 4,
   "id": "c548ab97",
   "metadata": {},
   "outputs": [
    {
     "name": "stdout",
     "output_type": "stream",
     "text": [
      "<class 'pandas.core.frame.DataFrame'>\n",
      "RangeIndex: 541909 entries, 0 to 541908\n",
      "Data columns (total 8 columns):\n",
      " #   Column       Non-Null Count   Dtype  \n",
      "---  ------       --------------   -----  \n",
      " 0   InvoiceNo    541909 non-null  object \n",
      " 1   StockCode    541909 non-null  object \n",
      " 2   Description  540455 non-null  object \n",
      " 3   Quantity     541909 non-null  int64  \n",
      " 4   InvoiceDate  541909 non-null  object \n",
      " 5   UnitPrice    541909 non-null  float64\n",
      " 6   CustomerID   406829 non-null  float64\n",
      " 7   Country      541909 non-null  object \n",
      "dtypes: float64(2), int64(1), object(5)\n",
      "memory usage: 33.1+ MB\n"
     ]
    }
   ],
   "source": [
    "df.info()"
   ]
  },
  {
   "cell_type": "markdown",
   "id": "0e8efe95",
   "metadata": {},
   "source": [
    "Numeric details of dataset:-"
   ]
  },
  {
   "cell_type": "code",
   "execution_count": 5,
   "id": "ac0e7017",
   "metadata": {},
   "outputs": [
    {
     "data": {
      "text/html": [
       "<div>\n",
       "<style scoped>\n",
       "    .dataframe tbody tr th:only-of-type {\n",
       "        vertical-align: middle;\n",
       "    }\n",
       "\n",
       "    .dataframe tbody tr th {\n",
       "        vertical-align: top;\n",
       "    }\n",
       "\n",
       "    .dataframe thead th {\n",
       "        text-align: right;\n",
       "    }\n",
       "</style>\n",
       "<table border=\"1\" class=\"dataframe\">\n",
       "  <thead>\n",
       "    <tr style=\"text-align: right;\">\n",
       "      <th></th>\n",
       "      <th>Quantity</th>\n",
       "      <th>UnitPrice</th>\n",
       "      <th>CustomerID</th>\n",
       "    </tr>\n",
       "  </thead>\n",
       "  <tbody>\n",
       "    <tr>\n",
       "      <th>count</th>\n",
       "      <td>541909.00</td>\n",
       "      <td>541909.00</td>\n",
       "      <td>406829.00</td>\n",
       "    </tr>\n",
       "    <tr>\n",
       "      <th>mean</th>\n",
       "      <td>9.55</td>\n",
       "      <td>4.61</td>\n",
       "      <td>15287.69</td>\n",
       "    </tr>\n",
       "    <tr>\n",
       "      <th>std</th>\n",
       "      <td>218.08</td>\n",
       "      <td>96.76</td>\n",
       "      <td>1713.60</td>\n",
       "    </tr>\n",
       "    <tr>\n",
       "      <th>min</th>\n",
       "      <td>-80995.00</td>\n",
       "      <td>-11062.06</td>\n",
       "      <td>12346.00</td>\n",
       "    </tr>\n",
       "    <tr>\n",
       "      <th>25%</th>\n",
       "      <td>1.00</td>\n",
       "      <td>1.25</td>\n",
       "      <td>13953.00</td>\n",
       "    </tr>\n",
       "    <tr>\n",
       "      <th>50%</th>\n",
       "      <td>3.00</td>\n",
       "      <td>2.08</td>\n",
       "      <td>15152.00</td>\n",
       "    </tr>\n",
       "    <tr>\n",
       "      <th>75%</th>\n",
       "      <td>10.00</td>\n",
       "      <td>4.13</td>\n",
       "      <td>16791.00</td>\n",
       "    </tr>\n",
       "    <tr>\n",
       "      <th>max</th>\n",
       "      <td>80995.00</td>\n",
       "      <td>38970.00</td>\n",
       "      <td>18287.00</td>\n",
       "    </tr>\n",
       "  </tbody>\n",
       "</table>\n",
       "</div>"
      ],
      "text/plain": [
       "        Quantity  UnitPrice  CustomerID\n",
       "count  541909.00  541909.00   406829.00\n",
       "mean        9.55       4.61    15287.69\n",
       "std       218.08      96.76     1713.60\n",
       "min    -80995.00  -11062.06    12346.00\n",
       "25%         1.00       1.25    13953.00\n",
       "50%         3.00       2.08    15152.00\n",
       "75%        10.00       4.13    16791.00\n",
       "max     80995.00   38970.00    18287.00"
      ]
     },
     "execution_count": 5,
     "metadata": {},
     "output_type": "execute_result"
    }
   ],
   "source": [
    "df.describe().round(2)          # round use to set how many digit display after decimal"
   ]
  },
  {
   "cell_type": "markdown",
   "id": "9085568c",
   "metadata": {},
   "source": [
    "###### 1. InvoiceDate column converts string format into datetime format?"
   ]
  },
  {
   "cell_type": "code",
   "execution_count": 6,
   "id": "2cb38d0c",
   "metadata": {},
   "outputs": [],
   "source": [
    "df=pd.read_csv(\"dataset/E_data.csv\",parse_dates=[\"InvoiceDate\"],encoding=\"latin\")"
   ]
  },
  {
   "cell_type": "code",
   "execution_count": 7,
   "id": "2c7bf306",
   "metadata": {},
   "outputs": [
    {
     "name": "stdout",
     "output_type": "stream",
     "text": [
      "<class 'pandas.core.frame.DataFrame'>\n",
      "RangeIndex: 541909 entries, 0 to 541908\n",
      "Data columns (total 8 columns):\n",
      " #   Column       Non-Null Count   Dtype         \n",
      "---  ------       --------------   -----         \n",
      " 0   InvoiceNo    541909 non-null  object        \n",
      " 1   StockCode    541909 non-null  object        \n",
      " 2   Description  540455 non-null  object        \n",
      " 3   Quantity     541909 non-null  int64         \n",
      " 4   InvoiceDate  541909 non-null  datetime64[ns]\n",
      " 5   UnitPrice    541909 non-null  float64       \n",
      " 6   CustomerID   406829 non-null  float64       \n",
      " 7   Country      541909 non-null  object        \n",
      "dtypes: datetime64[ns](1), float64(2), int64(1), object(4)\n",
      "memory usage: 33.1+ MB\n"
     ]
    }
   ],
   "source": [
    "df.info()"
   ]
  },
  {
   "cell_type": "markdown",
   "id": "c047b8fc",
   "metadata": {},
   "source": [
    "###### 2. How to find out total no. of records\n"
   ]
  },
  {
   "cell_type": "code",
   "execution_count": 8,
   "id": "c8f959f1",
   "metadata": {},
   "outputs": [
    {
     "name": "stdout",
     "output_type": "stream",
     "text": [
      "Total number of records= 541909\n"
     ]
    }
   ],
   "source": [
    "print(\"Total number of records=\",df.shape[0])"
   ]
  },
  {
   "cell_type": "code",
   "execution_count": 9,
   "id": "b8e14eac",
   "metadata": {},
   "outputs": [
    {
     "name": "stdout",
     "output_type": "stream",
     "text": [
      "Number of Records= 541909\n"
     ]
    }
   ],
   "source": [
    "print(\"Number of Records=\",len(df.index))"
   ]
  },
  {
   "cell_type": "markdown",
   "id": "c641a4b8",
   "metadata": {},
   "source": [
    "###### 3. How to find out total no. of columns?"
   ]
  },
  {
   "cell_type": "code",
   "execution_count": 10,
   "id": "2001414d",
   "metadata": {},
   "outputs": [
    {
     "name": "stdout",
     "output_type": "stream",
     "text": [
      "Total number of records= 8\n"
     ]
    }
   ],
   "source": [
    "print(\"Total number of records=\",df.shape[1])"
   ]
  },
  {
   "cell_type": "code",
   "execution_count": 11,
   "id": "71a048bf",
   "metadata": {},
   "outputs": [
    {
     "name": "stdout",
     "output_type": "stream",
     "text": [
      "Number of Columns= 8\n"
     ]
    }
   ],
   "source": [
    "print(\"Number of Columns=\",len(df.columns))"
   ]
  },
  {
   "cell_type": "markdown",
   "id": "02f3f1d1",
   "metadata": {},
   "source": [
    "###### 4. Display all column names ?\n"
   ]
  },
  {
   "cell_type": "code",
   "execution_count": 12,
   "id": "3eea19fa",
   "metadata": {},
   "outputs": [
    {
     "data": {
      "text/plain": [
       "Index(['InvoiceNo', 'StockCode', 'Description', 'Quantity', 'InvoiceDate',\n",
       "       'UnitPrice', 'CustomerID', 'Country'],\n",
       "      dtype='object')"
      ]
     },
     "execution_count": 12,
     "metadata": {},
     "output_type": "execute_result"
    }
   ],
   "source": [
    "df.columns"
   ]
  },
  {
   "cell_type": "code",
   "execution_count": 13,
   "id": "9d12e125",
   "metadata": {},
   "outputs": [
    {
     "data": {
      "text/plain": [
       "['InvoiceNo',\n",
       " 'StockCode',\n",
       " 'Description',\n",
       " 'Quantity',\n",
       " 'InvoiceDate',\n",
       " 'UnitPrice',\n",
       " 'CustomerID',\n",
       " 'Country']"
      ]
     },
     "execution_count": 13,
     "metadata": {},
     "output_type": "execute_result"
    }
   ],
   "source": [
    "df.columns.to_list()"
   ]
  },
  {
   "cell_type": "markdown",
   "id": "57d7a069",
   "metadata": {},
   "source": [
    "###### 5. How to find out all missing values for each columns?\n"
   ]
  },
  {
   "cell_type": "code",
   "execution_count": 14,
   "id": "efd4402a",
   "metadata": {},
   "outputs": [
    {
     "name": "stdout",
     "output_type": "stream",
     "text": [
      "Any Missing Value? True\n"
     ]
    }
   ],
   "source": [
    "# check null value or not\n",
    "print(\"Any Missing Value?\",df.isnull().values.any())"
   ]
  },
  {
   "cell_type": "code",
   "execution_count": 15,
   "id": "603712a2",
   "metadata": {},
   "outputs": [
    {
     "data": {
      "text/plain": [
       "InvoiceNo           0\n",
       "StockCode           0\n",
       "Description      1454\n",
       "Quantity            0\n",
       "InvoiceDate         0\n",
       "UnitPrice           0\n",
       "CustomerID     135080\n",
       "Country             0\n",
       "dtype: int64"
      ]
     },
     "execution_count": 15,
     "metadata": {},
     "output_type": "execute_result"
    }
   ],
   "source": [
    "df.isnull().sum()"
   ]
  },
  {
   "cell_type": "markdown",
   "id": "7b702652",
   "metadata": {},
   "source": [
    "###### 6. First Show all Quantity has negative values records?\n"
   ]
  },
  {
   "cell_type": "code",
   "execution_count": 16,
   "id": "92e1e848",
   "metadata": {},
   "outputs": [
    {
     "data": {
      "text/html": [
       "<div>\n",
       "<style scoped>\n",
       "    .dataframe tbody tr th:only-of-type {\n",
       "        vertical-align: middle;\n",
       "    }\n",
       "\n",
       "    .dataframe tbody tr th {\n",
       "        vertical-align: top;\n",
       "    }\n",
       "\n",
       "    .dataframe thead th {\n",
       "        text-align: right;\n",
       "    }\n",
       "</style>\n",
       "<table border=\"1\" class=\"dataframe\">\n",
       "  <thead>\n",
       "    <tr style=\"text-align: right;\">\n",
       "      <th></th>\n",
       "      <th>InvoiceNo</th>\n",
       "      <th>StockCode</th>\n",
       "      <th>Description</th>\n",
       "      <th>Quantity</th>\n",
       "      <th>InvoiceDate</th>\n",
       "      <th>UnitPrice</th>\n",
       "      <th>CustomerID</th>\n",
       "      <th>Country</th>\n",
       "    </tr>\n",
       "  </thead>\n",
       "  <tbody>\n",
       "    <tr>\n",
       "      <th>141</th>\n",
       "      <td>C536379</td>\n",
       "      <td>D</td>\n",
       "      <td>Discount</td>\n",
       "      <td>-1</td>\n",
       "      <td>2010-12-01 09:41:00</td>\n",
       "      <td>27.50</td>\n",
       "      <td>14527.0</td>\n",
       "      <td>United Kingdom</td>\n",
       "    </tr>\n",
       "    <tr>\n",
       "      <th>154</th>\n",
       "      <td>C536383</td>\n",
       "      <td>35004C</td>\n",
       "      <td>SET OF 3 COLOURED  FLYING DUCKS</td>\n",
       "      <td>-1</td>\n",
       "      <td>2010-12-01 09:49:00</td>\n",
       "      <td>4.65</td>\n",
       "      <td>15311.0</td>\n",
       "      <td>United Kingdom</td>\n",
       "    </tr>\n",
       "    <tr>\n",
       "      <th>235</th>\n",
       "      <td>C536391</td>\n",
       "      <td>22556</td>\n",
       "      <td>PLASTERS IN TIN CIRCUS PARADE</td>\n",
       "      <td>-12</td>\n",
       "      <td>2010-12-01 10:24:00</td>\n",
       "      <td>1.65</td>\n",
       "      <td>17548.0</td>\n",
       "      <td>United Kingdom</td>\n",
       "    </tr>\n",
       "    <tr>\n",
       "      <th>236</th>\n",
       "      <td>C536391</td>\n",
       "      <td>21984</td>\n",
       "      <td>PACK OF 12 PINK PAISLEY TISSUES</td>\n",
       "      <td>-24</td>\n",
       "      <td>2010-12-01 10:24:00</td>\n",
       "      <td>0.29</td>\n",
       "      <td>17548.0</td>\n",
       "      <td>United Kingdom</td>\n",
       "    </tr>\n",
       "    <tr>\n",
       "      <th>237</th>\n",
       "      <td>C536391</td>\n",
       "      <td>21983</td>\n",
       "      <td>PACK OF 12 BLUE PAISLEY TISSUES</td>\n",
       "      <td>-24</td>\n",
       "      <td>2010-12-01 10:24:00</td>\n",
       "      <td>0.29</td>\n",
       "      <td>17548.0</td>\n",
       "      <td>United Kingdom</td>\n",
       "    </tr>\n",
       "    <tr>\n",
       "      <th>...</th>\n",
       "      <td>...</td>\n",
       "      <td>...</td>\n",
       "      <td>...</td>\n",
       "      <td>...</td>\n",
       "      <td>...</td>\n",
       "      <td>...</td>\n",
       "      <td>...</td>\n",
       "      <td>...</td>\n",
       "    </tr>\n",
       "    <tr>\n",
       "      <th>540449</th>\n",
       "      <td>C581490</td>\n",
       "      <td>23144</td>\n",
       "      <td>ZINC T-LIGHT HOLDER STARS SMALL</td>\n",
       "      <td>-11</td>\n",
       "      <td>2011-12-09 09:57:00</td>\n",
       "      <td>0.83</td>\n",
       "      <td>14397.0</td>\n",
       "      <td>United Kingdom</td>\n",
       "    </tr>\n",
       "    <tr>\n",
       "      <th>541541</th>\n",
       "      <td>C581499</td>\n",
       "      <td>M</td>\n",
       "      <td>Manual</td>\n",
       "      <td>-1</td>\n",
       "      <td>2011-12-09 10:28:00</td>\n",
       "      <td>224.69</td>\n",
       "      <td>15498.0</td>\n",
       "      <td>United Kingdom</td>\n",
       "    </tr>\n",
       "    <tr>\n",
       "      <th>541715</th>\n",
       "      <td>C581568</td>\n",
       "      <td>21258</td>\n",
       "      <td>VICTORIAN SEWING BOX LARGE</td>\n",
       "      <td>-5</td>\n",
       "      <td>2011-12-09 11:57:00</td>\n",
       "      <td>10.95</td>\n",
       "      <td>15311.0</td>\n",
       "      <td>United Kingdom</td>\n",
       "    </tr>\n",
       "    <tr>\n",
       "      <th>541716</th>\n",
       "      <td>C581569</td>\n",
       "      <td>84978</td>\n",
       "      <td>HANGING HEART JAR T-LIGHT HOLDER</td>\n",
       "      <td>-1</td>\n",
       "      <td>2011-12-09 11:58:00</td>\n",
       "      <td>1.25</td>\n",
       "      <td>17315.0</td>\n",
       "      <td>United Kingdom</td>\n",
       "    </tr>\n",
       "    <tr>\n",
       "      <th>541717</th>\n",
       "      <td>C581569</td>\n",
       "      <td>20979</td>\n",
       "      <td>36 PENCILS TUBE RED RETROSPOT</td>\n",
       "      <td>-5</td>\n",
       "      <td>2011-12-09 11:58:00</td>\n",
       "      <td>1.25</td>\n",
       "      <td>17315.0</td>\n",
       "      <td>United Kingdom</td>\n",
       "    </tr>\n",
       "  </tbody>\n",
       "</table>\n",
       "<p>10624 rows × 8 columns</p>\n",
       "</div>"
      ],
      "text/plain": [
       "       InvoiceNo StockCode                       Description  Quantity  \\\n",
       "141      C536379         D                          Discount        -1   \n",
       "154      C536383    35004C   SET OF 3 COLOURED  FLYING DUCKS        -1   \n",
       "235      C536391     22556    PLASTERS IN TIN CIRCUS PARADE        -12   \n",
       "236      C536391     21984  PACK OF 12 PINK PAISLEY TISSUES        -24   \n",
       "237      C536391     21983  PACK OF 12 BLUE PAISLEY TISSUES        -24   \n",
       "...          ...       ...                               ...       ...   \n",
       "540449   C581490     23144   ZINC T-LIGHT HOLDER STARS SMALL       -11   \n",
       "541541   C581499         M                            Manual        -1   \n",
       "541715   C581568     21258        VICTORIAN SEWING BOX LARGE        -5   \n",
       "541716   C581569     84978  HANGING HEART JAR T-LIGHT HOLDER        -1   \n",
       "541717   C581569     20979     36 PENCILS TUBE RED RETROSPOT        -5   \n",
       "\n",
       "               InvoiceDate  UnitPrice  CustomerID         Country  \n",
       "141    2010-12-01 09:41:00      27.50     14527.0  United Kingdom  \n",
       "154    2010-12-01 09:49:00       4.65     15311.0  United Kingdom  \n",
       "235    2010-12-01 10:24:00       1.65     17548.0  United Kingdom  \n",
       "236    2010-12-01 10:24:00       0.29     17548.0  United Kingdom  \n",
       "237    2010-12-01 10:24:00       0.29     17548.0  United Kingdom  \n",
       "...                    ...        ...         ...             ...  \n",
       "540449 2011-12-09 09:57:00       0.83     14397.0  United Kingdom  \n",
       "541541 2011-12-09 10:28:00     224.69     15498.0  United Kingdom  \n",
       "541715 2011-12-09 11:57:00      10.95     15311.0  United Kingdom  \n",
       "541716 2011-12-09 11:58:00       1.25     17315.0  United Kingdom  \n",
       "541717 2011-12-09 11:58:00       1.25     17315.0  United Kingdom  \n",
       "\n",
       "[10624 rows x 8 columns]"
      ]
     },
     "execution_count": 16,
     "metadata": {},
     "output_type": "execute_result"
    }
   ],
   "source": [
    "df[df['Quantity'] < 0]"
   ]
  },
  {
   "cell_type": "markdown",
   "id": "4a572b45",
   "metadata": {},
   "source": [
    "###### 7. Then find out total shape of Quantity has negative values records?\n"
   ]
  },
  {
   "cell_type": "code",
   "execution_count": 17,
   "id": "e055109b",
   "metadata": {},
   "outputs": [
    {
     "name": "stdout",
     "output_type": "stream",
     "text": [
      "Number of negative records in quantity= 10624\n"
     ]
    }
   ],
   "source": [
    "print(\"Number of negative records in quantity=\",df[df['Quantity'] < 0].shape[0])"
   ]
  },
  {
   "cell_type": "markdown",
   "id": "0e8e4d51",
   "metadata": {},
   "source": [
    "###### 8. How to remove all Quantity records with negative values?\n"
   ]
  },
  {
   "cell_type": "code",
   "execution_count": 18,
   "id": "614afac1",
   "metadata": {},
   "outputs": [],
   "source": [
    "df_new=df[~(df[\"Quantity\"]<0)].reset_index(drop=True)    # ~ Tilde's sign(not symbol)"
   ]
  },
  {
   "cell_type": "raw",
   "id": "d8be8c90",
   "metadata": {},
   "source": [
    "negat_records = df[df[\"Quantity\"] < 0]\n",
    "df.drop(negat_records.index, inplace=True)\n",
    "               or\n",
    "df[df[\"Quantity\"]>=0]       "
   ]
  },
  {
   "cell_type": "markdown",
   "id": "40f42ed3",
   "metadata": {},
   "source": [
    "###### 9. Then find out total records shape ? \n"
   ]
  },
  {
   "cell_type": "code",
   "execution_count": 19,
   "id": "3cedf69e",
   "metadata": {},
   "outputs": [
    {
     "data": {
      "text/plain": [
       "531285"
      ]
     },
     "execution_count": 19,
     "metadata": {},
     "output_type": "execute_result"
    }
   ],
   "source": [
    "df_new.shape[0]"
   ]
  },
  {
   "cell_type": "markdown",
   "id": "63eb55c0",
   "metadata": {},
   "source": [
    "###### 10. After UnitPrice column insert new column Amount_Spent & also formula assigned?"
   ]
  },
  {
   "cell_type": "code",
   "execution_count": 20,
   "id": "f49f6d10",
   "metadata": {},
   "outputs": [],
   "source": [
    "df_new.insert(6, 'Amount_Spent', df_new['Quantity'] * df_new['UnitPrice'])"
   ]
  },
  {
   "cell_type": "code",
   "execution_count": 21,
   "id": "bb5bead6",
   "metadata": {},
   "outputs": [
    {
     "data": {
      "text/html": [
       "<div>\n",
       "<style scoped>\n",
       "    .dataframe tbody tr th:only-of-type {\n",
       "        vertical-align: middle;\n",
       "    }\n",
       "\n",
       "    .dataframe tbody tr th {\n",
       "        vertical-align: top;\n",
       "    }\n",
       "\n",
       "    .dataframe thead th {\n",
       "        text-align: right;\n",
       "    }\n",
       "</style>\n",
       "<table border=\"1\" class=\"dataframe\">\n",
       "  <thead>\n",
       "    <tr style=\"text-align: right;\">\n",
       "      <th></th>\n",
       "      <th>InvoiceNo</th>\n",
       "      <th>StockCode</th>\n",
       "      <th>Description</th>\n",
       "      <th>Quantity</th>\n",
       "      <th>InvoiceDate</th>\n",
       "      <th>UnitPrice</th>\n",
       "      <th>Amount_Spent</th>\n",
       "      <th>CustomerID</th>\n",
       "      <th>Country</th>\n",
       "    </tr>\n",
       "  </thead>\n",
       "  <tbody>\n",
       "    <tr>\n",
       "      <th>0</th>\n",
       "      <td>536365</td>\n",
       "      <td>85123A</td>\n",
       "      <td>WHITE HANGING HEART T-LIGHT HOLDER</td>\n",
       "      <td>6</td>\n",
       "      <td>2010-12-01 08:26:00</td>\n",
       "      <td>2.55</td>\n",
       "      <td>15.30</td>\n",
       "      <td>17850.0</td>\n",
       "      <td>United Kingdom</td>\n",
       "    </tr>\n",
       "    <tr>\n",
       "      <th>1</th>\n",
       "      <td>536365</td>\n",
       "      <td>71053</td>\n",
       "      <td>WHITE METAL LANTERN</td>\n",
       "      <td>6</td>\n",
       "      <td>2010-12-01 08:26:00</td>\n",
       "      <td>3.39</td>\n",
       "      <td>20.34</td>\n",
       "      <td>17850.0</td>\n",
       "      <td>United Kingdom</td>\n",
       "    </tr>\n",
       "  </tbody>\n",
       "</table>\n",
       "</div>"
      ],
      "text/plain": [
       "  InvoiceNo StockCode                         Description  Quantity  \\\n",
       "0    536365    85123A  WHITE HANGING HEART T-LIGHT HOLDER         6   \n",
       "1    536365     71053                 WHITE METAL LANTERN         6   \n",
       "\n",
       "          InvoiceDate  UnitPrice  Amount_Spent  CustomerID         Country  \n",
       "0 2010-12-01 08:26:00       2.55         15.30     17850.0  United Kingdom  \n",
       "1 2010-12-01 08:26:00       3.39         20.34     17850.0  United Kingdom  "
      ]
     },
     "execution_count": 21,
     "metadata": {},
     "output_type": "execute_result"
    }
   ],
   "source": [
    "df_new.head(2)"
   ]
  },
  {
   "cell_type": "markdown",
   "id": "77cfb78e",
   "metadata": {},
   "source": [
    "###### 11. We add a few columns after InvoiceDate that consist of the Year, Month, Day and Hour for each transaction for analysis work."
   ]
  },
  {
   "cell_type": "code",
   "execution_count": 22,
   "id": "e24e78c3",
   "metadata": {},
   "outputs": [],
   "source": [
    "df_new.insert(5, 'Invoice_Year',df_new.InvoiceDate.dt.year)\n",
    "df_new.insert(6, 'Invoice_Month',df_new.InvoiceDate.dt.month)\n",
    "df_new.insert(7, 'Invoice_Day',df_new.InvoiceDate.dt.day)\n",
    "df_new.insert(8, 'Invoice_Hour',df_new.InvoiceDate.dt.hour)"
   ]
  },
  {
   "cell_type": "raw",
   "id": "c85d4eb6",
   "metadata": {},
   "source": [
    "In a single line ( but they always insert in last)\n",
    "df=df.assign(Year=df.InvoiceDate.dt.year,\n",
    "             Month=df.InvoiceDate.dt.month,\n",
    "             Day=df.InvoiceDate.dt.day,\n",
    "             Hour=df.InvoiceDate.dt.hour)                     "
   ]
  },
  {
   "cell_type": "code",
   "execution_count": 23,
   "id": "d88682b2",
   "metadata": {},
   "outputs": [
    {
     "data": {
      "text/html": [
       "<div>\n",
       "<style scoped>\n",
       "    .dataframe tbody tr th:only-of-type {\n",
       "        vertical-align: middle;\n",
       "    }\n",
       "\n",
       "    .dataframe tbody tr th {\n",
       "        vertical-align: top;\n",
       "    }\n",
       "\n",
       "    .dataframe thead th {\n",
       "        text-align: right;\n",
       "    }\n",
       "</style>\n",
       "<table border=\"1\" class=\"dataframe\">\n",
       "  <thead>\n",
       "    <tr style=\"text-align: right;\">\n",
       "      <th></th>\n",
       "      <th>InvoiceNo</th>\n",
       "      <th>StockCode</th>\n",
       "      <th>Description</th>\n",
       "      <th>Quantity</th>\n",
       "      <th>InvoiceDate</th>\n",
       "      <th>Invoice_Year</th>\n",
       "      <th>Invoice_Month</th>\n",
       "      <th>Invoice_Day</th>\n",
       "      <th>Invoice_Hour</th>\n",
       "      <th>UnitPrice</th>\n",
       "      <th>Amount_Spent</th>\n",
       "      <th>CustomerID</th>\n",
       "      <th>Country</th>\n",
       "    </tr>\n",
       "  </thead>\n",
       "  <tbody>\n",
       "    <tr>\n",
       "      <th>0</th>\n",
       "      <td>536365</td>\n",
       "      <td>85123A</td>\n",
       "      <td>WHITE HANGING HEART T-LIGHT HOLDER</td>\n",
       "      <td>6</td>\n",
       "      <td>2010-12-01 08:26:00</td>\n",
       "      <td>2010</td>\n",
       "      <td>12</td>\n",
       "      <td>1</td>\n",
       "      <td>8</td>\n",
       "      <td>2.55</td>\n",
       "      <td>15.30</td>\n",
       "      <td>17850.0</td>\n",
       "      <td>United Kingdom</td>\n",
       "    </tr>\n",
       "    <tr>\n",
       "      <th>1</th>\n",
       "      <td>536365</td>\n",
       "      <td>71053</td>\n",
       "      <td>WHITE METAL LANTERN</td>\n",
       "      <td>6</td>\n",
       "      <td>2010-12-01 08:26:00</td>\n",
       "      <td>2010</td>\n",
       "      <td>12</td>\n",
       "      <td>1</td>\n",
       "      <td>8</td>\n",
       "      <td>3.39</td>\n",
       "      <td>20.34</td>\n",
       "      <td>17850.0</td>\n",
       "      <td>United Kingdom</td>\n",
       "    </tr>\n",
       "    <tr>\n",
       "      <th>2</th>\n",
       "      <td>536365</td>\n",
       "      <td>84406B</td>\n",
       "      <td>CREAM CUPID HEARTS COAT HANGER</td>\n",
       "      <td>8</td>\n",
       "      <td>2010-12-01 08:26:00</td>\n",
       "      <td>2010</td>\n",
       "      <td>12</td>\n",
       "      <td>1</td>\n",
       "      <td>8</td>\n",
       "      <td>2.75</td>\n",
       "      <td>22.00</td>\n",
       "      <td>17850.0</td>\n",
       "      <td>United Kingdom</td>\n",
       "    </tr>\n",
       "    <tr>\n",
       "      <th>3</th>\n",
       "      <td>536365</td>\n",
       "      <td>84029G</td>\n",
       "      <td>KNITTED UNION FLAG HOT WATER BOTTLE</td>\n",
       "      <td>6</td>\n",
       "      <td>2010-12-01 08:26:00</td>\n",
       "      <td>2010</td>\n",
       "      <td>12</td>\n",
       "      <td>1</td>\n",
       "      <td>8</td>\n",
       "      <td>3.39</td>\n",
       "      <td>20.34</td>\n",
       "      <td>17850.0</td>\n",
       "      <td>United Kingdom</td>\n",
       "    </tr>\n",
       "    <tr>\n",
       "      <th>4</th>\n",
       "      <td>536365</td>\n",
       "      <td>84029E</td>\n",
       "      <td>RED WOOLLY HOTTIE WHITE HEART.</td>\n",
       "      <td>6</td>\n",
       "      <td>2010-12-01 08:26:00</td>\n",
       "      <td>2010</td>\n",
       "      <td>12</td>\n",
       "      <td>1</td>\n",
       "      <td>8</td>\n",
       "      <td>3.39</td>\n",
       "      <td>20.34</td>\n",
       "      <td>17850.0</td>\n",
       "      <td>United Kingdom</td>\n",
       "    </tr>\n",
       "  </tbody>\n",
       "</table>\n",
       "</div>"
      ],
      "text/plain": [
       "  InvoiceNo StockCode                          Description  Quantity  \\\n",
       "0    536365    85123A   WHITE HANGING HEART T-LIGHT HOLDER         6   \n",
       "1    536365     71053                  WHITE METAL LANTERN         6   \n",
       "2    536365    84406B       CREAM CUPID HEARTS COAT HANGER         8   \n",
       "3    536365    84029G  KNITTED UNION FLAG HOT WATER BOTTLE         6   \n",
       "4    536365    84029E       RED WOOLLY HOTTIE WHITE HEART.         6   \n",
       "\n",
       "          InvoiceDate  Invoice_Year  Invoice_Month  Invoice_Day  Invoice_Hour  \\\n",
       "0 2010-12-01 08:26:00          2010             12            1             8   \n",
       "1 2010-12-01 08:26:00          2010             12            1             8   \n",
       "2 2010-12-01 08:26:00          2010             12            1             8   \n",
       "3 2010-12-01 08:26:00          2010             12            1             8   \n",
       "4 2010-12-01 08:26:00          2010             12            1             8   \n",
       "\n",
       "   UnitPrice  Amount_Spent  CustomerID         Country  \n",
       "0       2.55         15.30     17850.0  United Kingdom  \n",
       "1       3.39         20.34     17850.0  United Kingdom  \n",
       "2       2.75         22.00     17850.0  United Kingdom  \n",
       "3       3.39         20.34     17850.0  United Kingdom  \n",
       "4       3.39         20.34     17850.0  United Kingdom  "
      ]
     },
     "execution_count": 23,
     "metadata": {},
     "output_type": "execute_result"
    }
   ],
   "source": [
    "df_new.head(5)"
   ]
  },
  {
   "cell_type": "markdown",
   "id": "83549bb2",
   "metadata": {},
   "source": [
    "###### 12.How to find out Top 5 customers with highest money spent records? Show Only 3 columns ['CustomerID','Country','Amount_Spent']"
   ]
  },
  {
   "cell_type": "code",
   "execution_count": 24,
   "id": "5f0a10d0",
   "metadata": {},
   "outputs": [
    {
     "data": {
      "text/html": [
       "<div>\n",
       "<style scoped>\n",
       "    .dataframe tbody tr th:only-of-type {\n",
       "        vertical-align: middle;\n",
       "    }\n",
       "\n",
       "    .dataframe tbody tr th {\n",
       "        vertical-align: top;\n",
       "    }\n",
       "\n",
       "    .dataframe thead th {\n",
       "        text-align: right;\n",
       "    }\n",
       "</style>\n",
       "<table border=\"1\" class=\"dataframe\">\n",
       "  <thead>\n",
       "    <tr style=\"text-align: right;\">\n",
       "      <th></th>\n",
       "      <th>CustomerID</th>\n",
       "      <th>Country</th>\n",
       "      <th>Amount_Spent</th>\n",
       "    </tr>\n",
       "  </thead>\n",
       "  <tbody>\n",
       "    <tr>\n",
       "      <th>529804</th>\n",
       "      <td>16446.0</td>\n",
       "      <td>United Kingdom</td>\n",
       "      <td>168469.60</td>\n",
       "    </tr>\n",
       "    <tr>\n",
       "      <th>60479</th>\n",
       "      <td>12346.0</td>\n",
       "      <td>United Kingdom</td>\n",
       "      <td>77183.60</td>\n",
       "    </tr>\n",
       "    <tr>\n",
       "      <th>217959</th>\n",
       "      <td>15098.0</td>\n",
       "      <td>United Kingdom</td>\n",
       "      <td>38970.00</td>\n",
       "    </tr>\n",
       "    <tr>\n",
       "      <th>14794</th>\n",
       "      <td>NaN</td>\n",
       "      <td>United Kingdom</td>\n",
       "      <td>13541.33</td>\n",
       "    </tr>\n",
       "    <tr>\n",
       "      <th>293620</th>\n",
       "      <td>NaN</td>\n",
       "      <td>United Kingdom</td>\n",
       "      <td>11062.06</td>\n",
       "    </tr>\n",
       "  </tbody>\n",
       "</table>\n",
       "</div>"
      ],
      "text/plain": [
       "        CustomerID         Country  Amount_Spent\n",
       "529804     16446.0  United Kingdom     168469.60\n",
       "60479      12346.0  United Kingdom      77183.60\n",
       "217959     15098.0  United Kingdom      38970.00\n",
       "14794          NaN  United Kingdom      13541.33\n",
       "293620         NaN  United Kingdom      11062.06"
      ]
     },
     "execution_count": 24,
     "metadata": {},
     "output_type": "execute_result"
    }
   ],
   "source": [
    "df_new.sort_values(\"Amount_Spent\",ascending=False)[:5][[\"CustomerID\",\"Country\",\"Amount_Spent\"]]"
   ]
  },
  {
   "cell_type": "code",
   "execution_count": 25,
   "id": "e286c049",
   "metadata": {},
   "outputs": [
    {
     "data": {
      "text/html": [
       "<div>\n",
       "<style scoped>\n",
       "    .dataframe tbody tr th:only-of-type {\n",
       "        vertical-align: middle;\n",
       "    }\n",
       "\n",
       "    .dataframe tbody tr th {\n",
       "        vertical-align: top;\n",
       "    }\n",
       "\n",
       "    .dataframe thead th {\n",
       "        text-align: right;\n",
       "    }\n",
       "</style>\n",
       "<table border=\"1\" class=\"dataframe\">\n",
       "  <thead>\n",
       "    <tr style=\"text-align: right;\">\n",
       "      <th></th>\n",
       "      <th>CustomerID</th>\n",
       "      <th>Country</th>\n",
       "      <th>Amount_Spent</th>\n",
       "    </tr>\n",
       "  </thead>\n",
       "  <tbody>\n",
       "    <tr>\n",
       "      <th>529804</th>\n",
       "      <td>16446.0</td>\n",
       "      <td>United Kingdom</td>\n",
       "      <td>168469.60</td>\n",
       "    </tr>\n",
       "    <tr>\n",
       "      <th>60479</th>\n",
       "      <td>12346.0</td>\n",
       "      <td>United Kingdom</td>\n",
       "      <td>77183.60</td>\n",
       "    </tr>\n",
       "    <tr>\n",
       "      <th>217959</th>\n",
       "      <td>15098.0</td>\n",
       "      <td>United Kingdom</td>\n",
       "      <td>38970.00</td>\n",
       "    </tr>\n",
       "    <tr>\n",
       "      <th>14794</th>\n",
       "      <td>NaN</td>\n",
       "      <td>United Kingdom</td>\n",
       "      <td>13541.33</td>\n",
       "    </tr>\n",
       "    <tr>\n",
       "      <th>293620</th>\n",
       "      <td>NaN</td>\n",
       "      <td>United Kingdom</td>\n",
       "      <td>11062.06</td>\n",
       "    </tr>\n",
       "  </tbody>\n",
       "</table>\n",
       "</div>"
      ],
      "text/plain": [
       "        CustomerID         Country  Amount_Spent\n",
       "529804     16446.0  United Kingdom     168469.60\n",
       "60479      12346.0  United Kingdom      77183.60\n",
       "217959     15098.0  United Kingdom      38970.00\n",
       "14794          NaN  United Kingdom      13541.33\n",
       "293620         NaN  United Kingdom      11062.06"
      ]
     },
     "execution_count": 25,
     "metadata": {},
     "output_type": "execute_result"
    }
   ],
   "source": [
    "df_new.sort_values(\"Amount_Spent\",ascending=False).head(5)[[\"CustomerID\",\"Country\",\"Amount_Spent\"]]"
   ]
  },
  {
   "cell_type": "markdown",
   "id": "bfca08b5",
   "metadata": {},
   "source": [
    "###### 13.Plotting bar chart : How many orders (per month)?"
   ]
  },
  {
   "cell_type": "code",
   "execution_count": 26,
   "id": "ad3d4c8d",
   "metadata": {},
   "outputs": [
    {
     "data": {
      "image/png": "[encoded data removed]",
      "text/plain": [
       "<Figure size 640x480 with 1 Axes>"
      ]
     },
     "metadata": {},
     "output_type": "display_data"
    }
   ],
   "source": [
    "plt.xlabel(\"Month\")\n",
    "plt.ylabel(\"number of orders\")\n",
    "plt.title(\"Number of oredr per months\")\n",
    "df_new['Invoice_Month'].value_counts().plot(kind='bar')\n",
    "plt.show()"
   ]
  },
  {
   "cell_type": "markdown",
   "id": "0b5ab3da",
   "metadata": {},
   "source": [
    "###### 14. Plotting bar chart : How many orders (per day)?"
   ]
  },
  {
   "cell_type": "code",
   "execution_count": 27,
   "id": "6754e148",
   "metadata": {},
   "outputs": [
    {
     "data": {
      "image/png": "[encoded data removed]",
      "text/plain": [
       "<Figure size 640x480 with 1 Axes>"
      ]
     },
     "metadata": {},
     "output_type": "display_data"
    }
   ],
   "source": [
    "plt.xlabel(\"Days\")\n",
    "plt.ylabel(\"number of orders\")\n",
    "plt.title(\"Number of oredr per days\")\n",
    "df_new['Invoice_Day'].value_counts().plot(kind='bar')\n",
    "plt.show()"
   ]
  },
  {
   "cell_type": "markdown",
   "id": "fda91e9c",
   "metadata": {},
   "source": [
    "###### 15. Plotting bar chart : How many orders (per hour)?"
   ]
  },
  {
   "cell_type": "code",
   "execution_count": 28,
   "id": "b203a0c0",
   "metadata": {},
   "outputs": [
    {
     "data": {
      "image/png": "[encoded data removed]",
      "text/plain": [
       "<Figure size 640x480 with 1 Axes>"
      ]
     },
     "metadata": {},
     "output_type": "display_data"
    }
   ],
   "source": [
    "plt.xlabel(\"Hour\")\n",
    "plt.ylabel(\"Number of orders\")\n",
    "plt.title(\"Number of oredr per Hours\")\n",
    "df_new['Invoice_Hour'].value_counts().plot(kind='bar')\n",
    "plt.show()"
   ]
  },
  {
   "cell_type": "markdown",
   "id": "43289eff",
   "metadata": {},
   "source": [
    "###### Number of unique StockCodes in the dataset?\n"
   ]
  },
  {
   "cell_type": "code",
   "execution_count": 29,
   "id": "dbb94655",
   "metadata": {},
   "outputs": [
    {
     "data": {
      "text/plain": [
       "4070"
      ]
     },
     "execution_count": 29,
     "metadata": {},
     "output_type": "execute_result"
    }
   ],
   "source": [
    "df.StockCode.nunique()"
   ]
  },
  {
   "cell_type": "markdown",
   "id": "af23ba6e",
   "metadata": {},
   "source": [
    "###### What is the range of dates covered in the dataset?\n"
   ]
  },
  {
   "cell_type": "code",
   "execution_count": 30,
   "id": "9ff00f92",
   "metadata": {},
   "outputs": [
    {
     "name": "stdout",
     "output_type": "stream",
     "text": [
      "Range= (Timestamp('2010-12-01 08:26:00'), Timestamp('2011-12-09 12:50:00'))\n"
     ]
    }
   ],
   "source": [
    "start = df['InvoiceDate'].min()\n",
    "last = df['InvoiceDate'].max()\n",
    "print(\"Range=\",(start,last))\n"
   ]
  },
  {
   "cell_type": "markdown",
   "id": "1caa4a87",
   "metadata": {},
   "source": [
    "###### How many unique customers are there?"
   ]
  },
  {
   "cell_type": "code",
   "execution_count": 31,
   "id": "c3462f2f",
   "metadata": {},
   "outputs": [
    {
     "name": "stdout",
     "output_type": "stream",
     "text": [
      "Number of unique customer= 4372\n"
     ]
    }
   ],
   "source": [
    "print(\"Number of unique customer=\",df[\"CustomerID\"].nunique())"
   ]
  },
  {
   "cell_type": "markdown",
   "id": "d49ee320",
   "metadata": {},
   "source": [
    "###### What is the average quantity of items per invoice?"
   ]
  },
  {
   "cell_type": "code",
   "execution_count": 34,
   "id": "08cc4f0f",
   "metadata": {},
   "outputs": [
    {
     "data": {
      "text/plain": [
       "12.847258350544973"
      ]
     },
     "execution_count": 34,
     "metadata": {},
     "output_type": "execute_result"
    }
   ],
   "source": [
    "df.groupby(\"InvoiceNo\")[\"Quantity\"].mean().mean()  #df.groupby('InvoiceNo')['Quantity'].mean() calculates the mean quantity for each invoice, and the subsequent .mean() calculates the overall mean of these averages."
   ]
  },
  {
   "cell_type": "markdown",
   "id": "6529738d",
   "metadata": {},
   "source": [
    "###### What is the total amount spent on each invoice?"
   ]
  },
  {
   "cell_type": "code",
   "execution_count": null,
   "id": "b9dd65b1",
   "metadata": {},
   "outputs": [],
   "source": []
  },
  {
   "cell_type": "markdown",
   "id": "2e331b13",
   "metadata": {},
   "source": [
    "###### Heighest Sales invoiceno"
   ]
  },
  {
   "cell_type": "code",
   "execution_count": null,
   "id": "40568e7a",
   "metadata": {},
   "outputs": [],
   "source": [
    "df_new.sort_values(by=\"Amount_Spent\",ascending=False)[:1]"
   ]
  },
  {
   "cell_type": "markdown",
   "id": "85df1517",
   "metadata": {},
   "source": [
    "###### Most valuable customer:-"
   ]
  },
  {
   "cell_type": "code",
   "execution_count": null,
   "id": "2bcbf158",
   "metadata": {},
   "outputs": [],
   "source": [
    "# Maximum amount spent by a single customerid\n",
    "df_new.groupby(\"CustomerID\")[\"Amount_Spent\"].sum().max()"
   ]
  },
  {
   "cell_type": "code",
   "execution_count": null,
   "id": "fc67a3ca",
   "metadata": {},
   "outputs": [],
   "source": [
    "print(\"Most valuable customer whose CustomerID =\",df_new.groupby(\"CustomerID\")[\"Amount_Spent\"].sum().idxmax())"
   ]
  },
  {
   "cell_type": "markdown",
   "id": "cd6c09bf",
   "metadata": {},
   "source": [
    "###### Find out total  number of record which have negative unitprice?\n"
   ]
  },
  {
   "cell_type": "code",
   "execution_count": null,
   "id": "ea627e4c",
   "metadata": {},
   "outputs": [],
   "source": [
    "df[df['UnitPrice'] < 0]"
   ]
  },
  {
   "cell_type": "markdown",
   "id": "d1c3dc9c",
   "metadata": {},
   "source": [
    "###### Which month had the highest total sales?\n"
   ]
  },
  {
   "cell_type": "code",
   "execution_count": null,
   "id": "0e09b42f",
   "metadata": {},
   "outputs": [],
   "source": [
    "df_new.groupby(\"Invoice_Month\")[\"Amount_Spent\"].sum().idxmax()\n",
    "#df.groupby(\"Invoice_Month\")[\"Amount_Spent\"].sum().max()"
   ]
  },
  {
   "cell_type": "markdown",
   "id": "096e67b2",
   "metadata": {},
   "source": [
    "###### What is the average unit price of items in the dataset?\n"
   ]
  },
  {
   "cell_type": "code",
   "execution_count": null,
   "id": "33b7a914",
   "metadata": {},
   "outputs": [],
   "source": [
    "print(\"Average unit price of each item =\",df_new.Amount_Spent.sum()/df_new.Quantity.sum())\n",
    "     ########################################################################################################################\n",
    "print(\"Average unit price of each item=\",df_new.UnitPrice.mean())\n"
   ]
  },
  {
   "cell_type": "markdown",
   "id": "8d735682",
   "metadata": {},
   "source": [
    "###### Which product has the highest total sales (amount spent)?\n"
   ]
  },
  {
   "cell_type": "code",
   "execution_count": null,
   "id": "e2c6c948",
   "metadata": {},
   "outputs": [],
   "source": [
    "df_new.groupby(\"Description\")[\"Amount_Spent\"].sum().max()\n"
   ]
  },
  {
   "cell_type": "markdown",
   "id": "9f83b545",
   "metadata": {},
   "source": [
    "###### Which product highest sell in the month of April?"
   ]
  },
  {
   "cell_type": "code",
   "execution_count": null,
   "id": "8c259085",
   "metadata": {},
   "outputs": [],
   "source": [
    "df[df['InvoiceDate'].dt.month == 4].groupby(\"Description\")[\"Amount_Spent\"].sum().idxmax()\n"
   ]
  },
  {
   "cell_type": "markdown",
   "id": "5da61792",
   "metadata": {},
   "source": [
    "###### How many unique products are there?\n"
   ]
  },
  {
   "cell_type": "code",
   "execution_count": null,
   "id": "d286f06e",
   "metadata": {},
   "outputs": [],
   "source": [
    "df[\"Description\"].nunique()"
   ]
  },
  {
   "cell_type": "markdown",
   "id": "9da9c290",
   "metadata": {},
   "source": [
    "###### What is the average quantity sold per product in the month of December?\n"
   ]
  },
  {
   "cell_type": "code",
   "execution_count": null,
   "id": "1801457a",
   "metadata": {},
   "outputs": [],
   "source": [
    "df[df['Invoice_Month'] == 12].groupby('Description')['Quantity'].mean()\n"
   ]
  },
  {
   "cell_type": "code",
   "execution_count": null,
   "id": "f3021502",
   "metadata": {},
   "outputs": [],
   "source": [
    "# only december 2010 \n",
    "dec2010 = df[(df['Invoice_Month'] == 12) & (df['Invoice_Year']== 2010)]\n",
    "dec2010.groupby('Description')['Quantity'].mean()\n"
   ]
  },
  {
   "cell_type": "code",
   "execution_count": null,
   "id": "87279b7e",
   "metadata": {},
   "outputs": [],
   "source": [
    "# What are the top 5 customers based on the total amount spent?\n",
    "df.groupby('CustomerID')['Amount_Spent'].sum().sort_values(ascending=False).head()\n"
   ]
  },
  {
   "cell_type": "code",
   "execution_count": null,
   "id": "ddeb1e40",
   "metadata": {},
   "outputs": [],
   "source": [
    "# based on year 2010\n",
    "df[df['Invoice_Year']== 2010].groupby('CustomerID')['Amount_Spent'].sum().sort_values(ascending=False).head()"
   ]
  },
  {
   "cell_type": "markdown",
   "id": "308efdab",
   "metadata": {},
   "source": [
    "###### What is the total sales amount for each country?"
   ]
  },
  {
   "cell_type": "code",
   "execution_count": null,
   "id": "f7335e7d",
   "metadata": {},
   "outputs": [],
   "source": [
    "df.groupby('Country')[\"Amount_Spent\"].sum()"
   ]
  },
  {
   "cell_type": "markdown",
   "id": "c97f3f25",
   "metadata": {},
   "source": [
    "###### Which country has the highest total sales?\n"
   ]
  },
  {
   "cell_type": "code",
   "execution_count": null,
   "id": "04b02bd1",
   "metadata": {},
   "outputs": [],
   "source": [
    "df.groupby('Country')[\"Amount_Spent\"].sum().idxmax()"
   ]
  },
  {
   "cell_type": "markdown",
   "id": "8e14ca67",
   "metadata": {},
   "source": [
    "###### What is the busiest hour in terms of the number of invoices?\n"
   ]
  },
  {
   "cell_type": "code",
   "execution_count": null,
   "id": "2ceca482",
   "metadata": {},
   "outputs": [],
   "source": [
    "df[\"Invoice_Hour\"].value_counts().idxmax()"
   ]
  },
  {
   "cell_type": "markdown",
   "id": "5bbae687",
   "metadata": {},
   "source": [
    "######  Which days of week heighest sell?"
   ]
  },
  {
   "cell_type": "code",
   "execution_count": null,
   "id": "04bfd27c",
   "metadata": {},
   "outputs": [],
   "source": [
    "df.groupby(df['InvoiceDate'].dt.day_name())['Amount_Spent'].sum().sort_values(ascending=False)"
   ]
  },
  {
   "cell_type": "code",
   "execution_count": null,
   "id": "6fa5195d",
   "metadata": {},
   "outputs": [],
   "source": [
    "df.head(1)"
   ]
  },
  {
   "cell_type": "markdown",
   "id": "e718ba3d",
   "metadata": {},
   "source": [
    "###### How many customers made a single purchase?\n"
   ]
  },
  {
   "cell_type": "code",
   "execution_count": null,
   "id": "9c145f31",
   "metadata": {},
   "outputs": [],
   "source": [
    "(df['CustomerID'].value_counts() == 1).shape[0]\n",
    "                                   #######################3333"
   ]
  },
  {
   "cell_type": "code",
   "execution_count": null,
   "id": "77965bba",
   "metadata": {},
   "outputs": [],
   "source": []
  }
 ],
 "metadata": {
  "kernelspec": {
   "display_name": "Python 3 (ipykernel)",
   "language": "python",
   "name": "python3"
  },
  "language_info": {
   "codemirror_mode": {
    "name": "ipython",
    "version": 3
   },
   "file_extension": ".py",
   "mimetype": "text/x-python",
   "name": "python",
   "nbconvert_exporter": "python",
   "pygments_lexer": "ipython3",
   "version": "3.11.3"
  }
 },
 "nbformat": 4,
 "nbformat_minor": 5
}
