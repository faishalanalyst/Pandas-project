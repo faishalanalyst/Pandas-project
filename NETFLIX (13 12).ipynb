{
 "cells": [
  {
   "cell_type": "markdown",
   "id": "a507468f",
   "metadata": {},
   "source": [
    "# Netflix Dataset Analysis using pandas :-"
   ]
  },
  {
   "cell_type": "markdown",
   "id": "fac7f7b3",
   "metadata": {},
   "source": [
    "<img src='dataset/Netflix img.jpg' height='800' width='800'>\n"
   ]
  },
  {
   "cell_type": "markdown",
   "id": "07cdf042",
   "metadata": {},
   "source": [
    "## About Dataset:-\n",
    "This Netflix Dataset has information about the TV Shows\n",
    "and Movies available on Netflix till 2021.\n",
    "\n",
    "This dataset is collected from Flixable which is a third-party\n",
    "Netflix search engine, and available on Kaggle website for free.\n"
   ]
  },
  {
   "cell_type": "code",
   "execution_count": 2,
   "id": "94dc6f4a",
   "metadata": {},
   "outputs": [],
   "source": [
    "import numpy as np\n",
    "import pandas as pd\n",
    "import matplotlib.pyplot as plt "
   ]
  },
  {
   "cell_type": "markdown",
   "id": "9ad3e574",
   "metadata": {},
   "source": [
    "Read dataset"
   ]
  },
  {
   "cell_type": "code",
   "execution_count": 7,
   "id": "98130441",
   "metadata": {},
   "outputs": [],
   "source": [
    "data=pd.read_csv(\"dataset\\\\Netflix - Netflix.csv\")"
   ]
  },
  {
   "cell_type": "markdown",
   "id": "dd261f4c",
   "metadata": {},
   "source": [
    "### Overview of dataset:-"
   ]
  },
  {
   "cell_type": "code",
   "execution_count": 8,
   "id": "76946847",
   "metadata": {},
   "outputs": [
    {
     "name": "stdout",
     "output_type": "stream",
     "text": [
      "<class 'pandas.core.frame.DataFrame'>\n",
      "RangeIndex: 7789 entries, 0 to 7788\n",
      "Data columns (total 11 columns):\n",
      " #   Column        Non-Null Count  Dtype \n",
      "---  ------        --------------  ----- \n",
      " 0   Show_Id       7789 non-null   object\n",
      " 1   Category      7789 non-null   object\n",
      " 2   Title         7789 non-null   object\n",
      " 3   Director      5401 non-null   object\n",
      " 4   Cast          7071 non-null   object\n",
      " 5   Country       7282 non-null   object\n",
      " 6   Release_Date  7779 non-null   object\n",
      " 7   Rating        7782 non-null   object\n",
      " 8   Duration      7789 non-null   object\n",
      " 9   Type          7789 non-null   object\n",
      " 10  Description   7789 non-null   object\n",
      "dtypes: object(11)\n",
      "memory usage: 669.5+ KB\n"
     ]
    }
   ],
   "source": [
    "data.info()"
   ]
  },
  {
   "cell_type": "code",
   "execution_count": 9,
   "id": "158ca599",
   "metadata": {},
   "outputs": [
    {
     "data": {
      "text/html": [
       "<div>\n",
       "<style scoped>\n",
       "    .dataframe tbody tr th:only-of-type {\n",
       "        vertical-align: middle;\n",
       "    }\n",
       "\n",
       "    .dataframe tbody tr th {\n",
       "        vertical-align: top;\n",
       "    }\n",
       "\n",
       "    .dataframe thead th {\n",
       "        text-align: right;\n",
       "    }\n",
       "</style>\n",
       "<table border=\"1\" class=\"dataframe\">\n",
       "  <thead>\n",
       "    <tr style=\"text-align: right;\">\n",
       "      <th></th>\n",
       "      <th>Show_Id</th>\n",
       "      <th>Category</th>\n",
       "      <th>Title</th>\n",
       "      <th>Director</th>\n",
       "      <th>Cast</th>\n",
       "      <th>Country</th>\n",
       "      <th>Release_Date</th>\n",
       "      <th>Rating</th>\n",
       "      <th>Duration</th>\n",
       "      <th>Type</th>\n",
       "      <th>Description</th>\n",
       "    </tr>\n",
       "  </thead>\n",
       "  <tbody>\n",
       "    <tr>\n",
       "      <th>7728</th>\n",
       "      <td>s7727</td>\n",
       "      <td>Movie</td>\n",
       "      <td>You Carry Me</td>\n",
       "      <td>Ivona Juka</td>\n",
       "      <td>Lana Baric, Vojislav Brajovic, Natasa Janjic, ...</td>\n",
       "      <td>Croatia, Slovenia, Serbia, Montenegro</td>\n",
       "      <td>July 1, 2016</td>\n",
       "      <td>TV-MA</td>\n",
       "      <td>157 min</td>\n",
       "      <td>Dramas, International Movies</td>\n",
       "      <td>A soap opera producer, director and makeup art...</td>\n",
       "    </tr>\n",
       "    <tr>\n",
       "      <th>1822</th>\n",
       "      <td>s1823</td>\n",
       "      <td>Movie</td>\n",
       "      <td>Donald Glover: Weirdo</td>\n",
       "      <td>Shannon Hartman, Michelle Caputo</td>\n",
       "      <td>Donald Glover</td>\n",
       "      <td>United States</td>\n",
       "      <td>November 19, 2016</td>\n",
       "      <td>TV-MA</td>\n",
       "      <td>65 min</td>\n",
       "      <td>Stand-Up Comedy</td>\n",
       "      <td>Fearlessly funny stand-up comic and sitcom sta...</td>\n",
       "    </tr>\n",
       "  </tbody>\n",
       "</table>\n",
       "</div>"
      ],
      "text/plain": [
       "     Show_Id Category                  Title  \\\n",
       "7728   s7727    Movie           You Carry Me   \n",
       "1822   s1823    Movie  Donald Glover: Weirdo   \n",
       "\n",
       "                              Director  \\\n",
       "7728                        Ivona Juka   \n",
       "1822  Shannon Hartman, Michelle Caputo   \n",
       "\n",
       "                                                   Cast  \\\n",
       "7728  Lana Baric, Vojislav Brajovic, Natasa Janjic, ...   \n",
       "1822                                      Donald Glover   \n",
       "\n",
       "                                    Country       Release_Date Rating  \\\n",
       "7728  Croatia, Slovenia, Serbia, Montenegro       July 1, 2016  TV-MA   \n",
       "1822                          United States  November 19, 2016  TV-MA   \n",
       "\n",
       "     Duration                          Type  \\\n",
       "7728  157 min  Dramas, International Movies   \n",
       "1822   65 min               Stand-Up Comedy   \n",
       "\n",
       "                                            Description  \n",
       "7728  A soap opera producer, director and makeup art...  \n",
       "1822  Fearlessly funny stand-up comic and sitcom sta...  "
      ]
     },
     "execution_count": 9,
     "metadata": {},
     "output_type": "execute_result"
    }
   ],
   "source": [
    "data.sample(2)"
   ]
  },
  {
   "cell_type": "markdown",
   "id": "f19d4c36",
   "metadata": {},
   "source": [
    "On the above data frame we show that Release_Date(dtype is object) and date are not in systematic order first we change Release_Date column data type in datetime formate (USA time formate):-"
   ]
  },
  {
   "cell_type": "code",
   "execution_count": 10,
   "id": "397a971b",
   "metadata": {},
   "outputs": [],
   "source": [
    "# At the time when we read file =[data=pd.read_csv(\"C:\\\\Users\\\\faish\\\\OneDrive\\\\Desktop\\\\DUCAT LECTURE\\\\DS project\\\\dataset\\\\Netflix - Netflix.csv\",parse_dates=[\"Release_Date\"]) ]\n",
    "\n",
    "# add \"date\" column in last\n",
    "# data[\"Date\"]=pd.to_datetime(data[\"Release_Date\"])  \n",
    "\n",
    "# Overright in a same column\n",
    "data[\"Release_Date\"]=pd.to_datetime(data[\"Release_Date\"])    # If Releas_date column in mixed formate then we use formate= \"mixed\""
   ]
  },
  {
   "cell_type": "code",
   "execution_count": 11,
   "id": "2c1b9170",
   "metadata": {},
   "outputs": [
    {
     "name": "stdout",
     "output_type": "stream",
     "text": [
      "<class 'pandas.core.frame.DataFrame'>\n",
      "RangeIndex: 7789 entries, 0 to 7788\n",
      "Data columns (total 11 columns):\n",
      " #   Column        Non-Null Count  Dtype         \n",
      "---  ------        --------------  -----         \n",
      " 0   Show_Id       7789 non-null   object        \n",
      " 1   Category      7789 non-null   object        \n",
      " 2   Title         7789 non-null   object        \n",
      " 3   Director      5401 non-null   object        \n",
      " 4   Cast          7071 non-null   object        \n",
      " 5   Country       7282 non-null   object        \n",
      " 6   Release_Date  7779 non-null   datetime64[ns]\n",
      " 7   Rating        7782 non-null   object        \n",
      " 8   Duration      7789 non-null   object        \n",
      " 9   Type          7789 non-null   object        \n",
      " 10  Description   7789 non-null   object        \n",
      "dtypes: datetime64[ns](1), object(10)\n",
      "memory usage: 669.5+ KB\n"
     ]
    }
   ],
   "source": [
    "data.info()"
   ]
  },
  {
   "cell_type": "code",
   "execution_count": 12,
   "id": "fe4826e7",
   "metadata": {},
   "outputs": [
    {
     "data": {
      "text/html": [
       "<div>\n",
       "<style scoped>\n",
       "    .dataframe tbody tr th:only-of-type {\n",
       "        vertical-align: middle;\n",
       "    }\n",
       "\n",
       "    .dataframe tbody tr th {\n",
       "        vertical-align: top;\n",
       "    }\n",
       "\n",
       "    .dataframe thead th {\n",
       "        text-align: right;\n",
       "    }\n",
       "</style>\n",
       "<table border=\"1\" class=\"dataframe\">\n",
       "  <thead>\n",
       "    <tr style=\"text-align: right;\">\n",
       "      <th></th>\n",
       "      <th>Show_Id</th>\n",
       "      <th>Category</th>\n",
       "      <th>Title</th>\n",
       "      <th>Director</th>\n",
       "      <th>Cast</th>\n",
       "      <th>Country</th>\n",
       "      <th>Release_Date</th>\n",
       "      <th>Rating</th>\n",
       "      <th>Duration</th>\n",
       "      <th>Type</th>\n",
       "      <th>Description</th>\n",
       "    </tr>\n",
       "  </thead>\n",
       "  <tbody>\n",
       "    <tr>\n",
       "      <th>1147</th>\n",
       "      <td>s1148</td>\n",
       "      <td>Movie</td>\n",
       "      <td>Burning Sands</td>\n",
       "      <td>Gerard McMurray</td>\n",
       "      <td>Trevor Jackson, Alfre Woodard, Trevante Rhodes...</td>\n",
       "      <td>United States</td>\n",
       "      <td>2017-03-10</td>\n",
       "      <td>TV-MA</td>\n",
       "      <td>102 min</td>\n",
       "      <td>Dramas, Independent Movies</td>\n",
       "      <td>Promising student Zurich opens his eyes to som...</td>\n",
       "    </tr>\n",
       "    <tr>\n",
       "      <th>2586</th>\n",
       "      <td>s2587</td>\n",
       "      <td>Movie</td>\n",
       "      <td>Halo: The Fall of Reach</td>\n",
       "      <td>Ian Kirby</td>\n",
       "      <td>Jen Taylor, Steve Downes, Michelle Lukes, Brit...</td>\n",
       "      <td>United States</td>\n",
       "      <td>2016-03-07</td>\n",
       "      <td>TV-14</td>\n",
       "      <td>65 min</td>\n",
       "      <td>Action &amp; Adventure, Sci-Fi &amp; Fantasy</td>\n",
       "      <td>Witness the origins of Master Chief and the Sp...</td>\n",
       "    </tr>\n",
       "  </tbody>\n",
       "</table>\n",
       "</div>"
      ],
      "text/plain": [
       "     Show_Id Category                    Title         Director  \\\n",
       "1147   s1148    Movie            Burning Sands  Gerard McMurray   \n",
       "2586   s2587    Movie  Halo: The Fall of Reach        Ian Kirby   \n",
       "\n",
       "                                                   Cast        Country  \\\n",
       "1147  Trevor Jackson, Alfre Woodard, Trevante Rhodes...  United States   \n",
       "2586  Jen Taylor, Steve Downes, Michelle Lukes, Brit...  United States   \n",
       "\n",
       "     Release_Date Rating Duration                                  Type  \\\n",
       "1147   2017-03-10  TV-MA  102 min            Dramas, Independent Movies   \n",
       "2586   2016-03-07  TV-14   65 min  Action & Adventure, Sci-Fi & Fantasy   \n",
       "\n",
       "                                            Description  \n",
       "1147  Promising student Zurich opens his eyes to som...  \n",
       "2586  Witness the origins of Master Chief and the Sp...  "
      ]
     },
     "execution_count": 12,
     "metadata": {},
     "output_type": "execute_result"
    }
   ],
   "source": [
    "data.sample(2)"
   ]
  },
  {
   "cell_type": "markdown",
   "id": "3fee47ab",
   "metadata": {},
   "source": [
    "###### Create Year column on the basis on Release date:-"
   ]
  },
  {
   "cell_type": "code",
   "execution_count": 13,
   "id": "34b91092",
   "metadata": {},
   "outputs": [],
   "source": [
    "data[\"Year\"]=data.Release_Date.dt.year"
   ]
  },
  {
   "cell_type": "code",
   "execution_count": 14,
   "id": "0e093448",
   "metadata": {},
   "outputs": [
    {
     "data": {
      "text/html": [
       "<div>\n",
       "<style scoped>\n",
       "    .dataframe tbody tr th:only-of-type {\n",
       "        vertical-align: middle;\n",
       "    }\n",
       "\n",
       "    .dataframe tbody tr th {\n",
       "        vertical-align: top;\n",
       "    }\n",
       "\n",
       "    .dataframe thead th {\n",
       "        text-align: right;\n",
       "    }\n",
       "</style>\n",
       "<table border=\"1\" class=\"dataframe\">\n",
       "  <thead>\n",
       "    <tr style=\"text-align: right;\">\n",
       "      <th></th>\n",
       "      <th>Show_Id</th>\n",
       "      <th>Category</th>\n",
       "      <th>Title</th>\n",
       "      <th>Director</th>\n",
       "      <th>Cast</th>\n",
       "      <th>Country</th>\n",
       "      <th>Release_Date</th>\n",
       "      <th>Rating</th>\n",
       "      <th>Duration</th>\n",
       "      <th>Type</th>\n",
       "      <th>Description</th>\n",
       "      <th>Year</th>\n",
       "    </tr>\n",
       "  </thead>\n",
       "  <tbody>\n",
       "    <tr>\n",
       "      <th>0</th>\n",
       "      <td>s1</td>\n",
       "      <td>TV Show</td>\n",
       "      <td>3%</td>\n",
       "      <td>NaN</td>\n",
       "      <td>João Miguel, Bianca Comparato, Michel Gomes, R...</td>\n",
       "      <td>Brazil</td>\n",
       "      <td>2020-08-14</td>\n",
       "      <td>TV-MA</td>\n",
       "      <td>4 Seasons</td>\n",
       "      <td>International TV Shows, TV Dramas, TV Sci-Fi &amp;...</td>\n",
       "      <td>In a future where the elite inhabit an island ...</td>\n",
       "      <td>2020.0</td>\n",
       "    </tr>\n",
       "    <tr>\n",
       "      <th>1</th>\n",
       "      <td>s2</td>\n",
       "      <td>Movie</td>\n",
       "      <td>7:19</td>\n",
       "      <td>Jorge Michel Grau</td>\n",
       "      <td>Demián Bichir, Héctor Bonilla, Oscar Serrano, ...</td>\n",
       "      <td>Mexico</td>\n",
       "      <td>2016-12-23</td>\n",
       "      <td>TV-MA</td>\n",
       "      <td>93 min</td>\n",
       "      <td>Dramas, International Movies</td>\n",
       "      <td>After a devastating earthquake hits Mexico Cit...</td>\n",
       "      <td>2016.0</td>\n",
       "    </tr>\n",
       "    <tr>\n",
       "      <th>2</th>\n",
       "      <td>s3</td>\n",
       "      <td>Movie</td>\n",
       "      <td>23:59</td>\n",
       "      <td>Gilbert Chan</td>\n",
       "      <td>Tedd Chan, Stella Chung, Henley Hii, Lawrence ...</td>\n",
       "      <td>Singapore</td>\n",
       "      <td>2018-12-20</td>\n",
       "      <td>R</td>\n",
       "      <td>78 min</td>\n",
       "      <td>Horror Movies, International Movies</td>\n",
       "      <td>When an army recruit is found dead, his fellow...</td>\n",
       "      <td>2018.0</td>\n",
       "    </tr>\n",
       "    <tr>\n",
       "      <th>3</th>\n",
       "      <td>s4</td>\n",
       "      <td>Movie</td>\n",
       "      <td>9</td>\n",
       "      <td>Shane Acker</td>\n",
       "      <td>Elijah Wood, John C. Reilly, Jennifer Connelly...</td>\n",
       "      <td>United States</td>\n",
       "      <td>2017-11-16</td>\n",
       "      <td>PG-13</td>\n",
       "      <td>80 min</td>\n",
       "      <td>Action &amp; Adventure, Independent Movies, Sci-Fi...</td>\n",
       "      <td>In a postapocalyptic world, rag-doll robots hi...</td>\n",
       "      <td>2017.0</td>\n",
       "    </tr>\n",
       "    <tr>\n",
       "      <th>4</th>\n",
       "      <td>s5</td>\n",
       "      <td>Movie</td>\n",
       "      <td>21</td>\n",
       "      <td>Robert Luketic</td>\n",
       "      <td>Jim Sturgess, Kevin Spacey, Kate Bosworth, Aar...</td>\n",
       "      <td>United States</td>\n",
       "      <td>2020-01-01</td>\n",
       "      <td>PG-13</td>\n",
       "      <td>123 min</td>\n",
       "      <td>Dramas</td>\n",
       "      <td>A brilliant group of students become card-coun...</td>\n",
       "      <td>2020.0</td>\n",
       "    </tr>\n",
       "    <tr>\n",
       "      <th>...</th>\n",
       "      <td>...</td>\n",
       "      <td>...</td>\n",
       "      <td>...</td>\n",
       "      <td>...</td>\n",
       "      <td>...</td>\n",
       "      <td>...</td>\n",
       "      <td>...</td>\n",
       "      <td>...</td>\n",
       "      <td>...</td>\n",
       "      <td>...</td>\n",
       "      <td>...</td>\n",
       "      <td>...</td>\n",
       "    </tr>\n",
       "    <tr>\n",
       "      <th>7784</th>\n",
       "      <td>s7783</td>\n",
       "      <td>Movie</td>\n",
       "      <td>Zozo</td>\n",
       "      <td>Josef Fares</td>\n",
       "      <td>Imad Creidi, Antoinette Turk, Elias Gergi, Car...</td>\n",
       "      <td>Sweden, Czech Republic, United Kingdom, Denmar...</td>\n",
       "      <td>2020-10-19</td>\n",
       "      <td>TV-MA</td>\n",
       "      <td>99 min</td>\n",
       "      <td>Dramas, International Movies</td>\n",
       "      <td>When Lebanon's Civil War deprives Zozo of his ...</td>\n",
       "      <td>2020.0</td>\n",
       "    </tr>\n",
       "    <tr>\n",
       "      <th>7785</th>\n",
       "      <td>s7784</td>\n",
       "      <td>Movie</td>\n",
       "      <td>Zubaan</td>\n",
       "      <td>Mozez Singh</td>\n",
       "      <td>Vicky Kaushal, Sarah-Jane Dias, Raaghav Chanan...</td>\n",
       "      <td>India</td>\n",
       "      <td>2019-03-02</td>\n",
       "      <td>TV-14</td>\n",
       "      <td>111 min</td>\n",
       "      <td>Dramas, International Movies, Music &amp; Musicals</td>\n",
       "      <td>A scrappy but poor boy worms his way into a ty...</td>\n",
       "      <td>2019.0</td>\n",
       "    </tr>\n",
       "    <tr>\n",
       "      <th>7786</th>\n",
       "      <td>s7785</td>\n",
       "      <td>Movie</td>\n",
       "      <td>Zulu Man in Japan</td>\n",
       "      <td>NaN</td>\n",
       "      <td>Nasty C</td>\n",
       "      <td>NaN</td>\n",
       "      <td>2020-09-25</td>\n",
       "      <td>TV-MA</td>\n",
       "      <td>44 min</td>\n",
       "      <td>Documentaries, International Movies, Music &amp; M...</td>\n",
       "      <td>In this documentary, South African rapper Nast...</td>\n",
       "      <td>2020.0</td>\n",
       "    </tr>\n",
       "    <tr>\n",
       "      <th>7787</th>\n",
       "      <td>s7786</td>\n",
       "      <td>TV Show</td>\n",
       "      <td>Zumbo's Just Desserts</td>\n",
       "      <td>NaN</td>\n",
       "      <td>Adriano Zumbo, Rachel Khoo</td>\n",
       "      <td>Australia</td>\n",
       "      <td>2020-10-31</td>\n",
       "      <td>TV-PG</td>\n",
       "      <td>1 Season</td>\n",
       "      <td>International TV Shows, Reality TV</td>\n",
       "      <td>Dessert wizard Adriano Zumbo looks for the nex...</td>\n",
       "      <td>2020.0</td>\n",
       "    </tr>\n",
       "    <tr>\n",
       "      <th>7788</th>\n",
       "      <td>s7787</td>\n",
       "      <td>Movie</td>\n",
       "      <td>ZZ TOP: THAT LITTLE OL' BAND FROM TEXAS</td>\n",
       "      <td>Sam Dunn</td>\n",
       "      <td>NaN</td>\n",
       "      <td>United Kingdom, Canada, United States</td>\n",
       "      <td>2020-03-01</td>\n",
       "      <td>TV-MA</td>\n",
       "      <td>90 min</td>\n",
       "      <td>Documentaries, Music &amp; Musicals</td>\n",
       "      <td>This documentary delves into the mystique behi...</td>\n",
       "      <td>2020.0</td>\n",
       "    </tr>\n",
       "  </tbody>\n",
       "</table>\n",
       "<p>7789 rows × 12 columns</p>\n",
       "</div>"
      ],
      "text/plain": [
       "     Show_Id Category                                    Title  \\\n",
       "0         s1  TV Show                                       3%   \n",
       "1         s2    Movie                                     7:19   \n",
       "2         s3    Movie                                    23:59   \n",
       "3         s4    Movie                                        9   \n",
       "4         s5    Movie                                       21   \n",
       "...      ...      ...                                      ...   \n",
       "7784   s7783    Movie                                     Zozo   \n",
       "7785   s7784    Movie                                   Zubaan   \n",
       "7786   s7785    Movie                        Zulu Man in Japan   \n",
       "7787   s7786  TV Show                    Zumbo's Just Desserts   \n",
       "7788   s7787    Movie  ZZ TOP: THAT LITTLE OL' BAND FROM TEXAS   \n",
       "\n",
       "               Director                                               Cast  \\\n",
       "0                   NaN  João Miguel, Bianca Comparato, Michel Gomes, R...   \n",
       "1     Jorge Michel Grau  Demián Bichir, Héctor Bonilla, Oscar Serrano, ...   \n",
       "2          Gilbert Chan  Tedd Chan, Stella Chung, Henley Hii, Lawrence ...   \n",
       "3           Shane Acker  Elijah Wood, John C. Reilly, Jennifer Connelly...   \n",
       "4        Robert Luketic  Jim Sturgess, Kevin Spacey, Kate Bosworth, Aar...   \n",
       "...                 ...                                                ...   \n",
       "7784        Josef Fares  Imad Creidi, Antoinette Turk, Elias Gergi, Car...   \n",
       "7785        Mozez Singh  Vicky Kaushal, Sarah-Jane Dias, Raaghav Chanan...   \n",
       "7786                NaN                                            Nasty C   \n",
       "7787                NaN                         Adriano Zumbo, Rachel Khoo   \n",
       "7788           Sam Dunn                                                NaN   \n",
       "\n",
       "                                                Country Release_Date Rating  \\\n",
       "0                                                Brazil   2020-08-14  TV-MA   \n",
       "1                                                Mexico   2016-12-23  TV-MA   \n",
       "2                                             Singapore   2018-12-20      R   \n",
       "3                                         United States   2017-11-16  PG-13   \n",
       "4                                         United States   2020-01-01  PG-13   \n",
       "...                                                 ...          ...    ...   \n",
       "7784  Sweden, Czech Republic, United Kingdom, Denmar...   2020-10-19  TV-MA   \n",
       "7785                                              India   2019-03-02  TV-14   \n",
       "7786                                                NaN   2020-09-25  TV-MA   \n",
       "7787                                          Australia   2020-10-31  TV-PG   \n",
       "7788              United Kingdom, Canada, United States   2020-03-01  TV-MA   \n",
       "\n",
       "       Duration                                               Type  \\\n",
       "0     4 Seasons  International TV Shows, TV Dramas, TV Sci-Fi &...   \n",
       "1        93 min                       Dramas, International Movies   \n",
       "2        78 min                Horror Movies, International Movies   \n",
       "3        80 min  Action & Adventure, Independent Movies, Sci-Fi...   \n",
       "4       123 min                                             Dramas   \n",
       "...         ...                                                ...   \n",
       "7784     99 min                       Dramas, International Movies   \n",
       "7785    111 min     Dramas, International Movies, Music & Musicals   \n",
       "7786     44 min  Documentaries, International Movies, Music & M...   \n",
       "7787   1 Season                 International TV Shows, Reality TV   \n",
       "7788     90 min                    Documentaries, Music & Musicals   \n",
       "\n",
       "                                            Description    Year  \n",
       "0     In a future where the elite inhabit an island ...  2020.0  \n",
       "1     After a devastating earthquake hits Mexico Cit...  2016.0  \n",
       "2     When an army recruit is found dead, his fellow...  2018.0  \n",
       "3     In a postapocalyptic world, rag-doll robots hi...  2017.0  \n",
       "4     A brilliant group of students become card-coun...  2020.0  \n",
       "...                                                 ...     ...  \n",
       "7784  When Lebanon's Civil War deprives Zozo of his ...  2020.0  \n",
       "7785  A scrappy but poor boy worms his way into a ty...  2019.0  \n",
       "7786  In this documentary, South African rapper Nast...  2020.0  \n",
       "7787  Dessert wizard Adriano Zumbo looks for the nex...  2020.0  \n",
       "7788  This documentary delves into the mystique behi...  2020.0  \n",
       "\n",
       "[7789 rows x 12 columns]"
      ]
     },
     "execution_count": 14,
     "metadata": {},
     "output_type": "execute_result"
    }
   ],
   "source": [
    "data"
   ]
  },
  {
   "cell_type": "markdown",
   "id": "809ea2fa",
   "metadata": {},
   "source": [
    "On the above data frame we show that Duration column data types are object first change its data type in int then split integer value and string into two column"
   ]
  },
  {
   "cell_type": "markdown",
   "id": "188047e4",
   "metadata": {},
   "source": [
    "###### str.split()  \n",
    "split duration column in 2 column length and unit"
   ]
  },
  {
   "cell_type": "code",
   "execution_count": 15,
   "id": "37178880",
   "metadata": {},
   "outputs": [],
   "source": [
    "data[[\"Duration_length\",\"Unit\"]]= data[\"Duration\"].str.split(\" \",expand=True)"
   ]
  },
  {
   "cell_type": "code",
   "execution_count": 16,
   "id": "7ed47f40",
   "metadata": {},
   "outputs": [],
   "source": [
    "# Convert dtypes of \"Duration_Length\" column \n",
    "data['Duration_length'] = data['Duration_length'].astype(int)\n"
   ]
  },
  {
   "cell_type": "code",
   "execution_count": 17,
   "id": "de77de46",
   "metadata": {},
   "outputs": [
    {
     "name": "stdout",
     "output_type": "stream",
     "text": [
      "<class 'pandas.core.frame.DataFrame'>\n",
      "RangeIndex: 7789 entries, 0 to 7788\n",
      "Data columns (total 14 columns):\n",
      " #   Column           Non-Null Count  Dtype         \n",
      "---  ------           --------------  -----         \n",
      " 0   Show_Id          7789 non-null   object        \n",
      " 1   Category         7789 non-null   object        \n",
      " 2   Title            7789 non-null   object        \n",
      " 3   Director         5401 non-null   object        \n",
      " 4   Cast             7071 non-null   object        \n",
      " 5   Country          7282 non-null   object        \n",
      " 6   Release_Date     7779 non-null   datetime64[ns]\n",
      " 7   Rating           7782 non-null   object        \n",
      " 8   Duration         7789 non-null   object        \n",
      " 9   Type             7789 non-null   object        \n",
      " 10  Description      7789 non-null   object        \n",
      " 11  Year             7779 non-null   float64       \n",
      " 12  Duration_length  7789 non-null   int32         \n",
      " 13  Unit             7789 non-null   object        \n",
      "dtypes: datetime64[ns](1), float64(1), int32(1), object(11)\n",
      "memory usage: 821.6+ KB\n"
     ]
    }
   ],
   "source": [
    "data.info()"
   ]
  },
  {
   "cell_type": "markdown",
   "id": "79bdcafd",
   "metadata": {},
   "source": [
    "Memory usage of each column"
   ]
  },
  {
   "cell_type": "code",
   "execution_count": 18,
   "id": "05432feb",
   "metadata": {},
   "outputs": [
    {
     "data": {
      "text/plain": [
       "Index                  132\n",
       "Show_Id             481810\n",
       "Category            487738\n",
       "Title               587964\n",
       "Director            475502\n",
       "Cast               1311384\n",
       "Country             521614\n",
       "Release_Date         62312\n",
       "Rating              478428\n",
       "Duration            498872\n",
       "Type                703732\n",
       "Description        1717998\n",
       "Year                 62312\n",
       "Duration_length      31156\n",
       "Unit                475372\n",
       "dtype: int64"
      ]
     },
     "execution_count": 18,
     "metadata": {},
     "output_type": "execute_result"
    }
   ],
   "source": [
    "data.memory_usage(deep=True)"
   ]
  },
  {
   "cell_type": "markdown",
   "id": "c2e84062",
   "metadata": {},
   "source": [
    "### .duplicated()"
   ]
  },
  {
   "cell_type": "markdown",
   "id": "efe9ff86",
   "metadata": {},
   "source": [
    "###### Q1. Is there any Duplicate Record in this dataset ? If yes, then remove the duplicate records.\n"
   ]
  },
  {
   "cell_type": "code",
   "execution_count": 21,
   "id": "332837e2",
   "metadata": {},
   "outputs": [
    {
     "data": {
      "text/html": [
       "<div>\n",
       "<style scoped>\n",
       "    .dataframe tbody tr th:only-of-type {\n",
       "        vertical-align: middle;\n",
       "    }\n",
       "\n",
       "    .dataframe tbody tr th {\n",
       "        vertical-align: top;\n",
       "    }\n",
       "\n",
       "    .dataframe thead th {\n",
       "        text-align: right;\n",
       "    }\n",
       "</style>\n",
       "<table border=\"1\" class=\"dataframe\">\n",
       "  <thead>\n",
       "    <tr style=\"text-align: right;\">\n",
       "      <th></th>\n",
       "      <th>Show_Id</th>\n",
       "      <th>Category</th>\n",
       "      <th>Title</th>\n",
       "      <th>Director</th>\n",
       "      <th>Cast</th>\n",
       "      <th>Country</th>\n",
       "      <th>Release_Date</th>\n",
       "      <th>Rating</th>\n",
       "      <th>Duration</th>\n",
       "      <th>Type</th>\n",
       "      <th>Description</th>\n",
       "      <th>Year</th>\n",
       "      <th>Duration_length</th>\n",
       "      <th>Unit</th>\n",
       "    </tr>\n",
       "  </thead>\n",
       "  <tbody>\n",
       "    <tr>\n",
       "      <th>683</th>\n",
       "      <td>s684</td>\n",
       "      <td>Movie</td>\n",
       "      <td>Backfire</td>\n",
       "      <td>Dave Patten</td>\n",
       "      <td>Black Deniro, Byron \"Squally\" Vinson, Dominic ...</td>\n",
       "      <td>United States</td>\n",
       "      <td>2019-04-05</td>\n",
       "      <td>TV-MA</td>\n",
       "      <td>97 min</td>\n",
       "      <td>Dramas, Independent Movies, Thrillers</td>\n",
       "      <td>When two would-be robbers accidentally kill a ...</td>\n",
       "      <td>2019.0</td>\n",
       "      <td>97</td>\n",
       "      <td>min</td>\n",
       "    </tr>\n",
       "    <tr>\n",
       "      <th>4839</th>\n",
       "      <td>s6621</td>\n",
       "      <td>Movie</td>\n",
       "      <td>The Lost Okoroshi</td>\n",
       "      <td>Abba T. Makama</td>\n",
       "      <td>Seun Ajayi, Judith Audu, Tope Tedela, Ifu Enna...</td>\n",
       "      <td>Nigeria</td>\n",
       "      <td>2020-09-04</td>\n",
       "      <td>TV-MA</td>\n",
       "      <td>94 min</td>\n",
       "      <td>Comedies, Dramas, Independent Movies</td>\n",
       "      <td>A disillusioned security guard transforms into...</td>\n",
       "      <td>2020.0</td>\n",
       "      <td>94</td>\n",
       "      <td>min</td>\n",
       "    </tr>\n",
       "    <tr>\n",
       "      <th>6300</th>\n",
       "      <td>s684</td>\n",
       "      <td>Movie</td>\n",
       "      <td>Backfire</td>\n",
       "      <td>Dave Patten</td>\n",
       "      <td>Black Deniro, Byron \"Squally\" Vinson, Dominic ...</td>\n",
       "      <td>United States</td>\n",
       "      <td>2019-04-05</td>\n",
       "      <td>TV-MA</td>\n",
       "      <td>97 min</td>\n",
       "      <td>Dramas, Independent Movies, Thrillers</td>\n",
       "      <td>When two would-be robbers accidentally kill a ...</td>\n",
       "      <td>2019.0</td>\n",
       "      <td>97</td>\n",
       "      <td>min</td>\n",
       "    </tr>\n",
       "    <tr>\n",
       "      <th>6622</th>\n",
       "      <td>s6621</td>\n",
       "      <td>Movie</td>\n",
       "      <td>The Lost Okoroshi</td>\n",
       "      <td>Abba T. Makama</td>\n",
       "      <td>Seun Ajayi, Judith Audu, Tope Tedela, Ifu Enna...</td>\n",
       "      <td>Nigeria</td>\n",
       "      <td>2020-09-04</td>\n",
       "      <td>TV-MA</td>\n",
       "      <td>94 min</td>\n",
       "      <td>Comedies, Dramas, Independent Movies</td>\n",
       "      <td>A disillusioned security guard transforms into...</td>\n",
       "      <td>2020.0</td>\n",
       "      <td>94</td>\n",
       "      <td>min</td>\n",
       "    </tr>\n",
       "  </tbody>\n",
       "</table>\n",
       "</div>"
      ],
      "text/plain": [
       "     Show_Id Category              Title        Director  \\\n",
       "683     s684    Movie           Backfire     Dave Patten   \n",
       "4839   s6621    Movie  The Lost Okoroshi  Abba T. Makama   \n",
       "6300    s684    Movie           Backfire     Dave Patten   \n",
       "6622   s6621    Movie  The Lost Okoroshi  Abba T. Makama   \n",
       "\n",
       "                                                   Cast        Country  \\\n",
       "683   Black Deniro, Byron \"Squally\" Vinson, Dominic ...  United States   \n",
       "4839  Seun Ajayi, Judith Audu, Tope Tedela, Ifu Enna...        Nigeria   \n",
       "6300  Black Deniro, Byron \"Squally\" Vinson, Dominic ...  United States   \n",
       "6622  Seun Ajayi, Judith Audu, Tope Tedela, Ifu Enna...        Nigeria   \n",
       "\n",
       "     Release_Date Rating Duration                                   Type  \\\n",
       "683    2019-04-05  TV-MA   97 min  Dramas, Independent Movies, Thrillers   \n",
       "4839   2020-09-04  TV-MA   94 min   Comedies, Dramas, Independent Movies   \n",
       "6300   2019-04-05  TV-MA   97 min  Dramas, Independent Movies, Thrillers   \n",
       "6622   2020-09-04  TV-MA   94 min   Comedies, Dramas, Independent Movies   \n",
       "\n",
       "                                            Description    Year  \\\n",
       "683   When two would-be robbers accidentally kill a ...  2019.0   \n",
       "4839  A disillusioned security guard transforms into...  2020.0   \n",
       "6300  When two would-be robbers accidentally kill a ...  2019.0   \n",
       "6622  A disillusioned security guard transforms into...  2020.0   \n",
       "\n",
       "      Duration_length Unit  \n",
       "683                97  min  \n",
       "4839               94  min  \n",
       "6300               97  min  \n",
       "6622               94  min  "
      ]
     },
     "execution_count": 21,
     "metadata": {},
     "output_type": "execute_result"
    }
   ],
   "source": [
    "# Check row wise duplicate record\n",
    "data[data.duplicated(keep=False)]"
   ]
  },
  {
   "cell_type": "code",
   "execution_count": 18,
   "id": "63740676",
   "metadata": {},
   "outputs": [
    {
     "name": "stdout",
     "output_type": "stream",
     "text": [
      "Duplicate record delete sucessfully = None\n"
     ]
    }
   ],
   "source": [
    "# Remove record Permanently:-\n",
    "print(\"Duplicate record delete sucessfully =\",data.drop_duplicates(inplace=True))"
   ]
  },
  {
   "cell_type": "markdown",
   "id": "272e352c",
   "metadata": {},
   "source": [
    "###### Q2. To show the No. of Rows and Columns?\n"
   ]
  },
  {
   "cell_type": "code",
   "execution_count": 22,
   "id": "949f2edf",
   "metadata": {},
   "outputs": [
    {
     "name": "stdout",
     "output_type": "stream",
     "text": [
      "Number of Records= 7787\n",
      "Number of Columns= 14\n"
     ]
    }
   ],
   "source": [
    "print(\"Number of Records=\",len(data.index))\n",
    "print(\"Number of Columns=\",len(data.columns))"
   ]
  },
  {
   "cell_type": "markdown",
   "id": "18272460",
   "metadata": {},
   "source": [
    "###### Q3. To show top-5 records of the dataset?\n"
   ]
  },
  {
   "cell_type": "code",
   "execution_count": 25,
   "id": "9273eec4",
   "metadata": {},
   "outputs": [
    {
     "data": {
      "text/html": [
       "<div>\n",
       "<style scoped>\n",
       "    .dataframe tbody tr th:only-of-type {\n",
       "        vertical-align: middle;\n",
       "    }\n",
       "\n",
       "    .dataframe tbody tr th {\n",
       "        vertical-align: top;\n",
       "    }\n",
       "\n",
       "    .dataframe thead th {\n",
       "        text-align: right;\n",
       "    }\n",
       "</style>\n",
       "<table border=\"1\" class=\"dataframe\">\n",
       "  <thead>\n",
       "    <tr style=\"text-align: right;\">\n",
       "      <th></th>\n",
       "      <th>Show_Id</th>\n",
       "      <th>Category</th>\n",
       "      <th>Title</th>\n",
       "      <th>Director</th>\n",
       "      <th>Cast</th>\n",
       "      <th>Country</th>\n",
       "      <th>Release_Date</th>\n",
       "      <th>Rating</th>\n",
       "      <th>Duration</th>\n",
       "      <th>Type</th>\n",
       "      <th>Description</th>\n",
       "      <th>Year</th>\n",
       "      <th>Duration_length</th>\n",
       "      <th>Unit</th>\n",
       "    </tr>\n",
       "  </thead>\n",
       "  <tbody>\n",
       "    <tr>\n",
       "      <th>0</th>\n",
       "      <td>s1</td>\n",
       "      <td>TV Show</td>\n",
       "      <td>3%</td>\n",
       "      <td>NaN</td>\n",
       "      <td>João Miguel, Bianca Comparato, Michel Gomes, R...</td>\n",
       "      <td>Brazil</td>\n",
       "      <td>2020-08-14</td>\n",
       "      <td>TV-MA</td>\n",
       "      <td>4 Seasons</td>\n",
       "      <td>International TV Shows, TV Dramas, TV Sci-Fi &amp;...</td>\n",
       "      <td>In a future where the elite inhabit an island ...</td>\n",
       "      <td>2020.0</td>\n",
       "      <td>4</td>\n",
       "      <td>Seasons</td>\n",
       "    </tr>\n",
       "    <tr>\n",
       "      <th>1</th>\n",
       "      <td>s2</td>\n",
       "      <td>Movie</td>\n",
       "      <td>7:19</td>\n",
       "      <td>Jorge Michel Grau</td>\n",
       "      <td>Demián Bichir, Héctor Bonilla, Oscar Serrano, ...</td>\n",
       "      <td>Mexico</td>\n",
       "      <td>2016-12-23</td>\n",
       "      <td>TV-MA</td>\n",
       "      <td>93 min</td>\n",
       "      <td>Dramas, International Movies</td>\n",
       "      <td>After a devastating earthquake hits Mexico Cit...</td>\n",
       "      <td>2016.0</td>\n",
       "      <td>93</td>\n",
       "      <td>min</td>\n",
       "    </tr>\n",
       "    <tr>\n",
       "      <th>2</th>\n",
       "      <td>s3</td>\n",
       "      <td>Movie</td>\n",
       "      <td>23:59</td>\n",
       "      <td>Gilbert Chan</td>\n",
       "      <td>Tedd Chan, Stella Chung, Henley Hii, Lawrence ...</td>\n",
       "      <td>Singapore</td>\n",
       "      <td>2018-12-20</td>\n",
       "      <td>R</td>\n",
       "      <td>78 min</td>\n",
       "      <td>Horror Movies, International Movies</td>\n",
       "      <td>When an army recruit is found dead, his fellow...</td>\n",
       "      <td>2018.0</td>\n",
       "      <td>78</td>\n",
       "      <td>min</td>\n",
       "    </tr>\n",
       "    <tr>\n",
       "      <th>3</th>\n",
       "      <td>s4</td>\n",
       "      <td>Movie</td>\n",
       "      <td>9</td>\n",
       "      <td>Shane Acker</td>\n",
       "      <td>Elijah Wood, John C. Reilly, Jennifer Connelly...</td>\n",
       "      <td>United States</td>\n",
       "      <td>2017-11-16</td>\n",
       "      <td>PG-13</td>\n",
       "      <td>80 min</td>\n",
       "      <td>Action &amp; Adventure, Independent Movies, Sci-Fi...</td>\n",
       "      <td>In a postapocalyptic world, rag-doll robots hi...</td>\n",
       "      <td>2017.0</td>\n",
       "      <td>80</td>\n",
       "      <td>min</td>\n",
       "    </tr>\n",
       "    <tr>\n",
       "      <th>4</th>\n",
       "      <td>s5</td>\n",
       "      <td>Movie</td>\n",
       "      <td>21</td>\n",
       "      <td>Robert Luketic</td>\n",
       "      <td>Jim Sturgess, Kevin Spacey, Kate Bosworth, Aar...</td>\n",
       "      <td>United States</td>\n",
       "      <td>2020-01-01</td>\n",
       "      <td>PG-13</td>\n",
       "      <td>123 min</td>\n",
       "      <td>Dramas</td>\n",
       "      <td>A brilliant group of students become card-coun...</td>\n",
       "      <td>2020.0</td>\n",
       "      <td>123</td>\n",
       "      <td>min</td>\n",
       "    </tr>\n",
       "  </tbody>\n",
       "</table>\n",
       "</div>"
      ],
      "text/plain": [
       "  Show_Id Category  Title           Director  \\\n",
       "0      s1  TV Show     3%                NaN   \n",
       "1      s2    Movie   7:19  Jorge Michel Grau   \n",
       "2      s3    Movie  23:59       Gilbert Chan   \n",
       "3      s4    Movie      9        Shane Acker   \n",
       "4      s5    Movie     21     Robert Luketic   \n",
       "\n",
       "                                                Cast        Country  \\\n",
       "0  João Miguel, Bianca Comparato, Michel Gomes, R...         Brazil   \n",
       "1  Demián Bichir, Héctor Bonilla, Oscar Serrano, ...         Mexico   \n",
       "2  Tedd Chan, Stella Chung, Henley Hii, Lawrence ...      Singapore   \n",
       "3  Elijah Wood, John C. Reilly, Jennifer Connelly...  United States   \n",
       "4  Jim Sturgess, Kevin Spacey, Kate Bosworth, Aar...  United States   \n",
       "\n",
       "  Release_Date Rating   Duration  \\\n",
       "0   2020-08-14  TV-MA  4 Seasons   \n",
       "1   2016-12-23  TV-MA     93 min   \n",
       "2   2018-12-20      R     78 min   \n",
       "3   2017-11-16  PG-13     80 min   \n",
       "4   2020-01-01  PG-13    123 min   \n",
       "\n",
       "                                                Type  \\\n",
       "0  International TV Shows, TV Dramas, TV Sci-Fi &...   \n",
       "1                       Dramas, International Movies   \n",
       "2                Horror Movies, International Movies   \n",
       "3  Action & Adventure, Independent Movies, Sci-Fi...   \n",
       "4                                             Dramas   \n",
       "\n",
       "                                         Description    Year  Duration_length  \\\n",
       "0  In a future where the elite inhabit an island ...  2020.0                4   \n",
       "1  After a devastating earthquake hits Mexico Cit...  2016.0               93   \n",
       "2  When an army recruit is found dead, his fellow...  2018.0               78   \n",
       "3  In a postapocalyptic world, rag-doll robots hi...  2017.0               80   \n",
       "4  A brilliant group of students become card-coun...  2020.0              123   \n",
       "\n",
       "      Unit  \n",
       "0  Seasons  \n",
       "1      min  \n",
       "2      min  \n",
       "3      min  \n",
       "4      min  "
      ]
     },
     "execution_count": 25,
     "metadata": {},
     "output_type": "execute_result"
    }
   ],
   "source": [
    "data.head()"
   ]
  },
  {
   "cell_type": "markdown",
   "id": "830490ce",
   "metadata": {},
   "source": [
    "###### Q4. To show bottom-5 records of dataset?\n"
   ]
  },
  {
   "cell_type": "code",
   "execution_count": 24,
   "id": "01f34df0",
   "metadata": {},
   "outputs": [
    {
     "data": {
      "text/html": [
       "<div>\n",
       "<style scoped>\n",
       "    .dataframe tbody tr th:only-of-type {\n",
       "        vertical-align: middle;\n",
       "    }\n",
       "\n",
       "    .dataframe tbody tr th {\n",
       "        vertical-align: top;\n",
       "    }\n",
       "\n",
       "    .dataframe thead th {\n",
       "        text-align: right;\n",
       "    }\n",
       "</style>\n",
       "<table border=\"1\" class=\"dataframe\">\n",
       "  <thead>\n",
       "    <tr style=\"text-align: right;\">\n",
       "      <th></th>\n",
       "      <th>Show_Id</th>\n",
       "      <th>Category</th>\n",
       "      <th>Title</th>\n",
       "      <th>Director</th>\n",
       "      <th>Cast</th>\n",
       "      <th>Country</th>\n",
       "      <th>Release_Date</th>\n",
       "      <th>Rating</th>\n",
       "      <th>Duration</th>\n",
       "      <th>Type</th>\n",
       "      <th>Description</th>\n",
       "      <th>Year</th>\n",
       "      <th>Duration_length</th>\n",
       "      <th>Unit</th>\n",
       "    </tr>\n",
       "  </thead>\n",
       "  <tbody>\n",
       "    <tr>\n",
       "      <th>7784</th>\n",
       "      <td>s7783</td>\n",
       "      <td>Movie</td>\n",
       "      <td>Zozo</td>\n",
       "      <td>Josef Fares</td>\n",
       "      <td>Imad Creidi, Antoinette Turk, Elias Gergi, Car...</td>\n",
       "      <td>Sweden, Czech Republic, United Kingdom, Denmar...</td>\n",
       "      <td>2020-10-19</td>\n",
       "      <td>TV-MA</td>\n",
       "      <td>99 min</td>\n",
       "      <td>Dramas, International Movies</td>\n",
       "      <td>When Lebanon's Civil War deprives Zozo of his ...</td>\n",
       "      <td>2020.0</td>\n",
       "      <td>99</td>\n",
       "      <td>min</td>\n",
       "    </tr>\n",
       "    <tr>\n",
       "      <th>7785</th>\n",
       "      <td>s7784</td>\n",
       "      <td>Movie</td>\n",
       "      <td>Zubaan</td>\n",
       "      <td>Mozez Singh</td>\n",
       "      <td>Vicky Kaushal, Sarah-Jane Dias, Raaghav Chanan...</td>\n",
       "      <td>India</td>\n",
       "      <td>2019-03-02</td>\n",
       "      <td>TV-14</td>\n",
       "      <td>111 min</td>\n",
       "      <td>Dramas, International Movies, Music &amp; Musicals</td>\n",
       "      <td>A scrappy but poor boy worms his way into a ty...</td>\n",
       "      <td>2019.0</td>\n",
       "      <td>111</td>\n",
       "      <td>min</td>\n",
       "    </tr>\n",
       "    <tr>\n",
       "      <th>7786</th>\n",
       "      <td>s7785</td>\n",
       "      <td>Movie</td>\n",
       "      <td>Zulu Man in Japan</td>\n",
       "      <td>NaN</td>\n",
       "      <td>Nasty C</td>\n",
       "      <td>NaN</td>\n",
       "      <td>2020-09-25</td>\n",
       "      <td>TV-MA</td>\n",
       "      <td>44 min</td>\n",
       "      <td>Documentaries, International Movies, Music &amp; M...</td>\n",
       "      <td>In this documentary, South African rapper Nast...</td>\n",
       "      <td>2020.0</td>\n",
       "      <td>44</td>\n",
       "      <td>min</td>\n",
       "    </tr>\n",
       "    <tr>\n",
       "      <th>7787</th>\n",
       "      <td>s7786</td>\n",
       "      <td>TV Show</td>\n",
       "      <td>Zumbo's Just Desserts</td>\n",
       "      <td>NaN</td>\n",
       "      <td>Adriano Zumbo, Rachel Khoo</td>\n",
       "      <td>Australia</td>\n",
       "      <td>2020-10-31</td>\n",
       "      <td>TV-PG</td>\n",
       "      <td>1 Season</td>\n",
       "      <td>International TV Shows, Reality TV</td>\n",
       "      <td>Dessert wizard Adriano Zumbo looks for the nex...</td>\n",
       "      <td>2020.0</td>\n",
       "      <td>1</td>\n",
       "      <td>Season</td>\n",
       "    </tr>\n",
       "    <tr>\n",
       "      <th>7788</th>\n",
       "      <td>s7787</td>\n",
       "      <td>Movie</td>\n",
       "      <td>ZZ TOP: THAT LITTLE OL' BAND FROM TEXAS</td>\n",
       "      <td>Sam Dunn</td>\n",
       "      <td>NaN</td>\n",
       "      <td>United Kingdom, Canada, United States</td>\n",
       "      <td>2020-03-01</td>\n",
       "      <td>TV-MA</td>\n",
       "      <td>90 min</td>\n",
       "      <td>Documentaries, Music &amp; Musicals</td>\n",
       "      <td>This documentary delves into the mystique behi...</td>\n",
       "      <td>2020.0</td>\n",
       "      <td>90</td>\n",
       "      <td>min</td>\n",
       "    </tr>\n",
       "  </tbody>\n",
       "</table>\n",
       "</div>"
      ],
      "text/plain": [
       "     Show_Id Category                                    Title     Director  \\\n",
       "7784   s7783    Movie                                     Zozo  Josef Fares   \n",
       "7785   s7784    Movie                                   Zubaan  Mozez Singh   \n",
       "7786   s7785    Movie                        Zulu Man in Japan          NaN   \n",
       "7787   s7786  TV Show                    Zumbo's Just Desserts          NaN   \n",
       "7788   s7787    Movie  ZZ TOP: THAT LITTLE OL' BAND FROM TEXAS     Sam Dunn   \n",
       "\n",
       "                                                   Cast  \\\n",
       "7784  Imad Creidi, Antoinette Turk, Elias Gergi, Car...   \n",
       "7785  Vicky Kaushal, Sarah-Jane Dias, Raaghav Chanan...   \n",
       "7786                                            Nasty C   \n",
       "7787                         Adriano Zumbo, Rachel Khoo   \n",
       "7788                                                NaN   \n",
       "\n",
       "                                                Country Release_Date Rating  \\\n",
       "7784  Sweden, Czech Republic, United Kingdom, Denmar...   2020-10-19  TV-MA   \n",
       "7785                                              India   2019-03-02  TV-14   \n",
       "7786                                                NaN   2020-09-25  TV-MA   \n",
       "7787                                          Australia   2020-10-31  TV-PG   \n",
       "7788              United Kingdom, Canada, United States   2020-03-01  TV-MA   \n",
       "\n",
       "      Duration                                               Type  \\\n",
       "7784    99 min                       Dramas, International Movies   \n",
       "7785   111 min     Dramas, International Movies, Music & Musicals   \n",
       "7786    44 min  Documentaries, International Movies, Music & M...   \n",
       "7787  1 Season                 International TV Shows, Reality TV   \n",
       "7788    90 min                    Documentaries, Music & Musicals   \n",
       "\n",
       "                                            Description    Year  \\\n",
       "7784  When Lebanon's Civil War deprives Zozo of his ...  2020.0   \n",
       "7785  A scrappy but poor boy worms his way into a ty...  2019.0   \n",
       "7786  In this documentary, South African rapper Nast...  2020.0   \n",
       "7787  Dessert wizard Adriano Zumbo looks for the nex...  2020.0   \n",
       "7788  This documentary delves into the mystique behi...  2020.0   \n",
       "\n",
       "      Duration_length    Unit  \n",
       "7784               99     min  \n",
       "7785              111     min  \n",
       "7786               44     min  \n",
       "7787                1  Season  \n",
       "7788               90     min  "
      ]
     },
     "execution_count": 24,
     "metadata": {},
     "output_type": "execute_result"
    }
   ],
   "source": [
    "data.tail()"
   ]
  },
  {
   "cell_type": "markdown",
   "id": "02d339a6",
   "metadata": {},
   "source": [
    "###### Q5. To show each Column Name?\n"
   ]
  },
  {
   "cell_type": "code",
   "execution_count": 26,
   "id": "60441e5c",
   "metadata": {},
   "outputs": [
    {
     "data": {
      "text/plain": [
       "Index(['Show_Id', 'Category', 'Title', 'Director', 'Cast', 'Country',\n",
       "       'Release_Date', 'Rating', 'Duration', 'Type', 'Description', 'Year',\n",
       "       'Duration_length', 'Unit'],\n",
       "      dtype='object')"
      ]
     },
     "execution_count": 26,
     "metadata": {},
     "output_type": "execute_result"
    }
   ],
   "source": [
    "data.columns"
   ]
  },
  {
   "cell_type": "code",
   "execution_count": 27,
   "id": "1fb463c1",
   "metadata": {},
   "outputs": [
    {
     "data": {
      "text/plain": [
       "['Show_Id',\n",
       " 'Category',\n",
       " 'Title',\n",
       " 'Director',\n",
       " 'Cast',\n",
       " 'Country',\n",
       " 'Release_Date',\n",
       " 'Rating',\n",
       " 'Duration',\n",
       " 'Type',\n",
       " 'Description',\n",
       " 'Year',\n",
       " 'Duration_length',\n",
       " 'Unit']"
      ]
     },
     "execution_count": 27,
     "metadata": {},
     "output_type": "execute_result"
    }
   ],
   "source": [
    "data.columns.tolist()"
   ]
  },
  {
   "cell_type": "markdown",
   "id": "9e120dca",
   "metadata": {},
   "source": [
    "###### Q6. To show the data-type of each column?\n"
   ]
  },
  {
   "cell_type": "code",
   "execution_count": 29,
   "id": "ca31b407",
   "metadata": {},
   "outputs": [
    {
     "data": {
      "text/plain": [
       "Show_Id                    object\n",
       "Category                   object\n",
       "Title                      object\n",
       "Director                   object\n",
       "Cast                       object\n",
       "Country                    object\n",
       "Release_Date       datetime64[ns]\n",
       "Rating                     object\n",
       "Duration                   object\n",
       "Type                       object\n",
       "Description                object\n",
       "Year                      float64\n",
       "Duration_length             int32\n",
       "Unit                       object\n",
       "dtype: object"
      ]
     },
     "execution_count": 29,
     "metadata": {},
     "output_type": "execute_result"
    }
   ],
   "source": [
    "data.dtypes"
   ]
  },
  {
   "cell_type": "markdown",
   "id": "c87ed1fc",
   "metadata": {},
   "source": [
    "###### Q7. Is there any Null Value present in any column ?\n"
   ]
  },
  {
   "cell_type": "code",
   "execution_count": 30,
   "id": "36ad1d8f",
   "metadata": {},
   "outputs": [
    {
     "data": {
      "text/plain": [
       "Show_Id               0\n",
       "Category              0\n",
       "Title                 0\n",
       "Director           2388\n",
       "Cast                718\n",
       "Country             507\n",
       "Release_Date         10\n",
       "Rating                7\n",
       "Duration              0\n",
       "Type                  0\n",
       "Description           0\n",
       "Year                 10\n",
       "Duration_length       0\n",
       "Unit                  0\n",
       "dtype: int64"
      ]
     },
     "execution_count": 30,
     "metadata": {},
     "output_type": "execute_result"
    }
   ],
   "source": [
    "data.isnull().sum()"
   ]
  },
  {
   "cell_type": "markdown",
   "id": "b828a66c",
   "metadata": {},
   "source": [
    "###### Q8. For 'House of Cards', what is the Show Id and Who is the Director of this show ?             "
   ]
  },
  {
   "cell_type": "code",
   "execution_count": 31,
   "id": "4f5770c4",
   "metadata": {},
   "outputs": [
    {
     "data": {
      "text/html": [
       "<div>\n",
       "<style scoped>\n",
       "    .dataframe tbody tr th:only-of-type {\n",
       "        vertical-align: middle;\n",
       "    }\n",
       "\n",
       "    .dataframe tbody tr th {\n",
       "        vertical-align: top;\n",
       "    }\n",
       "\n",
       "    .dataframe thead th {\n",
       "        text-align: right;\n",
       "    }\n",
       "</style>\n",
       "<table border=\"1\" class=\"dataframe\">\n",
       "  <thead>\n",
       "    <tr style=\"text-align: right;\">\n",
       "      <th></th>\n",
       "      <th>Title</th>\n",
       "      <th>Show_Id</th>\n",
       "      <th>Director</th>\n",
       "    </tr>\n",
       "  </thead>\n",
       "  <tbody>\n",
       "    <tr>\n",
       "      <th>2832</th>\n",
       "      <td>House of Cards</td>\n",
       "      <td>s2833</td>\n",
       "      <td>Robin Wright, David Fincher, Gerald McRaney, J...</td>\n",
       "    </tr>\n",
       "  </tbody>\n",
       "</table>\n",
       "</div>"
      ],
      "text/plain": [
       "               Title Show_Id  \\\n",
       "2832  House of Cards   s2833   \n",
       "\n",
       "                                               Director  \n",
       "2832  Robin Wright, David Fincher, Gerald McRaney, J...  "
      ]
     },
     "execution_count": 31,
     "metadata": {},
     "output_type": "execute_result"
    }
   ],
   "source": [
    "data[data[\"Title\"]==\"House of Cards\"][[\"Title\",\"Show_Id\",\"Director\"]]   "
   ]
  },
  {
   "cell_type": "code",
   "execution_count": 43,
   "id": "e4eae05b",
   "metadata": {},
   "outputs": [
    {
     "data": {
      "text/html": [
       "<div>\n",
       "<style scoped>\n",
       "    .dataframe tbody tr th:only-of-type {\n",
       "        vertical-align: middle;\n",
       "    }\n",
       "\n",
       "    .dataframe tbody tr th {\n",
       "        vertical-align: top;\n",
       "    }\n",
       "\n",
       "    .dataframe thead th {\n",
       "        text-align: right;\n",
       "    }\n",
       "</style>\n",
       "<table border=\"1\" class=\"dataframe\">\n",
       "  <thead>\n",
       "    <tr style=\"text-align: right;\">\n",
       "      <th></th>\n",
       "      <th>Show_Id</th>\n",
       "      <th>Category</th>\n",
       "      <th>Title</th>\n",
       "      <th>Director</th>\n",
       "      <th>Cast</th>\n",
       "      <th>Country</th>\n",
       "      <th>Release_Date</th>\n",
       "      <th>Rating</th>\n",
       "      <th>Duration</th>\n",
       "      <th>Type</th>\n",
       "      <th>Description</th>\n",
       "      <th>Year</th>\n",
       "      <th>Duration_length</th>\n",
       "      <th>Unit</th>\n",
       "    </tr>\n",
       "  </thead>\n",
       "  <tbody>\n",
       "    <tr>\n",
       "      <th>2832</th>\n",
       "      <td>s2833</td>\n",
       "      <td>TV Show</td>\n",
       "      <td>House of Cards</td>\n",
       "      <td>Robin Wright, David Fincher, Gerald McRaney, J...</td>\n",
       "      <td>Kevin Spacey, Robin Wright, Kate Mara, Corey S...</td>\n",
       "      <td>United States</td>\n",
       "      <td>2018-11-02</td>\n",
       "      <td>TV-MA</td>\n",
       "      <td>6 Seasons</td>\n",
       "      <td>TV Dramas, TV Thrillers</td>\n",
       "      <td>A ruthless politician will stop at nothing to ...</td>\n",
       "      <td>2018.0</td>\n",
       "      <td>6</td>\n",
       "      <td>Seasons</td>\n",
       "    </tr>\n",
       "  </tbody>\n",
       "</table>\n",
       "</div>"
      ],
      "text/plain": [
       "     Show_Id Category           Title  \\\n",
       "2832   s2833  TV Show  House of Cards   \n",
       "\n",
       "                                               Director  \\\n",
       "2832  Robin Wright, David Fincher, Gerald McRaney, J...   \n",
       "\n",
       "                                                   Cast        Country  \\\n",
       "2832  Kevin Spacey, Robin Wright, Kate Mara, Corey S...  United States   \n",
       "\n",
       "     Release_Date Rating   Duration                     Type  \\\n",
       "2832   2018-11-02  TV-MA  6 Seasons  TV Dramas, TV Thrillers   \n",
       "\n",
       "                                            Description    Year  \\\n",
       "2832  A ruthless politician will stop at nothing to ...  2018.0   \n",
       "\n",
       "      Duration_length     Unit  \n",
       "2832                6  Seasons  "
      ]
     },
     "execution_count": 43,
     "metadata": {},
     "output_type": "execute_result"
    }
   ],
   "source": [
    "data[data[\"Title\"].str.contains(\"House of Cards\")]"
   ]
  },
  {
   "cell_type": "code",
   "execution_count": 39,
   "id": "d8928d64",
   "metadata": {},
   "outputs": [
    {
     "data": {
      "text/html": [
       "<div>\n",
       "<style scoped>\n",
       "    .dataframe tbody tr th:only-of-type {\n",
       "        vertical-align: middle;\n",
       "    }\n",
       "\n",
       "    .dataframe tbody tr th {\n",
       "        vertical-align: top;\n",
       "    }\n",
       "\n",
       "    .dataframe thead th {\n",
       "        text-align: right;\n",
       "    }\n",
       "</style>\n",
       "<table border=\"1\" class=\"dataframe\">\n",
       "  <thead>\n",
       "    <tr style=\"text-align: right;\">\n",
       "      <th></th>\n",
       "      <th>Title</th>\n",
       "      <th>Show_Id</th>\n",
       "      <th>Director</th>\n",
       "    </tr>\n",
       "  </thead>\n",
       "  <tbody>\n",
       "    <tr>\n",
       "      <th>2832</th>\n",
       "      <td>House of Cards</td>\n",
       "      <td>s2833</td>\n",
       "      <td>Robin Wright, David Fincher, Gerald McRaney, J...</td>\n",
       "    </tr>\n",
       "  </tbody>\n",
       "</table>\n",
       "</div>"
      ],
      "text/plain": [
       "               Title Show_Id  \\\n",
       "2832  House of Cards   s2833   \n",
       "\n",
       "                                               Director  \n",
       "2832  Robin Wright, David Fincher, Gerald McRaney, J...  "
      ]
     },
     "execution_count": 39,
     "metadata": {},
     "output_type": "execute_result"
    }
   ],
   "source": [
    "data[data[\"Title\"].isin([\"House of Cards\"])][[\"Title\",\"Show_Id\",\"Director\"]]"
   ]
  },
  {
   "cell_type": "markdown",
   "id": "dce89029",
   "metadata": {},
   "source": [
    "###### Q9. In which year highest number of the TV Shows & Movies were released ? Show with bar graph.\n"
   ]
  },
  {
   "cell_type": "code",
   "execution_count": 62,
   "id": "8a4be418",
   "metadata": {},
   "outputs": [
    {
     "name": "stdout",
     "output_type": "stream",
     "text": [
      "Highest number of movies and shows release in a year = 2153\n",
      "Highest number of movies & shows released in the year = 2019.0\n"
     ]
    },
    {
     "data": {
      "image/png": "[encoded data removed]",
      "text/plain": [
       "<Figure size 640x480 with 1 Axes>"
      ]
     },
     "metadata": {},
     "output_type": "display_data"
    }
   ],
   "source": [
    "# through Release_Date column()\n",
    "Total_movies_and_shows_in_a_year=data[\"Release_Date\"].dt.year.value_counts()\n",
    "print(\"Highest number of movies and shows release in a year =\",Total_movies_and_shows_in_a_year.max())\n",
    "print(\"Highest number of movies & shows released in the year =\",Total_movies_and_shows_in_a_year.idxmax())\n",
    "\n",
    "# plot in a bar graph\n",
    "import matplotlib.pyplot as plt\n",
    "Total_movies_and_shows_in_a_year.plot(kind=\"bar\")\n",
    "plt.title('Number of TV Shows and Movies Released Each Year')\n",
    "plt.xlabel('Year')\n",
    "plt.ylabel('Number of Shows/Movies')\n",
    "plt.show()\n"
   ]
  },
  {
   "cell_type": "code",
   "execution_count": 50,
   "id": "1b814b4a",
   "metadata": {},
   "outputs": [
    {
     "data": {
      "text/plain": [
       "2019.0"
      ]
     },
     "execution_count": 50,
     "metadata": {},
     "output_type": "execute_result"
    }
   ],
   "source": [
    "data[\"Year\"].value_counts().idxmax()"
   ]
  },
  {
   "cell_type": "markdown",
   "id": "6f0fde00",
   "metadata": {},
   "source": [
    "###### Q10. How many Movies & TV Shows are in the dataset ? Show with Bar Graph."
   ]
  },
  {
   "cell_type": "code",
   "execution_count": 56,
   "id": "228663f2",
   "metadata": {},
   "outputs": [
    {
     "name": "stdout",
     "output_type": "stream",
     "text": [
      "Movie      5377\n",
      "TV Show    2410\n",
      "Name: Category, dtype: int64\n"
     ]
    },
    {
     "data": {
      "image/png": "[encoded data removed]",
      "text/plain": [
       "<Figure size 640x480 with 1 Axes>"
      ]
     },
     "metadata": {},
     "output_type": "display_data"
    }
   ],
   "source": [
    "print(data[\"Category\"].value_counts())\n",
    "data[\"Category\"].value_counts().plot(kind=\"bar\",cmap=\"summer\")\n",
    "plt.title(\"Movies vs Tv Shows\")\n",
    "plt.ylabel('Number of Shows/Movies')\n",
    "plt.show()\n"
   ]
  },
  {
   "cell_type": "markdown",
   "id": "50ee6944",
   "metadata": {},
   "source": [
    "###### Q11. Show all the Movies that were released in year 2000?"
   ]
  },
  {
   "cell_type": "code",
   "execution_count": 72,
   "id": "6c2e8b2b",
   "metadata": {},
   "outputs": [
    {
     "name": "stdout",
     "output_type": "stream",
     "text": [
      "Empty DataFrame\n",
      "Columns: [Show_Id, Category, Title, Director, Cast, Country, Release_Date, Rating, Duration, Type, Description, Year, Duration_length, Unit]\n",
      "Index: []\n"
     ]
    }
   ],
   "source": [
    "print(data[(data[\"Year\"]==2000) & (data[\"Category\"]==\"Movie\")])"
   ]
  },
  {
   "cell_type": "markdown",
   "id": "c3f6a5d1",
   "metadata": {},
   "source": [
    "###### Q12. Show only the Titles of all TV Shows that were released in India only?"
   ]
  },
  {
   "cell_type": "code",
   "execution_count": 75,
   "id": "063d2470",
   "metadata": {},
   "outputs": [
    {
     "data": {
      "text/html": [
       "<div>\n",
       "<style scoped>\n",
       "    .dataframe tbody tr th:only-of-type {\n",
       "        vertical-align: middle;\n",
       "    }\n",
       "\n",
       "    .dataframe tbody tr th {\n",
       "        vertical-align: top;\n",
       "    }\n",
       "\n",
       "    .dataframe thead th {\n",
       "        text-align: right;\n",
       "    }\n",
       "</style>\n",
       "<table border=\"1\" class=\"dataframe\">\n",
       "  <thead>\n",
       "    <tr style=\"text-align: right;\">\n",
       "      <th></th>\n",
       "      <th>Title</th>\n",
       "    </tr>\n",
       "  </thead>\n",
       "  <tbody>\n",
       "    <tr>\n",
       "      <th>86</th>\n",
       "      <td>21 Sarfarosh: Saragarhi 1897</td>\n",
       "    </tr>\n",
       "    <tr>\n",
       "      <th>132</th>\n",
       "      <td>7 (Seven)</td>\n",
       "    </tr>\n",
       "    <tr>\n",
       "      <th>340</th>\n",
       "      <td>Agent Raghav</td>\n",
       "    </tr>\n",
       "    <tr>\n",
       "      <th>364</th>\n",
       "      <td>Akbar Birbal</td>\n",
       "    </tr>\n",
       "    <tr>\n",
       "      <th>533</th>\n",
       "      <td>Anjaan: Rural Myths</td>\n",
       "    </tr>\n",
       "    <tr>\n",
       "      <th>...</th>\n",
       "      <td>...</td>\n",
       "    </tr>\n",
       "    <tr>\n",
       "      <th>6249</th>\n",
       "      <td>The Creative Indians</td>\n",
       "    </tr>\n",
       "    <tr>\n",
       "      <th>6400</th>\n",
       "      <td>The Golden Years with Javed Akhtar</td>\n",
       "    </tr>\n",
       "    <tr>\n",
       "      <th>6469</th>\n",
       "      <td>The House That Made Me</td>\n",
       "    </tr>\n",
       "    <tr>\n",
       "      <th>7294</th>\n",
       "      <td>Typewriter</td>\n",
       "    </tr>\n",
       "    <tr>\n",
       "      <th>7705</th>\n",
       "      <td>Yeh Meri Family</td>\n",
       "    </tr>\n",
       "  </tbody>\n",
       "</table>\n",
       "<p>71 rows × 1 columns</p>\n",
       "</div>"
      ],
      "text/plain": [
       "                                   Title\n",
       "86          21 Sarfarosh: Saragarhi 1897\n",
       "132                            7 (Seven)\n",
       "340                         Agent Raghav\n",
       "364                         Akbar Birbal\n",
       "533                  Anjaan: Rural Myths\n",
       "...                                  ...\n",
       "6249                The Creative Indians\n",
       "6400  The Golden Years with Javed Akhtar\n",
       "6469              The House That Made Me\n",
       "7294                          Typewriter\n",
       "7705                     Yeh Meri Family\n",
       "\n",
       "[71 rows x 1 columns]"
      ]
     },
     "execution_count": 75,
     "metadata": {},
     "output_type": "execute_result"
    }
   ],
   "source": [
    "data[(data['Category'] == 'TV Show') & (data['Country'] == 'India')][[\"Title\"]]\n"
   ]
  },
  {
   "cell_type": "markdown",
   "id": "9ef16780",
   "metadata": {},
   "source": [
    "###### Q13. Show Top 10 Directors, who gave the highest number of TV Shows & Movies to Netflix ?"
   ]
  },
  {
   "cell_type": "code",
   "execution_count": 81,
   "id": "5755b52b",
   "metadata": {},
   "outputs": [
    {
     "data": {
      "text/plain": [
       "Raúl Campos, Jan Suter    18\n",
       "Marcus Raboy              16\n",
       "Jay Karas                 14\n",
       "Cathy Garcia-Molina       13\n",
       "Jay Chapman               12\n",
       "Youssef Chahine           12\n",
       "Martin Scorsese           12\n",
       "Steven Spielberg          10\n",
       "David Dhawan               9\n",
       "Hakan Algül                8\n",
       "Name: Director, dtype: int64"
      ]
     },
     "execution_count": 81,
     "metadata": {},
     "output_type": "execute_result"
    }
   ],
   "source": [
    "data[\"Director\"].value_counts(ascending=False).head(10)\n"
   ]
  },
  {
   "cell_type": "markdown",
   "id": "5d868e8e",
   "metadata": {},
   "source": [
    "Show top 2 Director who direct most number of tv_shows"
   ]
  },
  {
   "cell_type": "code",
   "execution_count": 82,
   "id": "dcb6f876",
   "metadata": {},
   "outputs": [
    {
     "data": {
      "text/plain": [
       "Alastair Fothergill    3\n",
       "Shin Won-ho            2\n",
       "Name: Director, dtype: int64"
      ]
     },
     "execution_count": 82,
     "metadata": {},
     "output_type": "execute_result"
    }
   ],
   "source": [
    "data[data[\"Category\"]==\"TV Show\"][\"Director\"].value_counts().head(2)"
   ]
  },
  {
   "cell_type": "markdown",
   "id": "8c87060d",
   "metadata": {},
   "source": [
    "Show top 5 Director who direct most number of movies"
   ]
  },
  {
   "cell_type": "code",
   "execution_count": 83,
   "id": "ecf5b706",
   "metadata": {},
   "outputs": [
    {
     "data": {
      "text/plain": [
       "Raúl Campos, Jan Suter    18\n",
       "Marcus Raboy              15\n",
       "Name: Director, dtype: int64"
      ]
     },
     "execution_count": 83,
     "metadata": {},
     "output_type": "execute_result"
    }
   ],
   "source": [
    "data[data[\"Category\"]==\"Movie\"][\"Director\"].value_counts().head(2)"
   ]
  },
  {
   "cell_type": "markdown",
   "id": "faa35f9d",
   "metadata": {},
   "source": [
    "Show Top 5 Directors, who direct most number of movie & tv shows in india ?"
   ]
  },
  {
   "cell_type": "code",
   "execution_count": 84,
   "id": "f533b153",
   "metadata": {},
   "outputs": [
    {
     "data": {
      "text/plain": [
       "David Dhawan          9\n",
       "Sooraj R. Barjatya    6\n",
       "Imtiaz Ali            6\n",
       "Ram Gopal Varma       6\n",
       "Rajkumar Santoshi     6\n",
       "Name: Director, dtype: int64"
      ]
     },
     "execution_count": 84,
     "metadata": {},
     "output_type": "execute_result"
    }
   ],
   "source": [
    "data[data['Country'] == 'India'][\"Director\"].value_counts().head()"
   ]
  },
  {
   "cell_type": "markdown",
   "id": "202993dc",
   "metadata": {},
   "source": [
    "Show top 5 Director from india who direct most number of tv_shows"
   ]
  },
  {
   "cell_type": "code",
   "execution_count": 85,
   "id": "b49030a2",
   "metadata": {},
   "outputs": [
    {
     "data": {
      "text/plain": [
       "Nizar Shafi                                                           1\n",
       "Patrick Graham                                                        1\n",
       "Soumendra Padhi                                                       1\n",
       "Sudha Kongara, Vignesh Shivan, Gautham Vasudev Menon, Vetri Maaran    1\n",
       "Vijay Roche                                                           1\n",
       "Name: Director, dtype: int64"
      ]
     },
     "execution_count": 85,
     "metadata": {},
     "output_type": "execute_result"
    }
   ],
   "source": [
    "data[(data['Country'] == 'India') & (data['Category'] == 'TV Show')][\"Director\"].value_counts(ascending=False).head()"
   ]
  },
  {
   "cell_type": "markdown",
   "id": "f96a59b6",
   "metadata": {},
   "source": [
    "###### Q15. Show all the Records, where \"Category is Movie and Type is Comedies\" or \"Country is United Kingdom\" ?"
   ]
  },
  {
   "cell_type": "code",
   "execution_count": 86,
   "id": "c3b87cd3",
   "metadata": {},
   "outputs": [
    {
     "data": {
      "text/html": [
       "<div>\n",
       "<style scoped>\n",
       "    .dataframe tbody tr th:only-of-type {\n",
       "        vertical-align: middle;\n",
       "    }\n",
       "\n",
       "    .dataframe tbody tr th {\n",
       "        vertical-align: top;\n",
       "    }\n",
       "\n",
       "    .dataframe thead th {\n",
       "        text-align: right;\n",
       "    }\n",
       "</style>\n",
       "<table border=\"1\" class=\"dataframe\">\n",
       "  <thead>\n",
       "    <tr style=\"text-align: right;\">\n",
       "      <th></th>\n",
       "      <th>Show_Id</th>\n",
       "      <th>Category</th>\n",
       "      <th>Title</th>\n",
       "      <th>Director</th>\n",
       "      <th>Cast</th>\n",
       "      <th>Country</th>\n",
       "      <th>Release_Date</th>\n",
       "      <th>Rating</th>\n",
       "      <th>Duration</th>\n",
       "      <th>Type</th>\n",
       "      <th>Description</th>\n",
       "      <th>Year</th>\n",
       "      <th>Duration_length</th>\n",
       "      <th>Unit</th>\n",
       "    </tr>\n",
       "  </thead>\n",
       "  <tbody>\n",
       "    <tr>\n",
       "      <th>19</th>\n",
       "      <td>s20</td>\n",
       "      <td>Movie</td>\n",
       "      <td>89</td>\n",
       "      <td>NaN</td>\n",
       "      <td>Lee Dixon, Ian Wright, Paul Merson</td>\n",
       "      <td>United Kingdom</td>\n",
       "      <td>2018-05-16</td>\n",
       "      <td>TV-PG</td>\n",
       "      <td>87 min</td>\n",
       "      <td>Sports Movies</td>\n",
       "      <td>Mixing old footage with interviews, this is th...</td>\n",
       "      <td>2018.0</td>\n",
       "      <td>87</td>\n",
       "      <td>min</td>\n",
       "    </tr>\n",
       "    <tr>\n",
       "      <th>33</th>\n",
       "      <td>s34</td>\n",
       "      <td>Movie</td>\n",
       "      <td>#realityhigh</td>\n",
       "      <td>Fernando Lebrija</td>\n",
       "      <td>Nesta Cooper, Kate Walsh, John Michael Higgins...</td>\n",
       "      <td>United States</td>\n",
       "      <td>2017-09-08</td>\n",
       "      <td>TV-14</td>\n",
       "      <td>99 min</td>\n",
       "      <td>Comedies</td>\n",
       "      <td>When nerdy high schooler Dani finally attracts...</td>\n",
       "      <td>2017.0</td>\n",
       "      <td>99</td>\n",
       "      <td>min</td>\n",
       "    </tr>\n",
       "    <tr>\n",
       "      <th>58</th>\n",
       "      <td>s59</td>\n",
       "      <td>TV Show</td>\n",
       "      <td>100% Hotter</td>\n",
       "      <td>NaN</td>\n",
       "      <td>Daniel Palmer, Melissa Sophia, Karen Williams,...</td>\n",
       "      <td>United Kingdom</td>\n",
       "      <td>2019-11-01</td>\n",
       "      <td>TV-14</td>\n",
       "      <td>1 Season</td>\n",
       "      <td>British TV Shows, International TV Shows, Real...</td>\n",
       "      <td>A stylist, a hair designer and a makeup artist...</td>\n",
       "      <td>2019.0</td>\n",
       "      <td>1</td>\n",
       "      <td>Season</td>\n",
       "    </tr>\n",
       "    <tr>\n",
       "      <th>72</th>\n",
       "      <td>s73</td>\n",
       "      <td>Movie</td>\n",
       "      <td>17 Again</td>\n",
       "      <td>Burr Steers</td>\n",
       "      <td>Zac Efron, Leslie Mann, Matthew Perry, Thomas ...</td>\n",
       "      <td>United States</td>\n",
       "      <td>2021-01-01</td>\n",
       "      <td>PG-13</td>\n",
       "      <td>102 min</td>\n",
       "      <td>Comedies</td>\n",
       "      <td>Nearing a midlife crisis, thirty-something Mik...</td>\n",
       "      <td>2021.0</td>\n",
       "      <td>102</td>\n",
       "      <td>min</td>\n",
       "    </tr>\n",
       "    <tr>\n",
       "      <th>82</th>\n",
       "      <td>s83</td>\n",
       "      <td>Movie</td>\n",
       "      <td>2036 Origin Unknown</td>\n",
       "      <td>Hasraf Dulull</td>\n",
       "      <td>Katee Sackhoff, Ray Fearon, Julie Cox, Steven ...</td>\n",
       "      <td>United Kingdom</td>\n",
       "      <td>2018-12-20</td>\n",
       "      <td>TV-14</td>\n",
       "      <td>95 min</td>\n",
       "      <td>Sci-Fi &amp; Fantasy</td>\n",
       "      <td>Working with an artificial intelligence to inv...</td>\n",
       "      <td>2018.0</td>\n",
       "      <td>95</td>\n",
       "      <td>min</td>\n",
       "    </tr>\n",
       "    <tr>\n",
       "      <th>...</th>\n",
       "      <td>...</td>\n",
       "      <td>...</td>\n",
       "      <td>...</td>\n",
       "      <td>...</td>\n",
       "      <td>...</td>\n",
       "      <td>...</td>\n",
       "      <td>...</td>\n",
       "      <td>...</td>\n",
       "      <td>...</td>\n",
       "      <td>...</td>\n",
       "      <td>...</td>\n",
       "      <td>...</td>\n",
       "      <td>...</td>\n",
       "      <td>...</td>\n",
       "    </tr>\n",
       "    <tr>\n",
       "      <th>7670</th>\n",
       "      <td>s7669</td>\n",
       "      <td>TV Show</td>\n",
       "      <td>World War II in Colour</td>\n",
       "      <td>NaN</td>\n",
       "      <td>Robert Powell</td>\n",
       "      <td>United Kingdom</td>\n",
       "      <td>2017-08-01</td>\n",
       "      <td>TV-MA</td>\n",
       "      <td>1 Season</td>\n",
       "      <td>British TV Shows, Docuseries, International TV...</td>\n",
       "      <td>Footage of the most dramatic moments from Worl...</td>\n",
       "      <td>2017.0</td>\n",
       "      <td>1</td>\n",
       "      <td>Season</td>\n",
       "    </tr>\n",
       "    <tr>\n",
       "      <th>7671</th>\n",
       "      <td>s7670</td>\n",
       "      <td>TV Show</td>\n",
       "      <td>World's Busiest Cities</td>\n",
       "      <td>NaN</td>\n",
       "      <td>Anita Rani, Ade Adepitan, Dan Snow</td>\n",
       "      <td>United Kingdom</td>\n",
       "      <td>2019-02-01</td>\n",
       "      <td>TV-PG</td>\n",
       "      <td>1 Season</td>\n",
       "      <td>British TV Shows, Docuseries</td>\n",
       "      <td>From Moscow to Mexico City, three BBC journali...</td>\n",
       "      <td>2019.0</td>\n",
       "      <td>1</td>\n",
       "      <td>Season</td>\n",
       "    </tr>\n",
       "    <tr>\n",
       "      <th>7688</th>\n",
       "      <td>s7687</td>\n",
       "      <td>Movie</td>\n",
       "      <td>XV: Beyond the Tryline</td>\n",
       "      <td>Pierre Deschamps</td>\n",
       "      <td>NaN</td>\n",
       "      <td>United Kingdom</td>\n",
       "      <td>2020-03-18</td>\n",
       "      <td>TV-14</td>\n",
       "      <td>91 min</td>\n",
       "      <td>Documentaries, Sports Movies</td>\n",
       "      <td>Set against the 2015 Rugby World Cup, this doc...</td>\n",
       "      <td>2020.0</td>\n",
       "      <td>91</td>\n",
       "      <td>min</td>\n",
       "    </tr>\n",
       "    <tr>\n",
       "      <th>7725</th>\n",
       "      <td>s7724</td>\n",
       "      <td>Movie</td>\n",
       "      <td>You Can Tutu</td>\n",
       "      <td>James Brown</td>\n",
       "      <td>Lily O'Regan, Jeannettsy Enriquez Borges, Joel...</td>\n",
       "      <td>United Kingdom</td>\n",
       "      <td>2017-12-31</td>\n",
       "      <td>TV-G</td>\n",
       "      <td>87 min</td>\n",
       "      <td>Children &amp; Family Movies</td>\n",
       "      <td>A gifted young ballet dancer struggles to find...</td>\n",
       "      <td>2017.0</td>\n",
       "      <td>87</td>\n",
       "      <td>min</td>\n",
       "    </tr>\n",
       "    <tr>\n",
       "      <th>7740</th>\n",
       "      <td>s7739</td>\n",
       "      <td>TV Show</td>\n",
       "      <td>Young Wallander</td>\n",
       "      <td>NaN</td>\n",
       "      <td>Adam Pålsson, Richard Dillane, Leanne Best, El...</td>\n",
       "      <td>United Kingdom</td>\n",
       "      <td>2020-09-03</td>\n",
       "      <td>TV-MA</td>\n",
       "      <td>1 Season</td>\n",
       "      <td>Crime TV Shows, International TV Shows, TV Dramas</td>\n",
       "      <td>An incendiary hate crime stirs civil unrest, f...</td>\n",
       "      <td>2020.0</td>\n",
       "      <td>1</td>\n",
       "      <td>Season</td>\n",
       "    </tr>\n",
       "  </tbody>\n",
       "</table>\n",
       "<p>485 rows × 14 columns</p>\n",
       "</div>"
      ],
      "text/plain": [
       "     Show_Id Category                   Title          Director  \\\n",
       "19       s20    Movie                      89               NaN   \n",
       "33       s34    Movie            #realityhigh  Fernando Lebrija   \n",
       "58       s59  TV Show             100% Hotter               NaN   \n",
       "72       s73    Movie                17 Again       Burr Steers   \n",
       "82       s83    Movie     2036 Origin Unknown     Hasraf Dulull   \n",
       "...      ...      ...                     ...               ...   \n",
       "7670   s7669  TV Show  World War II in Colour               NaN   \n",
       "7671   s7670  TV Show  World's Busiest Cities               NaN   \n",
       "7688   s7687    Movie  XV: Beyond the Tryline  Pierre Deschamps   \n",
       "7725   s7724    Movie            You Can Tutu       James Brown   \n",
       "7740   s7739  TV Show         Young Wallander               NaN   \n",
       "\n",
       "                                                   Cast         Country  \\\n",
       "19                   Lee Dixon, Ian Wright, Paul Merson  United Kingdom   \n",
       "33    Nesta Cooper, Kate Walsh, John Michael Higgins...   United States   \n",
       "58    Daniel Palmer, Melissa Sophia, Karen Williams,...  United Kingdom   \n",
       "72    Zac Efron, Leslie Mann, Matthew Perry, Thomas ...   United States   \n",
       "82    Katee Sackhoff, Ray Fearon, Julie Cox, Steven ...  United Kingdom   \n",
       "...                                                 ...             ...   \n",
       "7670                                      Robert Powell  United Kingdom   \n",
       "7671                 Anita Rani, Ade Adepitan, Dan Snow  United Kingdom   \n",
       "7688                                                NaN  United Kingdom   \n",
       "7725  Lily O'Regan, Jeannettsy Enriquez Borges, Joel...  United Kingdom   \n",
       "7740  Adam Pålsson, Richard Dillane, Leanne Best, El...  United Kingdom   \n",
       "\n",
       "     Release_Date Rating  Duration  \\\n",
       "19     2018-05-16  TV-PG    87 min   \n",
       "33     2017-09-08  TV-14    99 min   \n",
       "58     2019-11-01  TV-14  1 Season   \n",
       "72     2021-01-01  PG-13   102 min   \n",
       "82     2018-12-20  TV-14    95 min   \n",
       "...           ...    ...       ...   \n",
       "7670   2017-08-01  TV-MA  1 Season   \n",
       "7671   2019-02-01  TV-PG  1 Season   \n",
       "7688   2020-03-18  TV-14    91 min   \n",
       "7725   2017-12-31   TV-G    87 min   \n",
       "7740   2020-09-03  TV-MA  1 Season   \n",
       "\n",
       "                                                   Type  \\\n",
       "19                                        Sports Movies   \n",
       "33                                             Comedies   \n",
       "58    British TV Shows, International TV Shows, Real...   \n",
       "72                                             Comedies   \n",
       "82                                     Sci-Fi & Fantasy   \n",
       "...                                                 ...   \n",
       "7670  British TV Shows, Docuseries, International TV...   \n",
       "7671                       British TV Shows, Docuseries   \n",
       "7688                       Documentaries, Sports Movies   \n",
       "7725                           Children & Family Movies   \n",
       "7740  Crime TV Shows, International TV Shows, TV Dramas   \n",
       "\n",
       "                                            Description    Year  \\\n",
       "19    Mixing old footage with interviews, this is th...  2018.0   \n",
       "33    When nerdy high schooler Dani finally attracts...  2017.0   \n",
       "58    A stylist, a hair designer and a makeup artist...  2019.0   \n",
       "72    Nearing a midlife crisis, thirty-something Mik...  2021.0   \n",
       "82    Working with an artificial intelligence to inv...  2018.0   \n",
       "...                                                 ...     ...   \n",
       "7670  Footage of the most dramatic moments from Worl...  2017.0   \n",
       "7671  From Moscow to Mexico City, three BBC journali...  2019.0   \n",
       "7688  Set against the 2015 Rugby World Cup, this doc...  2020.0   \n",
       "7725  A gifted young ballet dancer struggles to find...  2017.0   \n",
       "7740  An incendiary hate crime stirs civil unrest, f...  2020.0   \n",
       "\n",
       "      Duration_length    Unit  \n",
       "19                 87     min  \n",
       "33                 99     min  \n",
       "58                  1  Season  \n",
       "72                102     min  \n",
       "82                 95     min  \n",
       "...               ...     ...  \n",
       "7670                1  Season  \n",
       "7671                1  Season  \n",
       "7688               91     min  \n",
       "7725               87     min  \n",
       "7740                1  Season  \n",
       "\n",
       "[485 rows x 14 columns]"
      ]
     },
     "execution_count": 86,
     "metadata": {},
     "output_type": "execute_result"
    }
   ],
   "source": [
    "data[((data[\"Category\"]==\"Movie\") & (data[\"Type\"]==\"Comedies\")| (data[\"Country\"]==\"United Kingdom\"))]"
   ]
  },
  {
   "cell_type": "markdown",
   "id": "4d7f9792",
   "metadata": {},
   "source": [
    "###### Q16. In how many movies/shows, Tom Cruise was cast ?"
   ]
  },
  {
   "cell_type": "code",
   "execution_count": 87,
   "id": "4b0749fd",
   "metadata": {},
   "outputs": [
    {
     "data": {
      "text/html": [
       "<div>\n",
       "<style scoped>\n",
       "    .dataframe tbody tr th:only-of-type {\n",
       "        vertical-align: middle;\n",
       "    }\n",
       "\n",
       "    .dataframe tbody tr th {\n",
       "        vertical-align: top;\n",
       "    }\n",
       "\n",
       "    .dataframe thead th {\n",
       "        text-align: right;\n",
       "    }\n",
       "</style>\n",
       "<table border=\"1\" class=\"dataframe\">\n",
       "  <thead>\n",
       "    <tr style=\"text-align: right;\">\n",
       "      <th></th>\n",
       "      <th>Show_Id</th>\n",
       "      <th>Category</th>\n",
       "      <th>Title</th>\n",
       "      <th>Director</th>\n",
       "      <th>Cast</th>\n",
       "      <th>Country</th>\n",
       "      <th>Release_Date</th>\n",
       "      <th>Rating</th>\n",
       "      <th>Duration</th>\n",
       "      <th>Type</th>\n",
       "      <th>Description</th>\n",
       "      <th>Year</th>\n",
       "      <th>Duration_length</th>\n",
       "      <th>Unit</th>\n",
       "    </tr>\n",
       "  </thead>\n",
       "  <tbody>\n",
       "    <tr>\n",
       "      <th>3860</th>\n",
       "      <td>s3861</td>\n",
       "      <td>Movie</td>\n",
       "      <td>Magnolia</td>\n",
       "      <td>Paul Thomas Anderson</td>\n",
       "      <td>Jeremy Blackman, Tom Cruise, Melinda Dillon, A...</td>\n",
       "      <td>United States</td>\n",
       "      <td>2020-01-01</td>\n",
       "      <td>R</td>\n",
       "      <td>189 min</td>\n",
       "      <td>Dramas, Independent Movies</td>\n",
       "      <td>Through chance, human action, past history and...</td>\n",
       "      <td>2020.0</td>\n",
       "      <td>189</td>\n",
       "      <td>min</td>\n",
       "    </tr>\n",
       "    <tr>\n",
       "      <th>5071</th>\n",
       "      <td>s5071</td>\n",
       "      <td>Movie</td>\n",
       "      <td>Rain Man</td>\n",
       "      <td>Barry Levinson</td>\n",
       "      <td>Dustin Hoffman, Tom Cruise, Valeria Golino, Ge...</td>\n",
       "      <td>United States</td>\n",
       "      <td>2019-07-01</td>\n",
       "      <td>R</td>\n",
       "      <td>134 min</td>\n",
       "      <td>Classic Movies, Dramas</td>\n",
       "      <td>A fast-talking yuppie is forced to slow down w...</td>\n",
       "      <td>2019.0</td>\n",
       "      <td>134</td>\n",
       "      <td>min</td>\n",
       "    </tr>\n",
       "  </tbody>\n",
       "</table>\n",
       "</div>"
      ],
      "text/plain": [
       "     Show_Id Category     Title              Director  \\\n",
       "3860   s3861    Movie  Magnolia  Paul Thomas Anderson   \n",
       "5071   s5071    Movie  Rain Man        Barry Levinson   \n",
       "\n",
       "                                                   Cast        Country  \\\n",
       "3860  Jeremy Blackman, Tom Cruise, Melinda Dillon, A...  United States   \n",
       "5071  Dustin Hoffman, Tom Cruise, Valeria Golino, Ge...  United States   \n",
       "\n",
       "     Release_Date Rating Duration                        Type  \\\n",
       "3860   2020-01-01      R  189 min  Dramas, Independent Movies   \n",
       "5071   2019-07-01      R  134 min      Classic Movies, Dramas   \n",
       "\n",
       "                                            Description    Year  \\\n",
       "3860  Through chance, human action, past history and...  2020.0   \n",
       "5071  A fast-talking yuppie is forced to slow down w...  2019.0   \n",
       "\n",
       "      Duration_length Unit  \n",
       "3860              189  min  \n",
       "5071              134  min  "
      ]
     },
     "execution_count": 87,
     "metadata": {},
     "output_type": "execute_result"
    }
   ],
   "source": [
    "data[data['Cast'].str.contains('Tom Cruise',na=False,case=False)]       # na=False exclude cast which have nan value"
   ]
  },
  {
   "cell_type": "markdown",
   "id": "e832be3a",
   "metadata": {},
   "source": [
    "###### Q17. What are the different Ratings defined by Netflix ?"
   ]
  },
  {
   "cell_type": "code",
   "execution_count": 88,
   "id": "4b96554d",
   "metadata": {},
   "outputs": [
    {
     "name": "stdout",
     "output_type": "stream",
     "text": [
      "Types of rating= 14\n",
      "Diffrent types= ['TV-MA' 'R' 'PG-13' 'TV-14' 'TV-PG' 'NR' 'TV-G' 'TV-Y' nan 'TV-Y7' 'PG'\n",
      " 'G' 'NC-17' 'TV-Y7-FV' 'UR']\n"
     ]
    }
   ],
   "source": [
    "print(\"Types of rating=\",data.Rating.nunique())\n",
    "print(\"Diffrent types=\",data.Rating.unique())"
   ]
  },
  {
   "cell_type": "markdown",
   "id": "54982fa1",
   "metadata": {},
   "source": [
    "###### Q18. How many Movies got the 'TV-14' rating, in Canada ?"
   ]
  },
  {
   "cell_type": "code",
   "execution_count": 89,
   "id": "2e5b4c1c",
   "metadata": {},
   "outputs": [
    {
     "data": {
      "text/plain": [
       "1272"
      ]
     },
     "execution_count": 89,
     "metadata": {},
     "output_type": "execute_result"
    }
   ],
   "source": [
    "data[(data[\"Category\"]==\"Movie\") & (data[\"Rating\"]==\"TV-14\")].shape[0]"
   ]
  },
  {
   "cell_type": "markdown",
   "id": "760dbd89",
   "metadata": {},
   "source": [
    "###### Q19. How many TV Show got the 'R' rating, after year 2018 ?"
   ]
  },
  {
   "cell_type": "code",
   "execution_count": 90,
   "id": "137c7bc2",
   "metadata": {},
   "outputs": [
    {
     "data": {
      "text/html": [
       "<div>\n",
       "<style scoped>\n",
       "    .dataframe tbody tr th:only-of-type {\n",
       "        vertical-align: middle;\n",
       "    }\n",
       "\n",
       "    .dataframe tbody tr th {\n",
       "        vertical-align: top;\n",
       "    }\n",
       "\n",
       "    .dataframe thead th {\n",
       "        text-align: right;\n",
       "    }\n",
       "</style>\n",
       "<table border=\"1\" class=\"dataframe\">\n",
       "  <thead>\n",
       "    <tr style=\"text-align: right;\">\n",
       "      <th></th>\n",
       "      <th>Show_Id</th>\n",
       "      <th>Category</th>\n",
       "      <th>Title</th>\n",
       "      <th>Director</th>\n",
       "      <th>Cast</th>\n",
       "      <th>Country</th>\n",
       "      <th>Release_Date</th>\n",
       "      <th>Rating</th>\n",
       "      <th>Duration</th>\n",
       "      <th>Type</th>\n",
       "      <th>Description</th>\n",
       "      <th>Year</th>\n",
       "      <th>Duration_length</th>\n",
       "      <th>Unit</th>\n",
       "    </tr>\n",
       "  </thead>\n",
       "  <tbody>\n",
       "    <tr>\n",
       "      <th>6437</th>\n",
       "      <td>s6436</td>\n",
       "      <td>TV Show</td>\n",
       "      <td>The Hateful Eight: Extended Version</td>\n",
       "      <td>Quentin Tarantino</td>\n",
       "      <td>Samuel L. Jackson, Kurt Russell, Jennifer Jaso...</td>\n",
       "      <td>NaN</td>\n",
       "      <td>2019-04-25</td>\n",
       "      <td>R</td>\n",
       "      <td>1 Season</td>\n",
       "      <td>TV Shows</td>\n",
       "      <td>Trapped at a stagecoach stop as a storm rages ...</td>\n",
       "      <td>2019.0</td>\n",
       "      <td>1</td>\n",
       "      <td>Season</td>\n",
       "    </tr>\n",
       "  </tbody>\n",
       "</table>\n",
       "</div>"
      ],
      "text/plain": [
       "     Show_Id Category                                Title           Director  \\\n",
       "6437   s6436  TV Show  The Hateful Eight: Extended Version  Quentin Tarantino   \n",
       "\n",
       "                                                   Cast Country Release_Date  \\\n",
       "6437  Samuel L. Jackson, Kurt Russell, Jennifer Jaso...     NaN   2019-04-25   \n",
       "\n",
       "     Rating  Duration      Type  \\\n",
       "6437      R  1 Season  TV Shows   \n",
       "\n",
       "                                            Description    Year  \\\n",
       "6437  Trapped at a stagecoach stop as a storm rages ...  2019.0   \n",
       "\n",
       "      Duration_length    Unit  \n",
       "6437                1  Season  "
      ]
     },
     "execution_count": 90,
     "metadata": {},
     "output_type": "execute_result"
    }
   ],
   "source": [
    "data[((data[\"Category\"]==\"TV Show\")&(data[\"Rating\"]==\"R\")&(data[\"Year\"]> 2018))]"
   ]
  },
  {
   "cell_type": "markdown",
   "id": "195adc11",
   "metadata": {},
   "source": [
    "###### Q20. What is the maximum duration of a Movie/Show on Netflix ?"
   ]
  },
  {
   "cell_type": "code",
   "execution_count": 92,
   "id": "e4303655",
   "metadata": {},
   "outputs": [
    {
     "data": {
      "text/plain": [
       "312"
      ]
     },
     "execution_count": 92,
     "metadata": {},
     "output_type": "execute_result"
    }
   ],
   "source": [
    "data.Duration_length.max()"
   ]
  },
  {
   "cell_type": "code",
   "execution_count": 94,
   "id": "da31e2a8",
   "metadata": {},
   "outputs": [
    {
     "data": {
      "text/html": [
       "<div>\n",
       "<style scoped>\n",
       "    .dataframe tbody tr th:only-of-type {\n",
       "        vertical-align: middle;\n",
       "    }\n",
       "\n",
       "    .dataframe tbody tr th {\n",
       "        vertical-align: top;\n",
       "    }\n",
       "\n",
       "    .dataframe thead th {\n",
       "        text-align: right;\n",
       "    }\n",
       "</style>\n",
       "<table border=\"1\" class=\"dataframe\">\n",
       "  <thead>\n",
       "    <tr style=\"text-align: right;\">\n",
       "      <th></th>\n",
       "      <th>Show_Id</th>\n",
       "      <th>Category</th>\n",
       "      <th>Title</th>\n",
       "      <th>Director</th>\n",
       "      <th>Cast</th>\n",
       "      <th>Country</th>\n",
       "      <th>Release_Date</th>\n",
       "      <th>Rating</th>\n",
       "      <th>Duration</th>\n",
       "      <th>Type</th>\n",
       "      <th>Description</th>\n",
       "      <th>Year</th>\n",
       "      <th>Duration_length</th>\n",
       "      <th>Unit</th>\n",
       "    </tr>\n",
       "  </thead>\n",
       "  <tbody>\n",
       "    <tr>\n",
       "      <th>957</th>\n",
       "      <td>s958</td>\n",
       "      <td>Movie</td>\n",
       "      <td>Black Mirror: Bandersnatch</td>\n",
       "      <td>NaN</td>\n",
       "      <td>Fionn Whitehead, Will Poulter, Craig Parkinson...</td>\n",
       "      <td>United States</td>\n",
       "      <td>2018-12-28</td>\n",
       "      <td>TV-MA</td>\n",
       "      <td>312 min</td>\n",
       "      <td>Dramas, International Movies, Sci-Fi &amp; Fantasy</td>\n",
       "      <td>In 1984, a young programmer begins to question...</td>\n",
       "      <td>2018.0</td>\n",
       "      <td>312</td>\n",
       "      <td>min</td>\n",
       "    </tr>\n",
       "  </tbody>\n",
       "</table>\n",
       "</div>"
      ],
      "text/plain": [
       "    Show_Id Category                       Title Director  \\\n",
       "957    s958    Movie  Black Mirror: Bandersnatch      NaN   \n",
       "\n",
       "                                                  Cast        Country  \\\n",
       "957  Fionn Whitehead, Will Poulter, Craig Parkinson...  United States   \n",
       "\n",
       "    Release_Date Rating Duration  \\\n",
       "957   2018-12-28  TV-MA  312 min   \n",
       "\n",
       "                                               Type  \\\n",
       "957  Dramas, International Movies, Sci-Fi & Fantasy   \n",
       "\n",
       "                                           Description    Year  \\\n",
       "957  In 1984, a young programmer begins to question...  2018.0   \n",
       "\n",
       "     Duration_length Unit  \n",
       "957              312  min  "
      ]
     },
     "execution_count": 94,
     "metadata": {},
     "output_type": "execute_result"
    }
   ],
   "source": [
    "data.sort_values(by=\"Duration_length\",ascending=False).head(1)\n"
   ]
  },
  {
   "cell_type": "markdown",
   "id": "56f240db",
   "metadata": {},
   "source": [
    "###### Q21. Which individual country has the Highest No. of TV Shows ?"
   ]
  },
  {
   "cell_type": "code",
   "execution_count": 95,
   "id": "b95bd030",
   "metadata": {},
   "outputs": [
    {
     "name": "stdout",
     "output_type": "stream",
     "text": [
      "Country highest number of TV Shows= United States\n",
      "Number of TV shows= 705\n"
     ]
    }
   ],
   "source": [
    "individual_country=data[data[\"Category\"] == \"TV Show\"][\"Country\"].value_counts()\n",
    "print(\"Country highest number of TV Shows=\",individual_country.idxmax())\n",
    "print(\"Number of TV shows=\",individual_country.max())"
   ]
  },
  {
   "cell_type": "markdown",
   "id": "24abcce5",
   "metadata": {},
   "source": [
    "Q22. How can we sort the dataset by Year ?"
   ]
  },
  {
   "cell_type": "code",
   "execution_count": 97,
   "id": "07b6b1a4",
   "metadata": {},
   "outputs": [
    {
     "data": {
      "text/plain": [
       "2019.0    2153\n",
       "2020.0    2009\n",
       "2018.0    1685\n",
       "2017.0    1225\n",
       "2016.0     443\n",
       "2021.0     117\n",
       "2015.0      88\n",
       "2014.0      25\n",
       "2011.0      13\n",
       "2013.0      11\n",
       "2012.0       3\n",
       "2008.0       2\n",
       "2009.0       2\n",
       "2010.0       1\n",
       "Name: Year, dtype: int64"
      ]
     },
     "execution_count": 97,
     "metadata": {},
     "output_type": "execute_result"
    }
   ],
   "source": [
    "data.Year.value_counts()"
   ]
  },
  {
   "cell_type": "markdown",
   "id": "582a656e",
   "metadata": {},
   "source": [
    "###### Q23. Find all the instances where : Category is 'Movie' and Type is 'Dramas' or Category is 'TV Show' & Type is 'Kids' TV' ?"
   ]
  },
  {
   "cell_type": "code",
   "execution_count": 98,
   "id": "d6fb0263",
   "metadata": {},
   "outputs": [
    {
     "data": {
      "text/html": [
       "<div>\n",
       "<style scoped>\n",
       "    .dataframe tbody tr th:only-of-type {\n",
       "        vertical-align: middle;\n",
       "    }\n",
       "\n",
       "    .dataframe tbody tr th {\n",
       "        vertical-align: top;\n",
       "    }\n",
       "\n",
       "    .dataframe thead th {\n",
       "        text-align: right;\n",
       "    }\n",
       "</style>\n",
       "<table border=\"1\" class=\"dataframe\">\n",
       "  <thead>\n",
       "    <tr style=\"text-align: right;\">\n",
       "      <th></th>\n",
       "      <th>Show_Id</th>\n",
       "      <th>Category</th>\n",
       "      <th>Title</th>\n",
       "      <th>Director</th>\n",
       "      <th>Cast</th>\n",
       "      <th>Country</th>\n",
       "      <th>Release_Date</th>\n",
       "      <th>Rating</th>\n",
       "      <th>Duration</th>\n",
       "      <th>Type</th>\n",
       "      <th>Description</th>\n",
       "      <th>Year</th>\n",
       "      <th>Duration_length</th>\n",
       "      <th>Unit</th>\n",
       "    </tr>\n",
       "  </thead>\n",
       "  <tbody>\n",
       "    <tr>\n",
       "      <th>4</th>\n",
       "      <td>s5</td>\n",
       "      <td>Movie</td>\n",
       "      <td>21</td>\n",
       "      <td>Robert Luketic</td>\n",
       "      <td>Jim Sturgess, Kevin Spacey, Kate Bosworth, Aar...</td>\n",
       "      <td>United States</td>\n",
       "      <td>2020-01-01</td>\n",
       "      <td>PG-13</td>\n",
       "      <td>123 min</td>\n",
       "      <td>Dramas</td>\n",
       "      <td>A brilliant group of students become card-coun...</td>\n",
       "      <td>2020.0</td>\n",
       "      <td>123</td>\n",
       "      <td>min</td>\n",
       "    </tr>\n",
       "    <tr>\n",
       "      <th>7</th>\n",
       "      <td>s8</td>\n",
       "      <td>Movie</td>\n",
       "      <td>187</td>\n",
       "      <td>Kevin Reynolds</td>\n",
       "      <td>Samuel L. Jackson, John Heard, Kelly Rowan, Cl...</td>\n",
       "      <td>United States</td>\n",
       "      <td>2019-11-01</td>\n",
       "      <td>R</td>\n",
       "      <td>119 min</td>\n",
       "      <td>Dramas</td>\n",
       "      <td>After one of his high school students attacks ...</td>\n",
       "      <td>2019.0</td>\n",
       "      <td>119</td>\n",
       "      <td>min</td>\n",
       "    </tr>\n",
       "    <tr>\n",
       "      <th>111</th>\n",
       "      <td>s112</td>\n",
       "      <td>TV Show</td>\n",
       "      <td>44 Cats</td>\n",
       "      <td>NaN</td>\n",
       "      <td>Sarah Natochenny, Suzy Myers, Simona Berman, E...</td>\n",
       "      <td>Italy</td>\n",
       "      <td>2020-10-01</td>\n",
       "      <td>TV-Y7</td>\n",
       "      <td>2 Seasons</td>\n",
       "      <td>Kids' TV</td>\n",
       "      <td>Paw-esome tales abound when singing furry frie...</td>\n",
       "      <td>2020.0</td>\n",
       "      <td>2</td>\n",
       "      <td>Seasons</td>\n",
       "    </tr>\n",
       "    <tr>\n",
       "      <th>170</th>\n",
       "      <td>s171</td>\n",
       "      <td>Movie</td>\n",
       "      <td>A Family Man</td>\n",
       "      <td>Mark Williams</td>\n",
       "      <td>Gerard Butler, Gretchen Mol, Alison Brie, Will...</td>\n",
       "      <td>Canada, United States</td>\n",
       "      <td>2019-12-15</td>\n",
       "      <td>R</td>\n",
       "      <td>110 min</td>\n",
       "      <td>Dramas</td>\n",
       "      <td>A ruthless corporate headhunter battles his ri...</td>\n",
       "      <td>2019.0</td>\n",
       "      <td>110</td>\n",
       "      <td>min</td>\n",
       "    </tr>\n",
       "    <tr>\n",
       "      <th>232</th>\n",
       "      <td>s233</td>\n",
       "      <td>Movie</td>\n",
       "      <td>A Stoning in Fulham County</td>\n",
       "      <td>Larry Elikann</td>\n",
       "      <td>Ken Olin, Jill Eikenberry, Maureen Mueller, Gr...</td>\n",
       "      <td>United States</td>\n",
       "      <td>2011-10-01</td>\n",
       "      <td>TV-14</td>\n",
       "      <td>95 min</td>\n",
       "      <td>Dramas</td>\n",
       "      <td>After reckless teens kill an Amish child, a pr...</td>\n",
       "      <td>2011.0</td>\n",
       "      <td>95</td>\n",
       "      <td>min</td>\n",
       "    </tr>\n",
       "    <tr>\n",
       "      <th>...</th>\n",
       "      <td>...</td>\n",
       "      <td>...</td>\n",
       "      <td>...</td>\n",
       "      <td>...</td>\n",
       "      <td>...</td>\n",
       "      <td>...</td>\n",
       "      <td>...</td>\n",
       "      <td>...</td>\n",
       "      <td>...</td>\n",
       "      <td>...</td>\n",
       "      <td>...</td>\n",
       "      <td>...</td>\n",
       "      <td>...</td>\n",
       "      <td>...</td>\n",
       "    </tr>\n",
       "    <tr>\n",
       "      <th>7668</th>\n",
       "      <td>s7667</td>\n",
       "      <td>TV Show</td>\n",
       "      <td>World of Winx</td>\n",
       "      <td>Iginio Straffi</td>\n",
       "      <td>Haven Paschall, Alysha Deslorieux, Jessica Paq...</td>\n",
       "      <td>Italy, United States</td>\n",
       "      <td>2017-06-16</td>\n",
       "      <td>TV-Y7</td>\n",
       "      <td>2 Seasons</td>\n",
       "      <td>Kids' TV</td>\n",
       "      <td>The reality show \"WOW!\" engages the Winx in th...</td>\n",
       "      <td>2017.0</td>\n",
       "      <td>2</td>\n",
       "      <td>Seasons</td>\n",
       "    </tr>\n",
       "    <tr>\n",
       "      <th>7717</th>\n",
       "      <td>s7716</td>\n",
       "      <td>TV Show</td>\n",
       "      <td>Yoko</td>\n",
       "      <td>NaN</td>\n",
       "      <td>Eileen Stevens, Alyson Leigh Rosenfeld, Sarah ...</td>\n",
       "      <td>NaN</td>\n",
       "      <td>2018-06-23</td>\n",
       "      <td>TV-Y</td>\n",
       "      <td>1 Season</td>\n",
       "      <td>Kids' TV</td>\n",
       "      <td>Friends Mai, Oto and Vik's games at the park b...</td>\n",
       "      <td>2018.0</td>\n",
       "      <td>1</td>\n",
       "      <td>Season</td>\n",
       "    </tr>\n",
       "    <tr>\n",
       "      <th>7719</th>\n",
       "      <td>s7718</td>\n",
       "      <td>TV Show</td>\n",
       "      <td>YOM</td>\n",
       "      <td>NaN</td>\n",
       "      <td>Sairaj, Devyani Dagaonkar, Ketan Singh, Mayur ...</td>\n",
       "      <td>NaN</td>\n",
       "      <td>2018-06-07</td>\n",
       "      <td>TV-Y7</td>\n",
       "      <td>1 Season</td>\n",
       "      <td>Kids' TV</td>\n",
       "      <td>With the mind of a human being, and the body o...</td>\n",
       "      <td>2018.0</td>\n",
       "      <td>1</td>\n",
       "      <td>Season</td>\n",
       "    </tr>\n",
       "    <tr>\n",
       "      <th>7758</th>\n",
       "      <td>s7757</td>\n",
       "      <td>TV Show</td>\n",
       "      <td>Z4</td>\n",
       "      <td>NaN</td>\n",
       "      <td>Apollo Costa, Gabriel Santana, Matheus Lustosa...</td>\n",
       "      <td>Brazil</td>\n",
       "      <td>2019-02-22</td>\n",
       "      <td>TV-PG</td>\n",
       "      <td>2 Seasons</td>\n",
       "      <td>Kids' TV</td>\n",
       "      <td>Fading music biz veteran Zé realizes he has ju...</td>\n",
       "      <td>2019.0</td>\n",
       "      <td>2</td>\n",
       "      <td>Seasons</td>\n",
       "    </tr>\n",
       "    <tr>\n",
       "      <th>7761</th>\n",
       "      <td>s7760</td>\n",
       "      <td>TV Show</td>\n",
       "      <td>Zak Storm</td>\n",
       "      <td>NaN</td>\n",
       "      <td>Michael Johnston, Jessica Gee-George, Christin...</td>\n",
       "      <td>United States, France, South Korea, Indonesia</td>\n",
       "      <td>2018-09-13</td>\n",
       "      <td>TV-Y7</td>\n",
       "      <td>3 Seasons</td>\n",
       "      <td>Kids' TV</td>\n",
       "      <td>Teen surfer Zak Storm is mysteriously transpor...</td>\n",
       "      <td>2018.0</td>\n",
       "      <td>3</td>\n",
       "      <td>Seasons</td>\n",
       "    </tr>\n",
       "  </tbody>\n",
       "</table>\n",
       "<p>322 rows × 14 columns</p>\n",
       "</div>"
      ],
      "text/plain": [
       "     Show_Id Category                       Title        Director  \\\n",
       "4         s5    Movie                          21  Robert Luketic   \n",
       "7         s8    Movie                         187  Kevin Reynolds   \n",
       "111     s112  TV Show                     44 Cats             NaN   \n",
       "170     s171    Movie                A Family Man   Mark Williams   \n",
       "232     s233    Movie  A Stoning in Fulham County   Larry Elikann   \n",
       "...      ...      ...                         ...             ...   \n",
       "7668   s7667  TV Show               World of Winx  Iginio Straffi   \n",
       "7717   s7716  TV Show                        Yoko             NaN   \n",
       "7719   s7718  TV Show                         YOM             NaN   \n",
       "7758   s7757  TV Show                          Z4             NaN   \n",
       "7761   s7760  TV Show                   Zak Storm             NaN   \n",
       "\n",
       "                                                   Cast  \\\n",
       "4     Jim Sturgess, Kevin Spacey, Kate Bosworth, Aar...   \n",
       "7     Samuel L. Jackson, John Heard, Kelly Rowan, Cl...   \n",
       "111   Sarah Natochenny, Suzy Myers, Simona Berman, E...   \n",
       "170   Gerard Butler, Gretchen Mol, Alison Brie, Will...   \n",
       "232   Ken Olin, Jill Eikenberry, Maureen Mueller, Gr...   \n",
       "...                                                 ...   \n",
       "7668  Haven Paschall, Alysha Deslorieux, Jessica Paq...   \n",
       "7717  Eileen Stevens, Alyson Leigh Rosenfeld, Sarah ...   \n",
       "7719  Sairaj, Devyani Dagaonkar, Ketan Singh, Mayur ...   \n",
       "7758  Apollo Costa, Gabriel Santana, Matheus Lustosa...   \n",
       "7761  Michael Johnston, Jessica Gee-George, Christin...   \n",
       "\n",
       "                                            Country Release_Date Rating  \\\n",
       "4                                     United States   2020-01-01  PG-13   \n",
       "7                                     United States   2019-11-01      R   \n",
       "111                                           Italy   2020-10-01  TV-Y7   \n",
       "170                           Canada, United States   2019-12-15      R   \n",
       "232                                   United States   2011-10-01  TV-14   \n",
       "...                                             ...          ...    ...   \n",
       "7668                           Italy, United States   2017-06-16  TV-Y7   \n",
       "7717                                            NaN   2018-06-23   TV-Y   \n",
       "7719                                            NaN   2018-06-07  TV-Y7   \n",
       "7758                                         Brazil   2019-02-22  TV-PG   \n",
       "7761  United States, France, South Korea, Indonesia   2018-09-13  TV-Y7   \n",
       "\n",
       "       Duration      Type                                        Description  \\\n",
       "4       123 min    Dramas  A brilliant group of students become card-coun...   \n",
       "7       119 min    Dramas  After one of his high school students attacks ...   \n",
       "111   2 Seasons  Kids' TV  Paw-esome tales abound when singing furry frie...   \n",
       "170     110 min    Dramas  A ruthless corporate headhunter battles his ri...   \n",
       "232      95 min    Dramas  After reckless teens kill an Amish child, a pr...   \n",
       "...         ...       ...                                                ...   \n",
       "7668  2 Seasons  Kids' TV  The reality show \"WOW!\" engages the Winx in th...   \n",
       "7717   1 Season  Kids' TV  Friends Mai, Oto and Vik's games at the park b...   \n",
       "7719   1 Season  Kids' TV  With the mind of a human being, and the body o...   \n",
       "7758  2 Seasons  Kids' TV  Fading music biz veteran Zé realizes he has ju...   \n",
       "7761  3 Seasons  Kids' TV  Teen surfer Zak Storm is mysteriously transpor...   \n",
       "\n",
       "        Year  Duration_length     Unit  \n",
       "4     2020.0              123      min  \n",
       "7     2019.0              119      min  \n",
       "111   2020.0                2  Seasons  \n",
       "170   2019.0              110      min  \n",
       "232   2011.0               95      min  \n",
       "...      ...              ...      ...  \n",
       "7668  2017.0                2  Seasons  \n",
       "7717  2018.0                1   Season  \n",
       "7719  2018.0                1   Season  \n",
       "7758  2019.0                2  Seasons  \n",
       "7761  2018.0                3  Seasons  \n",
       "\n",
       "[322 rows x 14 columns]"
      ]
     },
     "execution_count": 98,
     "metadata": {},
     "output_type": "execute_result"
    }
   ],
   "source": [
    "data[((data[\"Category\"]==\"Movie\") & (data[\"Type\"]==\"Dramas\")| (data[\"Category\"]==\"TV Show\")&(data[\"Type\"]==\"Kids' TV\"))]\n"
   ]
  },
  {
   "cell_type": "code",
   "execution_count": null,
   "id": "df5b918b",
   "metadata": {},
   "outputs": [],
   "source": []
  },
  {
   "cell_type": "code",
   "execution_count": null,
   "id": "564f826a",
   "metadata": {},
   "outputs": [],
   "source": []
  },
  {
   "cell_type": "code",
   "execution_count": null,
   "id": "3398eff9",
   "metadata": {},
   "outputs": [],
   "source": []
  },
  {
   "cell_type": "code",
   "execution_count": null,
   "id": "dfc649c2",
   "metadata": {},
   "outputs": [],
   "source": []
  }
 ],
 "metadata": {
  "kernelspec": {
   "display_name": "Python 3 (ipykernel)",
   "language": "python",
   "name": "python3"
  },
  "language_info": {
   "codemirror_mode": {
    "name": "ipython",
    "version": 3
   },
   "file_extension": ".py",
   "mimetype": "text/x-python",
   "name": "python",
   "nbconvert_exporter": "python",
   "pygments_lexer": "ipython3",
   "version": "3.11.3"
  }
 },
 "nbformat": 4,
 "nbformat_minor": 5
}
